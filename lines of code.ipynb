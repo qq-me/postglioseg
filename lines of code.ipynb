{
 "cells": [
  {
   "cell_type": "code",
   "execution_count": 3,
   "metadata": {},
   "outputs": [
    {
     "name": "stdout",
     "output_type": "stream",
     "text": [
      "14862 3269\n"
     ]
    }
   ],
   "source": [
    "from glob import glob\n",
    "from json import load\n",
    "def loc(nb):\n",
    "    try:\n",
    "        with open(nb, encoding='utf8') as f:\n",
    "         cells = load(f)[\"cells\"]\n",
    "         return sum(len(c[\"source\"]) for c in cells)\n",
    "    except:return 0\n",
    "def num_python_lines(file):\n",
    "    try:\n",
    "     with open(file, encoding='utf8') as f:\n",
    "        py = f.read()\n",
    "        count = 0\n",
    "        for line in py.split(\"\\n\"):\n",
    "            if line.startswith(\"#\"):\n",
    "                continue\n",
    "            if line.strip():\n",
    "                count += 1\n",
    "     return count\n",
    "    except:return 0\n",
    "\n",
    "root_folder = \".\"\n",
    "summation = 0\n",
    "sum_py = 0\n",
    "for File in glob(root_folder+\"/**/*.ipynb\", recursive=True):\n",
    "    summation += loc(File)\n",
    "for File in glob(root_folder+\"/**/*.py\", recursive=True):\n",
    "    sum_py += num_python_lines(File)\n",
    "print(summation, sum_py)"
   ]
  },
  {
   "cell_type": "code",
   "execution_count": 4,
   "metadata": {},
   "outputs": [
    {
     "data": {
      "text/plain": [
       "18131"
      ]
     },
     "execution_count": 4,
     "metadata": {},
     "output_type": "execute_result"
    }
   ],
   "source": [
    "14862  + 3269"
   ]
  },
  {
   "cell_type": "markdown",
   "metadata": {},
   "source": [
    "# 18131 СТРОК КОДА"
   ]
  }
 ],
 "metadata": {
  "kernelspec": {
   "display_name": "pytorch311",
   "language": "python",
   "name": "python3"
  },
  "language_info": {
   "codemirror_mode": {
    "name": "ipython",
    "version": 3
   },
   "file_extension": ".py",
   "mimetype": "text/x-python",
   "name": "python",
   "nbconvert_exporter": "python",
   "pygments_lexer": "ipython3",
   "version": "3.11.5"
  }
 },
 "nbformat": 4,
 "nbformat_minor": 2
}
