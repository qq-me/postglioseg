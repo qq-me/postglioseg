{
 "cells": [
  {
   "cell_type": "code",
   "execution_count": 1,
   "metadata": {},
   "outputs": [
    {
     "name": "stderr",
     "output_type": "stream",
     "text": [
      "d:\\miniconda3\\envs\\pytorch311\\Lib\\site-packages\\paramiko\\transport.py:219: CryptographyDeprecationWarning: Blowfish has been deprecated\n",
      "  \"class\": algorithms.Blowfish,\n"
     ]
    },
    {
     "data": {
      "application/vnd.jupyter.widget-view+json": {
       "model_id": "1a0b85569b174ac483cf1f65103d1a95",
       "version_major": 2,
       "version_minor": 0
      },
      "text/plain": [
       "interactive(children=(Checkbox(value=False, description='color'), IntSlider(value=13, description='s0', max=27…"
      ]
     },
     "metadata": {},
     "output_type": "display_data"
    }
   ],
   "source": [
    "from glio.specific.vkr2 import show_reference_preds_as_slices\n",
    "\n",
    "PATH = r'F:\\Stuff\\Programming\\experiments\\vkr\\training\\RHUH v2 full + BRATS v2 test, 32\\reference preds\\3. shuffle-dropout-int+flip, contextnet+adan+dicefocal lr1e-01 OneCycleLR'\n",
    "FILT = 'BRATS 1'\n",
    "\n",
    "print('loading...')\n",
    "show_reference_preds_as_slices(PATH, FILT)"
   ]
  }
 ],
 "metadata": {
  "kernelspec": {
   "display_name": "pytorch311",
   "language": "python",
   "name": "python3"
  },
  "language_info": {
   "codemirror_mode": {
    "name": "ipython",
    "version": 3
   },
   "file_extension": ".py",
   "mimetype": "text/x-python",
   "name": "python",
   "nbconvert_exporter": "python",
   "pygments_lexer": "ipython3",
   "version": "3.11.5"
  }
 },
 "nbformat": 4,
 "nbformat_minor": 2
}
