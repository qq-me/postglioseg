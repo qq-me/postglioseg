{
 "cells": [
  {
   "cell_type": "code",
   "execution_count": 1,
   "metadata": {},
   "outputs": [
    {
     "name": "stdout",
     "output_type": "stream",
     "text": [
      "Successfully loaded data from D:/datasets/mnist1d_data.pkl\n"
     ]
    }
   ],
   "source": [
    "import numpy as np\n",
    "import torch\n",
    "import joblib\n",
    "from stuff.found.mnist1d.data import get_dataset, get_dataset_args\n",
    "from glio.data import DSClassification, DSToTarget\n",
    "from glio.torch_tools import CUDA_IF_AVAILABLE\n",
    "\n",
    "__all__ = [\"get_mnist1d_classification\", \"get_mnist1d_autoenc\"]\n",
    "def _loader(x, device=CUDA_IF_AVAILABLE):\n",
    "    return torch.as_tensor(x, dtype=torch.float32, device=device).unsqueeze(0)\n",
    "\n",
    "def get_mnist1d_classification(path='D:/datasets/mnist1d_data.pkl', download=False, device=CUDA_IF_AVAILABLE):\n",
    "    args = get_dataset_args()\n",
    "    data = get_dataset(args, path, download=download)\n",
    "    dstrain = DSClassification()\n",
    "    dstest = DSClassification()\n",
    "    x = data['x']\n",
    "    y = data['y']\n",
    "    xtest = data['x_test']\n",
    "    ytest = data['y_test']\n",
    "    for sx, sy in zip(x, y):\n",
    "        dstrain.add_sample(data = sx, target = torch.nn.functional.one_hot(torch.from_numpy(np.array([sy])), 10)[0].to(device), loader = lambda x: _loader(x, device=device), target_encoder=None) # pylint:disable=E1102\n",
    "\n",
    "    for sx, sy in zip(xtest, ytest):\n",
    "        dstest.add_sample(data = sx, target = torch.nn.functional.one_hot(torch.from_numpy(np.array([sy])), 10)[0].to(device), loader = lambda x: _loader(x, device=device), target_encoder=None)# pylint:disable=E1102\n",
    "\n",
    "    dstrain.preload(); dstest.preload()\n",
    "    return dstrain, dstest\n",
    "\n",
    "def get_mnist1d_autoenc(path='D:/datasets/mnist1d_data.pkl', download=False, device=CUDA_IF_AVAILABLE):\n",
    "    args = get_dataset_args()\n",
    "    data = get_dataset(args, path, download=download)\n",
    "    dstrain = DSToTarget()\n",
    "    dstest = DSToTarget()\n",
    "    dstrain.add_samples(data = data[\"x\"], loader = lambda x: _loader(x, device=device))\n",
    "\n",
    "    dstest.add_samples(data = data['x_test'], loader = lambda x: _loader(x, device=device))\n",
    "\n",
    "    dstrain.preload(); dstest.preload()\n",
    "    return dstrain, dstest\n",
    "\n",
    "dstrain, dstest = get_mnist1d_classification()"
   ]
  },
  {
   "cell_type": "code",
   "execution_count": 2,
   "metadata": {},
   "outputs": [
    {
     "data": {
      "text/plain": [
       "(tensor([[-0.9939, -0.7080, -0.5977, -0.3484, -0.3525, -0.6252, -0.5411, -0.6469,\n",
       "          -0.7733, -0.3849,  0.0781, -0.4516,  1.7370,  2.6350,  3.0601,  3.0837,\n",
       "           2.4960,  1.5260,  0.0333,  0.5425,  0.8209,  0.8436,  1.0386,  1.4010,\n",
       "           1.5657,  1.3732,  0.8543,  0.7989,  1.0642,  1.2924,  1.4934,  1.5826,\n",
       "           1.2843,  0.9917,  1.0409,  1.2263,  1.7783,  1.7342,  1.9597,  2.4114]],\n",
       "        device='cuda:0'),\n",
       " tensor([1, 0, 0, 0, 0, 0, 0, 0, 0, 0], device='cuda:0'))"
      ]
     },
     "execution_count": 2,
     "metadata": {},
     "output_type": "execute_result"
    }
   ],
   "source": [
    "dstrain[656]"
   ]
  }
 ],
 "metadata": {
  "kernelspec": {
   "display_name": "pytorch311",
   "language": "python",
   "name": "python3"
  },
  "language_info": {
   "codemirror_mode": {
    "name": "ipython",
    "version": 3
   },
   "file_extension": ".py",
   "mimetype": "text/x-python",
   "name": "python",
   "nbconvert_exporter": "python",
   "pygments_lexer": "ipython3",
   "version": "3.11.5"
  }
 },
 "nbformat": 4,
 "nbformat_minor": 2
}
