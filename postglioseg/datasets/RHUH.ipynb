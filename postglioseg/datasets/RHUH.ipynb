{
 "cells": [
  {
   "cell_type": "code",
   "execution_count": 1,
   "metadata": {},
   "outputs": [],
   "source": [
    "from glio.loaders import nifti\n",
    "from glio.jupyter_tools import show_slices, show_slices_arr\n",
    "from glio.torch_tools import to_binary, center_of_mass, binary_erode3d\n",
    "import torch\n",
    "import polars as pl"
   ]
  },
  {
   "cell_type": "code",
   "execution_count": 2,
   "metadata": {},
   "outputs": [
    {
     "data": {
      "text/html": [
       "<div><style>\n",
       ".dataframe > thead > tr,\n",
       ".dataframe > tbody > tr {\n",
       "  text-align: right;\n",
       "  white-space: pre-wrap;\n",
       "}\n",
       "</style>\n",
       "<small>shape: (40, 23)</small><table border=\"1\" class=\"dataframe\"><thead><tr><th>Patient ID</th><th>Days from earliest imaging to surgery </th><th>Age</th><th>Sex</th><th>Preoperative KPS</th><th>Previous treatment = (no, surgery, surgery + QT/RT)</th><th>Histopathological subtype</th><th>WHO grade</th><th>IDH status = (mutant [mut], wild type [wt], NOS)</th><th>Operative adjuncts = (5&#x27; aminolevulinic acid [5ALA], Sodium Fluorescein - Yellow 560 [FL], Neuronavigation [NAV],  Intraoperative monitoring [IONM], Direct electrical stimulation [DES], intraoperative ultrasound [ioUS])</th><th>Preoperative  contrast enhancing tumor volume (cm3)</th><th>Postoperative contrast enhancing residual tumor (cm3)</th><th>Preoperative T2/FLAIR abnormality  (cm3) </th><th>Postoperative T2/FLAIR abmnormality (cm3)</th><th>Extent of resection [EOR]  %</th><th>EOR = (Gross total resection [GTR : 100%], Near total resection [NTR : &gt; 95%], Subtotal resection [STR : 91 - 94%], Partial resection [PR : &lt; 90 %]</th><th>Adjuvant therapy (Radiotherapy [RT], Temozolomide [TMZ])</th><th>Radiotherapy treatment details (technique/dose/number of fractions)</th><th>Postoperative Neurological Deficit</th><th>Postoperative KPS</th><th>Progression free survival [PFS] (days)</th><th>Overall survival [OS] (days)</th><th>Right Censored</th></tr><tr><td>str</td><td>i64</td><td>i64</td><td>str</td><td>i64</td><td>str</td><td>str</td><td>i64</td><td>str</td><td>str</td><td>f64</td><td>f64</td><td>f64</td><td>f64</td><td>f64</td><td>str</td><td>str</td><td>str</td><td>str</td><td>i64</td><td>i64</td><td>i64</td><td>str</td></tr></thead><tbody><tr><td>&quot;RHUH-0001&quot;</td><td>1</td><td>65</td><td>&quot;male&quot;</td><td>80</td><td>&quot;no&quot;</td><td>&quot;glioblastoma&quot;</td><td>4</td><td>&quot;mut&quot;</td><td>&quot;5ALA+NAV+ioUS&quot;</td><td>103.21</td><td>0.0</td><td>36.29</td><td>25.17</td><td>100.0</td><td>&quot;GTR&quot;</td><td>&quot;RT + TMZ&quot;</td><td>&quot;VMAT-IMRT-IGRT…</td><td>&quot;No&quot;</td><td>90</td><td>649</td><td>736</td><td>&quot;no&quot;</td></tr><tr><td>&quot;RHUH-0002&quot;</td><td>9</td><td>65</td><td>&quot;female&quot;</td><td>90</td><td>&quot;no&quot;</td><td>&quot;glioblastoma&quot;</td><td>4</td><td>&quot;wt&quot;</td><td>&quot;5ALA+NAV+ioUS&quot;</td><td>1.6</td><td>0.0</td><td>27.06</td><td>6.64</td><td>100.0</td><td>&quot;GTR&quot;</td><td>&quot;RT + TMZ&quot;</td><td>&quot;VMAT-IMRT-IGRT…</td><td>&quot;No&quot;</td><td>90</td><td>314</td><td>506</td><td>&quot;yes&quot;</td></tr><tr><td>&quot;RHUH-0003&quot;</td><td>6</td><td>75</td><td>&quot;male&quot;</td><td>80</td><td>&quot;no&quot;</td><td>&quot;glioblastoma&quot;</td><td>4</td><td>&quot;wt&quot;</td><td>&quot;5ALA+NAV+ioUS&quot;</td><td>15.26</td><td>0.0</td><td>26.17</td><td>1.05</td><td>100.0</td><td>&quot;GTR&quot;</td><td>&quot;RT + TMZ&quot;</td><td>&quot;VMAT-IMRT-IGRT…</td><td>&quot;No&quot;</td><td>80</td><td>135</td><td>235</td><td>&quot;no&quot;</td></tr><tr><td>&quot;RHUH-0004&quot;</td><td>5</td><td>64</td><td>&quot;female&quot;</td><td>90</td><td>&quot;no&quot;</td><td>&quot;glioblastoma&quot;</td><td>4</td><td>&quot;wt&quot;</td><td>&quot;5ALA+NAV+ioUS&quot;</td><td>13.15</td><td>0.0</td><td>105.27</td><td>45.38</td><td>100.0</td><td>&quot;GTR&quot;</td><td>&quot;RT + TMZ&quot;</td><td>&quot;VMAT-IMRT-IGRT…</td><td>&quot;No&quot;</td><td>90</td><td>705</td><td>947</td><td>&quot;no&quot;</td></tr><tr><td>&quot;RHUH-0005&quot;</td><td>9</td><td>52</td><td>&quot;male&quot;</td><td>70</td><td>&quot;no&quot;</td><td>&quot;glioblastoma&quot;</td><td>4</td><td>&quot;wt&quot;</td><td>&quot;5ALA+NAV+ioUS&quot;</td><td>12.28</td><td>0.22</td><td>55.3</td><td>29.3</td><td>98.2</td><td>&quot;NTR&quot;</td><td>&quot;RT + TMZ&quot;</td><td>&quot;VMAT-IMRT-IGRT…</td><td>&quot;Transient&quot;</td><td>70</td><td>468</td><td>723</td><td>&quot;no&quot;</td></tr><tr><td>&hellip;</td><td>&hellip;</td><td>&hellip;</td><td>&hellip;</td><td>&hellip;</td><td>&hellip;</td><td>&hellip;</td><td>&hellip;</td><td>&hellip;</td><td>&hellip;</td><td>&hellip;</td><td>&hellip;</td><td>&hellip;</td><td>&hellip;</td><td>&hellip;</td><td>&hellip;</td><td>&hellip;</td><td>&hellip;</td><td>&hellip;</td><td>&hellip;</td><td>&hellip;</td><td>&hellip;</td><td>&hellip;</td></tr><tr><td>&quot;RHUH-0036&quot;</td><td>19</td><td>60</td><td>&quot;female&quot;</td><td>70</td><td>&quot;no&quot;</td><td>&quot;glioblastoma&quot;</td><td>4</td><td>&quot;wt&quot;</td><td>&quot;5ALA+NAV+ioUS&quot;</td><td>31.57</td><td>0.0</td><td>141.74</td><td>23.65</td><td>100.0</td><td>&quot;GTR&quot;</td><td>&quot;RT + TMZ&quot;</td><td>&quot;VMAT-IMRT-IGRT…</td><td>&quot;No&quot;</td><td>90</td><td>587</td><td>841</td><td>&quot;no&quot;</td></tr><tr><td>&quot;RHUH-0037&quot;</td><td>33</td><td>45</td><td>&quot;male&quot;</td><td>90</td><td>&quot;no&quot;</td><td>&quot;glioblastoma&quot;</td><td>4</td><td>&quot;mut&quot;</td><td>&quot;5ALA+NAV+ioUS&quot;</td><td>7.85</td><td>0.0</td><td>59.73</td><td>10.39</td><td>100.0</td><td>&quot;GTR&quot;</td><td>&quot;RT + TMZ&quot;</td><td>&quot;VMAT-IMRT-IGRT…</td><td>&quot;No&quot;</td><td>80</td><td>351</td><td>656</td><td>&quot;no&quot;</td></tr><tr><td>&quot;RHUH-0038&quot;</td><td>1</td><td>69</td><td>&quot;male&quot;</td><td>90</td><td>&quot;no&quot;</td><td>&quot;glioblastoma&quot;</td><td>4</td><td>&quot;wt&quot;</td><td>&quot;5ALA+NAV+ioUS&quot;</td><td>52.89</td><td>0.0</td><td>125.46</td><td>81.82</td><td>100.0</td><td>&quot;GTR&quot;</td><td>&quot;RT + TMZ&quot;</td><td>&quot;VMAT-IMRT-IGRT…</td><td>&quot;No&quot;</td><td>90</td><td>172</td><td>331</td><td>&quot;no&quot;</td></tr><tr><td>&quot;RHUH-0039&quot;</td><td>1</td><td>67</td><td>&quot;female&quot;</td><td>80</td><td>&quot;no&quot;</td><td>&quot;glioblastoma&quot;</td><td>4</td><td>&quot;wt&quot;</td><td>&quot;5ALA+FL+NAV+io…</td><td>44.77</td><td>0.0</td><td>77.06</td><td>59.81</td><td>100.0</td><td>&quot;GTR&quot;</td><td>&quot;RT + TMZ&quot;</td><td>&quot;VMAT-IMRT-IGRT…</td><td>&quot;No&quot;</td><td>80</td><td>179</td><td>211</td><td>&quot;yes&quot;</td></tr><tr><td>&quot;RHUH-0040&quot;</td><td>1</td><td>60</td><td>&quot;male&quot;</td><td>70</td><td>&quot;no&quot;</td><td>&quot;glioblastoma&quot;</td><td>4</td><td>&quot;wt&quot;</td><td>&quot;5ALA+NAV+DES+i…</td><td>7.72</td><td>0.0</td><td>47.25</td><td>49.77</td><td>100.0</td><td>&quot;GTR&quot;</td><td>&quot;RT + TMZ&quot;</td><td>&quot;VMAT-IMRT-IGRT…</td><td>&quot;Transient&quot;</td><td>70</td><td>25</td><td>127</td><td>&quot;yes&quot;</td></tr></tbody></table></div>"
      ],
      "text/plain": [
       "shape: (40, 23)\n",
       "┌────────────┬─────────────┬─────┬────────┬───┬─────────────┬────────────┬────────────┬────────────┐\n",
       "│ Patient ID ┆ Days from   ┆ Age ┆ Sex    ┆ … ┆ Postoperati ┆ Progressio ┆ Overall    ┆ Right      │\n",
       "│ ---        ┆ earliest    ┆ --- ┆ ---    ┆   ┆ ve KPS      ┆ n free     ┆ survival   ┆ Censored   │\n",
       "│ str        ┆ imaging to  ┆ i64 ┆ str    ┆   ┆ ---         ┆ survival   ┆ [OS]       ┆ ---        │\n",
       "│            ┆ su…         ┆     ┆        ┆   ┆ i64         ┆ [PFS] …    ┆ (days)     ┆ str        │\n",
       "│            ┆ ---         ┆     ┆        ┆   ┆             ┆ ---        ┆ ---        ┆            │\n",
       "│            ┆ i64         ┆     ┆        ┆   ┆             ┆ i64        ┆ i64        ┆            │\n",
       "╞════════════╪═════════════╪═════╪════════╪═══╪═════════════╪════════════╪════════════╪════════════╡\n",
       "│ RHUH-0001  ┆ 1           ┆ 65  ┆ male   ┆ … ┆ 90          ┆ 649        ┆ 736        ┆ no         │\n",
       "│ RHUH-0002  ┆ 9           ┆ 65  ┆ female ┆ … ┆ 90          ┆ 314        ┆ 506        ┆ yes        │\n",
       "│ RHUH-0003  ┆ 6           ┆ 75  ┆ male   ┆ … ┆ 80          ┆ 135        ┆ 235        ┆ no         │\n",
       "│ RHUH-0004  ┆ 5           ┆ 64  ┆ female ┆ … ┆ 90          ┆ 705        ┆ 947        ┆ no         │\n",
       "│ RHUH-0005  ┆ 9           ┆ 52  ┆ male   ┆ … ┆ 70          ┆ 468        ┆ 723        ┆ no         │\n",
       "│ …          ┆ …           ┆ …   ┆ …      ┆ … ┆ …           ┆ …          ┆ …          ┆ …          │\n",
       "│ RHUH-0036  ┆ 19          ┆ 60  ┆ female ┆ … ┆ 90          ┆ 587        ┆ 841        ┆ no         │\n",
       "│ RHUH-0037  ┆ 33          ┆ 45  ┆ male   ┆ … ┆ 80          ┆ 351        ┆ 656        ┆ no         │\n",
       "│ RHUH-0038  ┆ 1           ┆ 69  ┆ male   ┆ … ┆ 90          ┆ 172        ┆ 331        ┆ no         │\n",
       "│ RHUH-0039  ┆ 1           ┆ 67  ┆ female ┆ … ┆ 80          ┆ 179        ┆ 211        ┆ yes        │\n",
       "│ RHUH-0040  ┆ 1           ┆ 60  ┆ male   ┆ … ┆ 70          ┆ 25         ┆ 127        ┆ yes        │\n",
       "└────────────┴─────────────┴─────┴────────┴───┴─────────────┴────────────┴────────────┴────────────┘"
      ]
     },
     "execution_count": 2,
     "metadata": {},
     "output_type": "execute_result"
    }
   ],
   "source": [
    "clinical_data = pl.read_csv(r\"E:\\dataset\\RHUH-GBM\\clinical_data_TCIA_RHUH-GBM.csv\")\n",
    "clinical_data"
   ]
  },
  {
   "cell_type": "code",
   "execution_count": 3,
   "metadata": {},
   "outputs": [
    {
     "data": {
      "application/vnd.jupyter.widget-view+json": {
       "model_id": "c3f09617e6f844de9fa2ca811e26db8b",
       "version_major": 2,
       "version_minor": 0
      },
      "text/plain": [
       "interactive(children=(Checkbox(value=False, description='color'), IntSlider(value=119, description='s0', max=2…"
      ]
     },
     "metadata": {},
     "output_type": "display_data"
    },
    {
     "data": {
      "text/plain": [
       "<function glio.jupyter_tools.show_slices.<locals>.f(color, **kwargs)>"
      ]
     },
     "execution_count": 3,
     "metadata": {},
     "output_type": "execute_result"
    }
   ],
   "source": [
    "PATH = r\"E:\\dataset\\RHUH-GBM\\RHUH-GBM_nii_v1\"\n",
    "PATIENT = \"RHUH-0001\"\n",
    "OBSERVATION = 2\n",
    "MOD = \"segmentations\"\n",
    "image = nifti.read(fr\"{PATH}/{PATIENT}/{OBSERVATION}/{PATIENT}_{OBSERVATION}_{MOD}.nii.gz\")\n",
    "show_slices(image)"
   ]
  },
  {
   "cell_type": "code",
   "execution_count": 4,
   "metadata": {},
   "outputs": [
    {
     "data": {
      "application/vnd.jupyter.widget-view+json": {
       "model_id": "36b4194bd0734b8185e995ad654c53f0",
       "version_major": 2,
       "version_minor": 0
      },
      "text/plain": [
       "interactive(children=(Checkbox(value=False, description='color'), Text(value='0 1 2 3', description='permute')…"
      ]
     },
     "metadata": {},
     "output_type": "display_data"
    },
    {
     "data": {
      "text/plain": [
       "<function glio.jupyter_tools.show_slices_arr.<locals>.f(color, permute: str, **kwargs)>"
      ]
     },
     "execution_count": 4,
     "metadata": {},
     "output_type": "execute_result"
    }
   ],
   "source": [
    "MOD1 = \"segmentations\"\n",
    "MOD2 = \"t1ce\"\n",
    "image1 = nifti.read(fr\"{PATH}/{PATIENT}/{OBSERVATION}/{PATIENT}_{OBSERVATION}_{MOD1}.nii.gz\")\n",
    "image2 = nifti.read(fr\"{PATH}/{PATIENT}/{OBSERVATION}/{PATIENT}_{OBSERVATION}_{MOD2}.nii.gz\")\n",
    "full = torch.stack((image2, image2, image2))\n",
    "full[0] += image1*2\n",
    "show_slices_arr(full)"
   ]
  },
  {
   "cell_type": "code",
   "execution_count": 5,
   "metadata": {},
   "outputs": [
    {
     "name": "stdout",
     "output_type": "stream",
     "text": [
      "tensor(0, dtype=torch.int32) tensor(3, dtype=torch.int32)\n",
      "tensor(0, dtype=torch.int32) tensor(1, dtype=torch.int32)\n"
     ]
    },
    {
     "data": {
      "application/vnd.jupyter.widget-view+json": {
       "model_id": "de38a5ccff6345c2864d1c9814462aa5",
       "version_major": 2,
       "version_minor": 0
      },
      "text/plain": [
       "interactive(children=(Checkbox(value=False, description='color'), IntSlider(value=119, description='s0', max=2…"
      ]
     },
     "metadata": {},
     "output_type": "display_data"
    },
    {
     "data": {
      "text/plain": [
       "<function glio.jupyter_tools.show_slices.<locals>.f(color, **kwargs)>"
      ]
     },
     "execution_count": 5,
     "metadata": {},
     "output_type": "execute_result"
    }
   ],
   "source": [
    "image = nifti.read(fr\"{PATH}/{PATIENT}/{OBSERVATION}/{PATIENT}_{OBSERVATION}_{MOD}.nii.gz\")\n",
    "print(image.min(), image.max())\n",
    "image = image.where(image<=0, 1)\n",
    "print(image.min(), image.max())\n",
    "show_slices(image)"
   ]
  },
  {
   "cell_type": "code",
   "execution_count": 6,
   "metadata": {},
   "outputs": [
    {
     "name": "stdout",
     "output_type": "stream",
     "text": [
      "tensor([154, 140,  76], dtype=torch.int32)\n"
     ]
    },
    {
     "data": {
      "application/vnd.jupyter.widget-view+json": {
       "model_id": "80cc93ca5397439b9953649aeb93ed39",
       "version_major": 2,
       "version_minor": 0
      },
      "text/plain": [
       "interactive(children=(Checkbox(value=False, description='color'), Text(value='0 1 2', description='permute'), …"
      ]
     },
     "metadata": {},
     "output_type": "display_data"
    },
    {
     "data": {
      "text/plain": [
       "<function glio.jupyter_tools.show_slices_arr.<locals>.f(color, permute: str, **kwargs)>"
      ]
     },
     "execution_count": 6,
     "metadata": {},
     "output_type": "execute_result"
    }
   ],
   "source": [
    "image = nifti.read(fr\"{PATH}/{PATIENT}/{OBSERVATION}/{PATIENT}_{OBSERVATION}_{MOD}.nii.gz\")\n",
    "com = center_of_mass(to_binary(image)).int()\n",
    "print(com)\n",
    "image[com[0], com[1], com[2]] = 10\n",
    "\n",
    "\n",
    "show_slices_arr(image)"
   ]
  },
  {
   "cell_type": "code",
   "execution_count": 7,
   "metadata": {},
   "outputs": [
    {
     "data": {
      "text/plain": [
       "('RHUH-0001',\n",
       " 1,\n",
       " 65,\n",
       " 'male',\n",
       " 80,\n",
       " 'no',\n",
       " 'glioblastoma',\n",
       " 4,\n",
       " 'mut',\n",
       " '5ALA+NAV+ioUS',\n",
       " 103.21,\n",
       " 0.0,\n",
       " 36.29,\n",
       " 25.17,\n",
       " 100.0,\n",
       " 'GTR',\n",
       " 'RT + TMZ',\n",
       " 'VMAT-IMRT-IGRT/60 Gy /30 fx',\n",
       " 'No',\n",
       " 90,\n",
       " 649,\n",
       " 736,\n",
       " 'no')"
      ]
     },
     "execution_count": 7,
     "metadata": {},
     "output_type": "execute_result"
    }
   ],
   "source": [
    "clinical_data.row(by_predicate=pl.col(\"Patient ID\") == \"RHUH-0001\")"
   ]
  },
  {
   "cell_type": "code",
   "execution_count": 8,
   "metadata": {},
   "outputs": [
    {
     "name": "stdout",
     "output_type": "stream",
     "text": [
      "0|0|0|1|1|1|2|2|2|3|3|3|4|4|4|5|5|5|6|6|6|7|7|7|8|8|8|9|9|9|10|10|10|11|11|11|12|12|12|13|13|13|14|14|14|15|15|15|16|16|16|17|17|17|18|18|18|19|19|19|20|20|20|21|21|21|22|22|22|23|23|23|24|24|24|25|25|25|26|26|26|27|27|27|28|28|28|29|29|29|30|30|30|31|31|31|32|32|32|33|33|33|34|34|34|35|35|35|36|36|36|37|37|37|38|38|38|39|39|39|"
     ]
    },
    {
     "data": {
      "text/html": [
       "<div><style>\n",
       ".dataframe > thead > tr,\n",
       ".dataframe > tbody > tr {\n",
       "  text-align: right;\n",
       "  white-space: pre-wrap;\n",
       "}\n",
       "</style>\n",
       "<small>shape: (120, 9)</small><table border=\"1\" class=\"dataframe\"><thead><tr><th>Patient ID</th><th>observation</th><th>center</th><th>adc</th><th>flair</th><th>segmentations</th><th>t1</th><th>t1ce</th><th>t2</th></tr><tr><td>str</td><td>str</td><td>list[f64]</td><td>str</td><td>str</td><td>str</td><td>str</td><td>str</td><td>str</td></tr></thead><tbody><tr><td>&quot;RHUH-0001&quot;</td><td>&quot;0&quot;</td><td>[149.644363, 159.284821, 72.567497]</td><td>&quot;E:\\dataset\\RHU…</td><td>&quot;E:\\dataset\\RHU…</td><td>&quot;E:\\dataset\\RHU…</td><td>&quot;E:\\dataset\\RHU…</td><td>&quot;E:\\dataset\\RHU…</td><td>&quot;E:\\dataset\\RHU…</td></tr><tr><td>&quot;RHUH-0001&quot;</td><td>&quot;1&quot;</td><td>[145.472656, 169.080826, 71.031189]</td><td>&quot;E:\\dataset\\RHU…</td><td>&quot;E:\\dataset\\RHU…</td><td>&quot;E:\\dataset\\RHU…</td><td>&quot;E:\\dataset\\RHU…</td><td>&quot;E:\\dataset\\RHU…</td><td>&quot;E:\\dataset\\RHU…</td></tr><tr><td>&quot;RHUH-0001&quot;</td><td>&quot;2&quot;</td><td>[154.362396, 140.513153, 76.515083]</td><td>&quot;E:\\dataset\\RHU…</td><td>&quot;E:\\dataset\\RHU…</td><td>&quot;E:\\dataset\\RHU…</td><td>&quot;E:\\dataset\\RHU…</td><td>&quot;E:\\dataset\\RHU…</td><td>&quot;E:\\dataset\\RHU…</td></tr><tr><td>&quot;RHUH-0002&quot;</td><td>&quot;0&quot;</td><td>[98.477936, 189.186264, 77.249344]</td><td>&quot;E:\\dataset\\RHU…</td><td>&quot;E:\\dataset\\RHU…</td><td>&quot;E:\\dataset\\RHU…</td><td>&quot;E:\\dataset\\RHU…</td><td>&quot;E:\\dataset\\RHU…</td><td>&quot;E:\\dataset\\RHU…</td></tr><tr><td>&quot;RHUH-0002&quot;</td><td>&quot;1&quot;</td><td>[95.099998, 160.711945, 75.162315]</td><td>&quot;E:\\dataset\\RHU…</td><td>&quot;E:\\dataset\\RHU…</td><td>&quot;E:\\dataset\\RHU…</td><td>&quot;E:\\dataset\\RHU…</td><td>&quot;E:\\dataset\\RHU…</td><td>&quot;E:\\dataset\\RHU…</td></tr><tr><td>&hellip;</td><td>&hellip;</td><td>&hellip;</td><td>&hellip;</td><td>&hellip;</td><td>&hellip;</td><td>&hellip;</td><td>&hellip;</td><td>&hellip;</td></tr><tr><td>&quot;RHUH-0039&quot;</td><td>&quot;1&quot;</td><td>[96.674034, 103.102638, 90.295456]</td><td>&quot;E:\\dataset\\RHU…</td><td>&quot;E:\\dataset\\RHU…</td><td>&quot;E:\\dataset\\RHU…</td><td>&quot;E:\\dataset\\RHU…</td><td>&quot;E:\\dataset\\RHU…</td><td>&quot;E:\\dataset\\RHU…</td></tr><tr><td>&quot;RHUH-0039&quot;</td><td>&quot;2&quot;</td><td>[91.71888, 117.445633, 78.311302]</td><td>&quot;E:\\dataset\\RHU…</td><td>&quot;E:\\dataset\\RHU…</td><td>&quot;E:\\dataset\\RHU…</td><td>&quot;E:\\dataset\\RHU…</td><td>&quot;E:\\dataset\\RHU…</td><td>&quot;E:\\dataset\\RHU…</td></tr><tr><td>&quot;RHUH-0040&quot;</td><td>&quot;0&quot;</td><td>[137.862671, 148.065155, 105.572212]</td><td>&quot;E:\\dataset\\RHU…</td><td>&quot;E:\\dataset\\RHU…</td><td>&quot;E:\\dataset\\RHU…</td><td>&quot;E:\\dataset\\RHU…</td><td>&quot;E:\\dataset\\RHU…</td><td>&quot;E:\\dataset\\RHU…</td></tr><tr><td>&quot;RHUH-0040&quot;</td><td>&quot;1&quot;</td><td>[140.374725, 145.176132, 98.473206]</td><td>&quot;E:\\dataset\\RHU…</td><td>&quot;E:\\dataset\\RHU…</td><td>&quot;E:\\dataset\\RHU…</td><td>&quot;E:\\dataset\\RHU…</td><td>&quot;E:\\dataset\\RHU…</td><td>&quot;E:\\dataset\\RHU…</td></tr><tr><td>&quot;RHUH-0040&quot;</td><td>&quot;2&quot;</td><td>[138.00975, 142.42659, 101.57135]</td><td>&quot;E:\\dataset\\RHU…</td><td>&quot;E:\\dataset\\RHU…</td><td>&quot;E:\\dataset\\RHU…</td><td>&quot;E:\\dataset\\RHU…</td><td>&quot;E:\\dataset\\RHU…</td><td>&quot;E:\\dataset\\RHU…</td></tr></tbody></table></div>"
      ],
      "text/plain": [
       "shape: (120, 9)\n",
       "┌───────────┬───────────┬───────────┬───────────┬───┬───────────┬───────────┬───────────┬──────────┐\n",
       "│ Patient   ┆ observati ┆ center    ┆ adc       ┆ … ┆ segmentat ┆ t1        ┆ t1ce      ┆ t2       │\n",
       "│ ID        ┆ on        ┆ ---       ┆ ---       ┆   ┆ ions      ┆ ---       ┆ ---       ┆ ---      │\n",
       "│ ---       ┆ ---       ┆ list[f64] ┆ str       ┆   ┆ ---       ┆ str       ┆ str       ┆ str      │\n",
       "│ str       ┆ str       ┆           ┆           ┆   ┆ str       ┆           ┆           ┆          │\n",
       "╞═══════════╪═══════════╪═══════════╪═══════════╪═══╪═══════════╪═══════════╪═══════════╪══════════╡\n",
       "│ RHUH-0001 ┆ 0         ┆ [149.6443 ┆ E:\\datase ┆ … ┆ E:\\datase ┆ E:\\datase ┆ E:\\datase ┆ E:\\datas │\n",
       "│           ┆           ┆ 63, 159.2 ┆ t\\RHUH-GB ┆   ┆ t\\RHUH-GB ┆ t\\RHUH-GB ┆ t\\RHUH-GB ┆ et\\RHUH- │\n",
       "│           ┆           ┆ 84821,    ┆ M\\RHUH-GB ┆   ┆ M\\RHUH-GB ┆ M\\RHUH-GB ┆ M\\RHUH-GB ┆ GBM\\RHUH │\n",
       "│           ┆           ┆ 72.5674…  ┆ M_nii…    ┆   ┆ M_nii…    ┆ M_nii…    ┆ M_nii…    ┆ -GBM_nii │\n",
       "│           ┆           ┆           ┆           ┆   ┆           ┆           ┆           ┆ …        │\n",
       "│ RHUH-0001 ┆ 1         ┆ [145.4726 ┆ E:\\datase ┆ … ┆ E:\\datase ┆ E:\\datase ┆ E:\\datase ┆ E:\\datas │\n",
       "│           ┆           ┆ 56, 169.0 ┆ t\\RHUH-GB ┆   ┆ t\\RHUH-GB ┆ t\\RHUH-GB ┆ t\\RHUH-GB ┆ et\\RHUH- │\n",
       "│           ┆           ┆ 80826,    ┆ M\\RHUH-GB ┆   ┆ M\\RHUH-GB ┆ M\\RHUH-GB ┆ M\\RHUH-GB ┆ GBM\\RHUH │\n",
       "│           ┆           ┆ 71.0311…  ┆ M_nii…    ┆   ┆ M_nii…    ┆ M_nii…    ┆ M_nii…    ┆ -GBM_nii │\n",
       "│           ┆           ┆           ┆           ┆   ┆           ┆           ┆           ┆ …        │\n",
       "│ RHUH-0001 ┆ 2         ┆ [154.3623 ┆ E:\\datase ┆ … ┆ E:\\datase ┆ E:\\datase ┆ E:\\datase ┆ E:\\datas │\n",
       "│           ┆           ┆ 96, 140.5 ┆ t\\RHUH-GB ┆   ┆ t\\RHUH-GB ┆ t\\RHUH-GB ┆ t\\RHUH-GB ┆ et\\RHUH- │\n",
       "│           ┆           ┆ 13153,    ┆ M\\RHUH-GB ┆   ┆ M\\RHUH-GB ┆ M\\RHUH-GB ┆ M\\RHUH-GB ┆ GBM\\RHUH │\n",
       "│           ┆           ┆ 76.5150…  ┆ M_nii…    ┆   ┆ M_nii…    ┆ M_nii…    ┆ M_nii…    ┆ -GBM_nii │\n",
       "│           ┆           ┆           ┆           ┆   ┆           ┆           ┆           ┆ …        │\n",
       "│ RHUH-0002 ┆ 0         ┆ [98.47793 ┆ E:\\datase ┆ … ┆ E:\\datase ┆ E:\\datase ┆ E:\\datase ┆ E:\\datas │\n",
       "│           ┆           ┆ 6, 189.18 ┆ t\\RHUH-GB ┆   ┆ t\\RHUH-GB ┆ t\\RHUH-GB ┆ t\\RHUH-GB ┆ et\\RHUH- │\n",
       "│           ┆           ┆ 6264,     ┆ M\\RHUH-GB ┆   ┆ M\\RHUH-GB ┆ M\\RHUH-GB ┆ M\\RHUH-GB ┆ GBM\\RHUH │\n",
       "│           ┆           ┆ 77.24934… ┆ M_nii…    ┆   ┆ M_nii…    ┆ M_nii…    ┆ M_nii…    ┆ -GBM_nii │\n",
       "│           ┆           ┆           ┆           ┆   ┆           ┆           ┆           ┆ …        │\n",
       "│ RHUH-0002 ┆ 1         ┆ [95.09999 ┆ E:\\datase ┆ … ┆ E:\\datase ┆ E:\\datase ┆ E:\\datase ┆ E:\\datas │\n",
       "│           ┆           ┆ 8, 160.71 ┆ t\\RHUH-GB ┆   ┆ t\\RHUH-GB ┆ t\\RHUH-GB ┆ t\\RHUH-GB ┆ et\\RHUH- │\n",
       "│           ┆           ┆ 1945,     ┆ M\\RHUH-GB ┆   ┆ M\\RHUH-GB ┆ M\\RHUH-GB ┆ M\\RHUH-GB ┆ GBM\\RHUH │\n",
       "│           ┆           ┆ 75.16231… ┆ M_nii…    ┆   ┆ M_nii…    ┆ M_nii…    ┆ M_nii…    ┆ -GBM_nii │\n",
       "│           ┆           ┆           ┆           ┆   ┆           ┆           ┆           ┆ …        │\n",
       "│ …         ┆ …         ┆ …         ┆ …         ┆ … ┆ …         ┆ …         ┆ …         ┆ …        │\n",
       "│ RHUH-0039 ┆ 1         ┆ [96.67403 ┆ E:\\datase ┆ … ┆ E:\\datase ┆ E:\\datase ┆ E:\\datase ┆ E:\\datas │\n",
       "│           ┆           ┆ 4, 103.10 ┆ t\\RHUH-GB ┆   ┆ t\\RHUH-GB ┆ t\\RHUH-GB ┆ t\\RHUH-GB ┆ et\\RHUH- │\n",
       "│           ┆           ┆ 2638,     ┆ M\\RHUH-GB ┆   ┆ M\\RHUH-GB ┆ M\\RHUH-GB ┆ M\\RHUH-GB ┆ GBM\\RHUH │\n",
       "│           ┆           ┆ 90.29545… ┆ M_nii…    ┆   ┆ M_nii…    ┆ M_nii…    ┆ M_nii…    ┆ -GBM_nii │\n",
       "│           ┆           ┆           ┆           ┆   ┆           ┆           ┆           ┆ …        │\n",
       "│ RHUH-0039 ┆ 2         ┆ [91.71888 ┆ E:\\datase ┆ … ┆ E:\\datase ┆ E:\\datase ┆ E:\\datase ┆ E:\\datas │\n",
       "│           ┆           ┆ , 117.445 ┆ t\\RHUH-GB ┆   ┆ t\\RHUH-GB ┆ t\\RHUH-GB ┆ t\\RHUH-GB ┆ et\\RHUH- │\n",
       "│           ┆           ┆ 633, 78.3 ┆ M\\RHUH-GB ┆   ┆ M\\RHUH-GB ┆ M\\RHUH-GB ┆ M\\RHUH-GB ┆ GBM\\RHUH │\n",
       "│           ┆           ┆ 11302…    ┆ M_nii…    ┆   ┆ M_nii…    ┆ M_nii…    ┆ M_nii…    ┆ -GBM_nii │\n",
       "│           ┆           ┆           ┆           ┆   ┆           ┆           ┆           ┆ …        │\n",
       "│ RHUH-0040 ┆ 0         ┆ [137.8626 ┆ E:\\datase ┆ … ┆ E:\\datase ┆ E:\\datase ┆ E:\\datase ┆ E:\\datas │\n",
       "│           ┆           ┆ 71, 148.0 ┆ t\\RHUH-GB ┆   ┆ t\\RHUH-GB ┆ t\\RHUH-GB ┆ t\\RHUH-GB ┆ et\\RHUH- │\n",
       "│           ┆           ┆ 65155,    ┆ M\\RHUH-GB ┆   ┆ M\\RHUH-GB ┆ M\\RHUH-GB ┆ M\\RHUH-GB ┆ GBM\\RHUH │\n",
       "│           ┆           ┆ 105.572…  ┆ M_nii…    ┆   ┆ M_nii…    ┆ M_nii…    ┆ M_nii…    ┆ -GBM_nii │\n",
       "│           ┆           ┆           ┆           ┆   ┆           ┆           ┆           ┆ …        │\n",
       "│ RHUH-0040 ┆ 1         ┆ [140.3747 ┆ E:\\datase ┆ … ┆ E:\\datase ┆ E:\\datase ┆ E:\\datase ┆ E:\\datas │\n",
       "│           ┆           ┆ 25, 145.1 ┆ t\\RHUH-GB ┆   ┆ t\\RHUH-GB ┆ t\\RHUH-GB ┆ t\\RHUH-GB ┆ et\\RHUH- │\n",
       "│           ┆           ┆ 76132,    ┆ M\\RHUH-GB ┆   ┆ M\\RHUH-GB ┆ M\\RHUH-GB ┆ M\\RHUH-GB ┆ GBM\\RHUH │\n",
       "│           ┆           ┆ 98.4732…  ┆ M_nii…    ┆   ┆ M_nii…    ┆ M_nii…    ┆ M_nii…    ┆ -GBM_nii │\n",
       "│           ┆           ┆           ┆           ┆   ┆           ┆           ┆           ┆ …        │\n",
       "│ RHUH-0040 ┆ 2         ┆ [138.0097 ┆ E:\\datase ┆ … ┆ E:\\datase ┆ E:\\datase ┆ E:\\datase ┆ E:\\datas │\n",
       "│           ┆           ┆ 5, 142.42 ┆ t\\RHUH-GB ┆   ┆ t\\RHUH-GB ┆ t\\RHUH-GB ┆ t\\RHUH-GB ┆ et\\RHUH- │\n",
       "│           ┆           ┆ 659, 101. ┆ M\\RHUH-GB ┆   ┆ M\\RHUH-GB ┆ M\\RHUH-GB ┆ M\\RHUH-GB ┆ GBM\\RHUH │\n",
       "│           ┆           ┆ 57135…    ┆ M_nii…    ┆   ┆ M_nii…    ┆ M_nii…    ┆ M_nii…    ┆ -GBM_nii │\n",
       "│           ┆           ┆           ┆           ┆   ┆           ┆           ┆           ┆ …        │\n",
       "└───────────┴───────────┴───────────┴───────────┴───┴───────────┴───────────┴───────────┴──────────┘"
      ]
     },
     "execution_count": 8,
     "metadata": {},
     "output_type": "execute_result"
    }
   ],
   "source": [
    "from glio.python_tools import get_all_files\n",
    "import os\n",
    "patients = []\n",
    "observation = []\n",
    "center = []\n",
    "adc = []\n",
    "flair = []\n",
    "segmentations = []\n",
    "t1 = []\n",
    "t1ce = []\n",
    "t2 = []\n",
    "for i, patient in enumerate(os.listdir(r\"E:\\dataset\\RHUH-GBM\\RHUH-GBM_nii_v1\")):\n",
    "    for obs in os.listdir(rf\"E:\\dataset\\RHUH-GBM\\RHUH-GBM_nii_v1\\{patient}\"):\n",
    "        print(i, end=\"|\")\n",
    "        patients.append(patient)\n",
    "        observation.append(obs)\n",
    "        adc.append(rf\"E:\\dataset\\RHUH-GBM\\RHUH-GBM_nii_v1\\{patient}\\{obs}\\{patient}_{obs}_adc.nii.gz\")\n",
    "        flair.append(rf\"E:\\dataset\\RHUH-GBM\\RHUH-GBM_nii_v1\\{patient}\\{obs}\\{patient}_{obs}_flair.nii.gz\")\n",
    "        segmentations.append(rf\"E:\\dataset\\RHUH-GBM\\RHUH-GBM_nii_v1\\{patient}\\{obs}\\{patient}_{obs}_segmentations.nii.gz\")\n",
    "        t1.append(rf\"E:\\dataset\\RHUH-GBM\\RHUH-GBM_nii_v1\\{patient}\\{obs}\\{patient}_{obs}_t1.nii.gz\")\n",
    "        t1ce.append(rf\"E:\\dataset\\RHUH-GBM\\RHUH-GBM_nii_v1\\{patient}\\{obs}\\{patient}_{obs}_t1ce.nii.gz\")\n",
    "        t2.append(rf\"E:\\dataset\\RHUH-GBM\\RHUH-GBM_nii_v1\\{patient}\\{obs}\\{patient}_{obs}_t2.nii.gz\")\n",
    "\n",
    "        segm = nifti.read(segmentations[-1])\n",
    "        center.append(center_of_mass(binary_erode3d(to_binary(segm), 2)).tolist())\n",
    "\n",
    "df = pl.from_dict({\"Patient ID\": patients, \"observation\": observation, \"center\": center, \"adc\": adc, \"flair\": flair, \"segmentations\": segmentations, \"t1\": t1, \"t1ce\": t1ce, \"t2\": t2})\n",
    "df"
   ]
  },
  {
   "cell_type": "code",
   "execution_count": 9,
   "metadata": {},
   "outputs": [
    {
     "data": {
      "text/html": [
       "<div><style>\n",
       ".dataframe > thead > tr,\n",
       ".dataframe > tbody > tr {\n",
       "  text-align: right;\n",
       "  white-space: pre-wrap;\n",
       "}\n",
       "</style>\n",
       "<small>shape: (120, 32)</small><table border=\"1\" class=\"dataframe\"><thead><tr><th>Patient ID</th><th>Days from earliest imaging to surgery </th><th>Age</th><th>Sex</th><th>Preoperative KPS</th><th>Previous treatment = (no, surgery, surgery + QT/RT)</th><th>Histopathological subtype</th><th>WHO grade</th><th>IDH status = (mutant [mut], wild type [wt], NOS)</th><th>Operative adjuncts = (5&#x27; aminolevulinic acid [5ALA], Sodium Fluorescein - Yellow 560 [FL], Neuronavigation [NAV],  Intraoperative monitoring [IONM], Direct electrical stimulation [DES], intraoperative ultrasound [ioUS])</th><th>Preoperative  contrast enhancing tumor volume (cm3)</th><th>Postoperative contrast enhancing residual tumor (cm3)</th><th>Preoperative T2/FLAIR abnormality  (cm3) </th><th>Postoperative T2/FLAIR abmnormality (cm3)</th><th>Extent of resection [EOR]  %</th><th>EOR = (Gross total resection [GTR : 100%], Near total resection [NTR : &gt; 95%], Subtotal resection [STR : 91 - 94%], Partial resection [PR : &lt; 90 %]</th><th>Adjuvant therapy (Radiotherapy [RT], Temozolomide [TMZ])</th><th>Radiotherapy treatment details (technique/dose/number of fractions)</th><th>Postoperative Neurological Deficit</th><th>Postoperative KPS</th><th>Progression free survival [PFS] (days)</th><th>Overall survival [OS] (days)</th><th>Right Censored</th><th>Patient ID_right</th><th>observation</th><th>center</th><th>adc</th><th>flair</th><th>segmentations</th><th>t1</th><th>t1ce</th><th>t2</th></tr><tr><td>str</td><td>i64</td><td>i64</td><td>str</td><td>i64</td><td>str</td><td>str</td><td>i64</td><td>str</td><td>str</td><td>f64</td><td>f64</td><td>f64</td><td>f64</td><td>f64</td><td>str</td><td>str</td><td>str</td><td>str</td><td>i64</td><td>i64</td><td>i64</td><td>str</td><td>str</td><td>str</td><td>list[f64]</td><td>str</td><td>str</td><td>str</td><td>str</td><td>str</td><td>str</td></tr></thead><tbody><tr><td>&quot;RHUH-0001&quot;</td><td>1</td><td>65</td><td>&quot;male&quot;</td><td>80</td><td>&quot;no&quot;</td><td>&quot;glioblastoma&quot;</td><td>4</td><td>&quot;mut&quot;</td><td>&quot;5ALA+NAV+ioUS&quot;</td><td>103.21</td><td>0.0</td><td>36.29</td><td>25.17</td><td>100.0</td><td>&quot;GTR&quot;</td><td>&quot;RT + TMZ&quot;</td><td>&quot;VMAT-IMRT-IGRT…</td><td>&quot;No&quot;</td><td>90</td><td>649</td><td>736</td><td>&quot;no&quot;</td><td>&quot;RHUH-0001&quot;</td><td>&quot;0&quot;</td><td>[149.644363, 159.284821, 72.567497]</td><td>&quot;E:\\dataset\\RHU…</td><td>&quot;E:\\dataset\\RHU…</td><td>&quot;E:\\dataset\\RHU…</td><td>&quot;E:\\dataset\\RHU…</td><td>&quot;E:\\dataset\\RHU…</td><td>&quot;E:\\dataset\\RHU…</td></tr><tr><td>&quot;RHUH-0001&quot;</td><td>1</td><td>65</td><td>&quot;male&quot;</td><td>80</td><td>&quot;no&quot;</td><td>&quot;glioblastoma&quot;</td><td>4</td><td>&quot;mut&quot;</td><td>&quot;5ALA+NAV+ioUS&quot;</td><td>103.21</td><td>0.0</td><td>36.29</td><td>25.17</td><td>100.0</td><td>&quot;GTR&quot;</td><td>&quot;RT + TMZ&quot;</td><td>&quot;VMAT-IMRT-IGRT…</td><td>&quot;No&quot;</td><td>90</td><td>649</td><td>736</td><td>&quot;no&quot;</td><td>&quot;RHUH-0001&quot;</td><td>&quot;1&quot;</td><td>[145.472656, 169.080826, 71.031189]</td><td>&quot;E:\\dataset\\RHU…</td><td>&quot;E:\\dataset\\RHU…</td><td>&quot;E:\\dataset\\RHU…</td><td>&quot;E:\\dataset\\RHU…</td><td>&quot;E:\\dataset\\RHU…</td><td>&quot;E:\\dataset\\RHU…</td></tr><tr><td>&quot;RHUH-0001&quot;</td><td>1</td><td>65</td><td>&quot;male&quot;</td><td>80</td><td>&quot;no&quot;</td><td>&quot;glioblastoma&quot;</td><td>4</td><td>&quot;mut&quot;</td><td>&quot;5ALA+NAV+ioUS&quot;</td><td>103.21</td><td>0.0</td><td>36.29</td><td>25.17</td><td>100.0</td><td>&quot;GTR&quot;</td><td>&quot;RT + TMZ&quot;</td><td>&quot;VMAT-IMRT-IGRT…</td><td>&quot;No&quot;</td><td>90</td><td>649</td><td>736</td><td>&quot;no&quot;</td><td>&quot;RHUH-0001&quot;</td><td>&quot;2&quot;</td><td>[154.362396, 140.513153, 76.515083]</td><td>&quot;E:\\dataset\\RHU…</td><td>&quot;E:\\dataset\\RHU…</td><td>&quot;E:\\dataset\\RHU…</td><td>&quot;E:\\dataset\\RHU…</td><td>&quot;E:\\dataset\\RHU…</td><td>&quot;E:\\dataset\\RHU…</td></tr><tr><td>&quot;RHUH-0002&quot;</td><td>9</td><td>65</td><td>&quot;female&quot;</td><td>90</td><td>&quot;no&quot;</td><td>&quot;glioblastoma&quot;</td><td>4</td><td>&quot;wt&quot;</td><td>&quot;5ALA+NAV+ioUS&quot;</td><td>1.6</td><td>0.0</td><td>27.06</td><td>6.64</td><td>100.0</td><td>&quot;GTR&quot;</td><td>&quot;RT + TMZ&quot;</td><td>&quot;VMAT-IMRT-IGRT…</td><td>&quot;No&quot;</td><td>90</td><td>314</td><td>506</td><td>&quot;yes&quot;</td><td>&quot;RHUH-0002&quot;</td><td>&quot;0&quot;</td><td>[98.477936, 189.186264, 77.249344]</td><td>&quot;E:\\dataset\\RHU…</td><td>&quot;E:\\dataset\\RHU…</td><td>&quot;E:\\dataset\\RHU…</td><td>&quot;E:\\dataset\\RHU…</td><td>&quot;E:\\dataset\\RHU…</td><td>&quot;E:\\dataset\\RHU…</td></tr><tr><td>&quot;RHUH-0002&quot;</td><td>9</td><td>65</td><td>&quot;female&quot;</td><td>90</td><td>&quot;no&quot;</td><td>&quot;glioblastoma&quot;</td><td>4</td><td>&quot;wt&quot;</td><td>&quot;5ALA+NAV+ioUS&quot;</td><td>1.6</td><td>0.0</td><td>27.06</td><td>6.64</td><td>100.0</td><td>&quot;GTR&quot;</td><td>&quot;RT + TMZ&quot;</td><td>&quot;VMAT-IMRT-IGRT…</td><td>&quot;No&quot;</td><td>90</td><td>314</td><td>506</td><td>&quot;yes&quot;</td><td>&quot;RHUH-0002&quot;</td><td>&quot;1&quot;</td><td>[95.099998, 160.711945, 75.162315]</td><td>&quot;E:\\dataset\\RHU…</td><td>&quot;E:\\dataset\\RHU…</td><td>&quot;E:\\dataset\\RHU…</td><td>&quot;E:\\dataset\\RHU…</td><td>&quot;E:\\dataset\\RHU…</td><td>&quot;E:\\dataset\\RHU…</td></tr><tr><td>&hellip;</td><td>&hellip;</td><td>&hellip;</td><td>&hellip;</td><td>&hellip;</td><td>&hellip;</td><td>&hellip;</td><td>&hellip;</td><td>&hellip;</td><td>&hellip;</td><td>&hellip;</td><td>&hellip;</td><td>&hellip;</td><td>&hellip;</td><td>&hellip;</td><td>&hellip;</td><td>&hellip;</td><td>&hellip;</td><td>&hellip;</td><td>&hellip;</td><td>&hellip;</td><td>&hellip;</td><td>&hellip;</td><td>&hellip;</td><td>&hellip;</td><td>&hellip;</td><td>&hellip;</td><td>&hellip;</td><td>&hellip;</td><td>&hellip;</td><td>&hellip;</td><td>&hellip;</td></tr><tr><td>&quot;RHUH-0039&quot;</td><td>1</td><td>67</td><td>&quot;female&quot;</td><td>80</td><td>&quot;no&quot;</td><td>&quot;glioblastoma&quot;</td><td>4</td><td>&quot;wt&quot;</td><td>&quot;5ALA+FL+NAV+io…</td><td>44.77</td><td>0.0</td><td>77.06</td><td>59.81</td><td>100.0</td><td>&quot;GTR&quot;</td><td>&quot;RT + TMZ&quot;</td><td>&quot;VMAT-IMRT-IGRT…</td><td>&quot;No&quot;</td><td>80</td><td>179</td><td>211</td><td>&quot;yes&quot;</td><td>&quot;RHUH-0039&quot;</td><td>&quot;1&quot;</td><td>[96.674034, 103.102638, 90.295456]</td><td>&quot;E:\\dataset\\RHU…</td><td>&quot;E:\\dataset\\RHU…</td><td>&quot;E:\\dataset\\RHU…</td><td>&quot;E:\\dataset\\RHU…</td><td>&quot;E:\\dataset\\RHU…</td><td>&quot;E:\\dataset\\RHU…</td></tr><tr><td>&quot;RHUH-0039&quot;</td><td>1</td><td>67</td><td>&quot;female&quot;</td><td>80</td><td>&quot;no&quot;</td><td>&quot;glioblastoma&quot;</td><td>4</td><td>&quot;wt&quot;</td><td>&quot;5ALA+FL+NAV+io…</td><td>44.77</td><td>0.0</td><td>77.06</td><td>59.81</td><td>100.0</td><td>&quot;GTR&quot;</td><td>&quot;RT + TMZ&quot;</td><td>&quot;VMAT-IMRT-IGRT…</td><td>&quot;No&quot;</td><td>80</td><td>179</td><td>211</td><td>&quot;yes&quot;</td><td>&quot;RHUH-0039&quot;</td><td>&quot;2&quot;</td><td>[91.71888, 117.445633, 78.311302]</td><td>&quot;E:\\dataset\\RHU…</td><td>&quot;E:\\dataset\\RHU…</td><td>&quot;E:\\dataset\\RHU…</td><td>&quot;E:\\dataset\\RHU…</td><td>&quot;E:\\dataset\\RHU…</td><td>&quot;E:\\dataset\\RHU…</td></tr><tr><td>&quot;RHUH-0040&quot;</td><td>1</td><td>60</td><td>&quot;male&quot;</td><td>70</td><td>&quot;no&quot;</td><td>&quot;glioblastoma&quot;</td><td>4</td><td>&quot;wt&quot;</td><td>&quot;5ALA+NAV+DES+i…</td><td>7.72</td><td>0.0</td><td>47.25</td><td>49.77</td><td>100.0</td><td>&quot;GTR&quot;</td><td>&quot;RT + TMZ&quot;</td><td>&quot;VMAT-IMRT-IGRT…</td><td>&quot;Transient&quot;</td><td>70</td><td>25</td><td>127</td><td>&quot;yes&quot;</td><td>&quot;RHUH-0040&quot;</td><td>&quot;0&quot;</td><td>[137.862671, 148.065155, 105.572212]</td><td>&quot;E:\\dataset\\RHU…</td><td>&quot;E:\\dataset\\RHU…</td><td>&quot;E:\\dataset\\RHU…</td><td>&quot;E:\\dataset\\RHU…</td><td>&quot;E:\\dataset\\RHU…</td><td>&quot;E:\\dataset\\RHU…</td></tr><tr><td>&quot;RHUH-0040&quot;</td><td>1</td><td>60</td><td>&quot;male&quot;</td><td>70</td><td>&quot;no&quot;</td><td>&quot;glioblastoma&quot;</td><td>4</td><td>&quot;wt&quot;</td><td>&quot;5ALA+NAV+DES+i…</td><td>7.72</td><td>0.0</td><td>47.25</td><td>49.77</td><td>100.0</td><td>&quot;GTR&quot;</td><td>&quot;RT + TMZ&quot;</td><td>&quot;VMAT-IMRT-IGRT…</td><td>&quot;Transient&quot;</td><td>70</td><td>25</td><td>127</td><td>&quot;yes&quot;</td><td>&quot;RHUH-0040&quot;</td><td>&quot;1&quot;</td><td>[140.374725, 145.176132, 98.473206]</td><td>&quot;E:\\dataset\\RHU…</td><td>&quot;E:\\dataset\\RHU…</td><td>&quot;E:\\dataset\\RHU…</td><td>&quot;E:\\dataset\\RHU…</td><td>&quot;E:\\dataset\\RHU…</td><td>&quot;E:\\dataset\\RHU…</td></tr><tr><td>&quot;RHUH-0040&quot;</td><td>1</td><td>60</td><td>&quot;male&quot;</td><td>70</td><td>&quot;no&quot;</td><td>&quot;glioblastoma&quot;</td><td>4</td><td>&quot;wt&quot;</td><td>&quot;5ALA+NAV+DES+i…</td><td>7.72</td><td>0.0</td><td>47.25</td><td>49.77</td><td>100.0</td><td>&quot;GTR&quot;</td><td>&quot;RT + TMZ&quot;</td><td>&quot;VMAT-IMRT-IGRT…</td><td>&quot;Transient&quot;</td><td>70</td><td>25</td><td>127</td><td>&quot;yes&quot;</td><td>&quot;RHUH-0040&quot;</td><td>&quot;2&quot;</td><td>[138.00975, 142.42659, 101.57135]</td><td>&quot;E:\\dataset\\RHU…</td><td>&quot;E:\\dataset\\RHU…</td><td>&quot;E:\\dataset\\RHU…</td><td>&quot;E:\\dataset\\RHU…</td><td>&quot;E:\\dataset\\RHU…</td><td>&quot;E:\\dataset\\RHU…</td></tr></tbody></table></div>"
      ],
      "text/plain": [
       "shape: (120, 32)\n",
       "┌────────────┬─────────────┬─────┬────────┬───┬─────────────┬────────────┬────────────┬────────────┐\n",
       "│ Patient ID ┆ Days from   ┆ Age ┆ Sex    ┆ … ┆ segmentatio ┆ t1         ┆ t1ce       ┆ t2         │\n",
       "│ ---        ┆ earliest    ┆ --- ┆ ---    ┆   ┆ ns          ┆ ---        ┆ ---        ┆ ---        │\n",
       "│ str        ┆ imaging to  ┆ i64 ┆ str    ┆   ┆ ---         ┆ str        ┆ str        ┆ str        │\n",
       "│            ┆ su…         ┆     ┆        ┆   ┆ str         ┆            ┆            ┆            │\n",
       "│            ┆ ---         ┆     ┆        ┆   ┆             ┆            ┆            ┆            │\n",
       "│            ┆ i64         ┆     ┆        ┆   ┆             ┆            ┆            ┆            │\n",
       "╞════════════╪═════════════╪═════╪════════╪═══╪═════════════╪════════════╪════════════╪════════════╡\n",
       "│ RHUH-0001  ┆ 1           ┆ 65  ┆ male   ┆ … ┆ E:\\dataset\\ ┆ E:\\dataset ┆ E:\\dataset ┆ E:\\dataset │\n",
       "│            ┆             ┆     ┆        ┆   ┆ RHUH-GBM\\RH ┆ \\RHUH-GBM\\ ┆ \\RHUH-GBM\\ ┆ \\RHUH-GBM\\ │\n",
       "│            ┆             ┆     ┆        ┆   ┆ UH-GBM_nii… ┆ RHUH-GBM_n ┆ RHUH-GBM_n ┆ RHUH-GBM_n │\n",
       "│            ┆             ┆     ┆        ┆   ┆             ┆ ii…        ┆ ii…        ┆ ii…        │\n",
       "│ RHUH-0001  ┆ 1           ┆ 65  ┆ male   ┆ … ┆ E:\\dataset\\ ┆ E:\\dataset ┆ E:\\dataset ┆ E:\\dataset │\n",
       "│            ┆             ┆     ┆        ┆   ┆ RHUH-GBM\\RH ┆ \\RHUH-GBM\\ ┆ \\RHUH-GBM\\ ┆ \\RHUH-GBM\\ │\n",
       "│            ┆             ┆     ┆        ┆   ┆ UH-GBM_nii… ┆ RHUH-GBM_n ┆ RHUH-GBM_n ┆ RHUH-GBM_n │\n",
       "│            ┆             ┆     ┆        ┆   ┆             ┆ ii…        ┆ ii…        ┆ ii…        │\n",
       "│ RHUH-0001  ┆ 1           ┆ 65  ┆ male   ┆ … ┆ E:\\dataset\\ ┆ E:\\dataset ┆ E:\\dataset ┆ E:\\dataset │\n",
       "│            ┆             ┆     ┆        ┆   ┆ RHUH-GBM\\RH ┆ \\RHUH-GBM\\ ┆ \\RHUH-GBM\\ ┆ \\RHUH-GBM\\ │\n",
       "│            ┆             ┆     ┆        ┆   ┆ UH-GBM_nii… ┆ RHUH-GBM_n ┆ RHUH-GBM_n ┆ RHUH-GBM_n │\n",
       "│            ┆             ┆     ┆        ┆   ┆             ┆ ii…        ┆ ii…        ┆ ii…        │\n",
       "│ RHUH-0002  ┆ 9           ┆ 65  ┆ female ┆ … ┆ E:\\dataset\\ ┆ E:\\dataset ┆ E:\\dataset ┆ E:\\dataset │\n",
       "│            ┆             ┆     ┆        ┆   ┆ RHUH-GBM\\RH ┆ \\RHUH-GBM\\ ┆ \\RHUH-GBM\\ ┆ \\RHUH-GBM\\ │\n",
       "│            ┆             ┆     ┆        ┆   ┆ UH-GBM_nii… ┆ RHUH-GBM_n ┆ RHUH-GBM_n ┆ RHUH-GBM_n │\n",
       "│            ┆             ┆     ┆        ┆   ┆             ┆ ii…        ┆ ii…        ┆ ii…        │\n",
       "│ RHUH-0002  ┆ 9           ┆ 65  ┆ female ┆ … ┆ E:\\dataset\\ ┆ E:\\dataset ┆ E:\\dataset ┆ E:\\dataset │\n",
       "│            ┆             ┆     ┆        ┆   ┆ RHUH-GBM\\RH ┆ \\RHUH-GBM\\ ┆ \\RHUH-GBM\\ ┆ \\RHUH-GBM\\ │\n",
       "│            ┆             ┆     ┆        ┆   ┆ UH-GBM_nii… ┆ RHUH-GBM_n ┆ RHUH-GBM_n ┆ RHUH-GBM_n │\n",
       "│            ┆             ┆     ┆        ┆   ┆             ┆ ii…        ┆ ii…        ┆ ii…        │\n",
       "│ …          ┆ …           ┆ …   ┆ …      ┆ … ┆ …           ┆ …          ┆ …          ┆ …          │\n",
       "│ RHUH-0039  ┆ 1           ┆ 67  ┆ female ┆ … ┆ E:\\dataset\\ ┆ E:\\dataset ┆ E:\\dataset ┆ E:\\dataset │\n",
       "│            ┆             ┆     ┆        ┆   ┆ RHUH-GBM\\RH ┆ \\RHUH-GBM\\ ┆ \\RHUH-GBM\\ ┆ \\RHUH-GBM\\ │\n",
       "│            ┆             ┆     ┆        ┆   ┆ UH-GBM_nii… ┆ RHUH-GBM_n ┆ RHUH-GBM_n ┆ RHUH-GBM_n │\n",
       "│            ┆             ┆     ┆        ┆   ┆             ┆ ii…        ┆ ii…        ┆ ii…        │\n",
       "│ RHUH-0039  ┆ 1           ┆ 67  ┆ female ┆ … ┆ E:\\dataset\\ ┆ E:\\dataset ┆ E:\\dataset ┆ E:\\dataset │\n",
       "│            ┆             ┆     ┆        ┆   ┆ RHUH-GBM\\RH ┆ \\RHUH-GBM\\ ┆ \\RHUH-GBM\\ ┆ \\RHUH-GBM\\ │\n",
       "│            ┆             ┆     ┆        ┆   ┆ UH-GBM_nii… ┆ RHUH-GBM_n ┆ RHUH-GBM_n ┆ RHUH-GBM_n │\n",
       "│            ┆             ┆     ┆        ┆   ┆             ┆ ii…        ┆ ii…        ┆ ii…        │\n",
       "│ RHUH-0040  ┆ 1           ┆ 60  ┆ male   ┆ … ┆ E:\\dataset\\ ┆ E:\\dataset ┆ E:\\dataset ┆ E:\\dataset │\n",
       "│            ┆             ┆     ┆        ┆   ┆ RHUH-GBM\\RH ┆ \\RHUH-GBM\\ ┆ \\RHUH-GBM\\ ┆ \\RHUH-GBM\\ │\n",
       "│            ┆             ┆     ┆        ┆   ┆ UH-GBM_nii… ┆ RHUH-GBM_n ┆ RHUH-GBM_n ┆ RHUH-GBM_n │\n",
       "│            ┆             ┆     ┆        ┆   ┆             ┆ ii…        ┆ ii…        ┆ ii…        │\n",
       "│ RHUH-0040  ┆ 1           ┆ 60  ┆ male   ┆ … ┆ E:\\dataset\\ ┆ E:\\dataset ┆ E:\\dataset ┆ E:\\dataset │\n",
       "│            ┆             ┆     ┆        ┆   ┆ RHUH-GBM\\RH ┆ \\RHUH-GBM\\ ┆ \\RHUH-GBM\\ ┆ \\RHUH-GBM\\ │\n",
       "│            ┆             ┆     ┆        ┆   ┆ UH-GBM_nii… ┆ RHUH-GBM_n ┆ RHUH-GBM_n ┆ RHUH-GBM_n │\n",
       "│            ┆             ┆     ┆        ┆   ┆             ┆ ii…        ┆ ii…        ┆ ii…        │\n",
       "│ RHUH-0040  ┆ 1           ┆ 60  ┆ male   ┆ … ┆ E:\\dataset\\ ┆ E:\\dataset ┆ E:\\dataset ┆ E:\\dataset │\n",
       "│            ┆             ┆     ┆        ┆   ┆ RHUH-GBM\\RH ┆ \\RHUH-GBM\\ ┆ \\RHUH-GBM\\ ┆ \\RHUH-GBM\\ │\n",
       "│            ┆             ┆     ┆        ┆   ┆ UH-GBM_nii… ┆ RHUH-GBM_n ┆ RHUH-GBM_n ┆ RHUH-GBM_n │\n",
       "│            ┆             ┆     ┆        ┆   ┆             ┆ ii…        ┆ ii…        ┆ ii…        │\n",
       "└────────────┴─────────────┴─────┴────────┴───┴─────────────┴────────────┴────────────┴────────────┘"
      ]
     },
     "execution_count": 9,
     "metadata": {},
     "output_type": "execute_result"
    }
   ],
   "source": [
    "merged = clinical_data.join(df, how='outer', on=\"Patient ID\")\n",
    "merged"
   ]
  },
  {
   "cell_type": "code",
   "execution_count": 41,
   "metadata": {},
   "outputs": [],
   "source": [
    "def func(x):\n",
    "    x = list(x)\n",
    "    x[25] = str(x[25])[1:-1]\n",
    "    return tuple(x)\n",
    "merged.with_columns(\n",
    "                center=pl.col(\"center\").map_elements(lambda x: str(x.to_list())[1:-1]),\n",
    "                src=pl.lit(\"center\"),).write_csv(\"merged.csv\")"
   ]
  },
  {
   "cell_type": "code",
   "execution_count": 45,
   "metadata": {},
   "outputs": [],
   "source": [
    "class RHUH_GBM:\n",
    "    def __init__(self):\n",
    "        self.clinical_data = pl.read_csv(r\"F:\\Stuff\\Programming\\AI\\glio_diff\\glio\\datasets\\RHUH-GBM.csv\").with_columns(\n",
    "                center=pl.col(\"center\").map_elements(lambda x: [float(i) for i in str(x[1:-1]).split(\", \")]),\n",
    "                src=pl.lit(\"center\"),)\n",
    "        self.path = r\"E:\\dataset\\RHUH-GBM\\RHUH-GBM_nii_v1\"\n",
    "\n",
    "    def get_data(self, cols):\n",
    "        return self.clinical_data.select(cols).drop_nulls().to_dicts()\n",
    "\n",
    "    def col_names(self):\n",
    "        return self.clinical_data.columns\n"
   ]
  },
  {
   "cell_type": "code",
   "execution_count": 46,
   "metadata": {},
   "outputs": [],
   "source": [
    "rhuh = RHUH_GBM()"
   ]
  },
  {
   "cell_type": "code",
   "execution_count": 47,
   "metadata": {},
   "outputs": [
    {
     "data": {
      "text/html": [
       "<div><style>\n",
       ".dataframe > thead > tr,\n",
       ".dataframe > tbody > tr {\n",
       "  text-align: right;\n",
       "  white-space: pre-wrap;\n",
       "}\n",
       "</style>\n",
       "<small>shape: (120, 33)</small><table border=\"1\" class=\"dataframe\"><thead><tr><th>Patient ID</th><th>Days from earliest imaging to surgery </th><th>Age</th><th>Sex</th><th>Preoperative KPS</th><th>Previous treatment = (no, surgery, surgery + QT/RT)</th><th>Histopathological subtype</th><th>WHO grade</th><th>IDH status = (mutant [mut], wild type [wt], NOS)</th><th>Operative adjuncts = (5&#x27; aminolevulinic acid [5ALA], Sodium Fluorescein - Yellow 560 [FL], Neuronavigation [NAV],  Intraoperative monitoring [IONM], Direct electrical stimulation [DES], intraoperative ultrasound [ioUS])</th><th>Preoperative  contrast enhancing tumor volume (cm3)</th><th>Postoperative contrast enhancing residual tumor (cm3)</th><th>Preoperative T2/FLAIR abnormality  (cm3) </th><th>Postoperative T2/FLAIR abmnormality (cm3)</th><th>Extent of resection [EOR]  %</th><th>EOR = (Gross total resection [GTR : 100%], Near total resection [NTR : &gt; 95%], Subtotal resection [STR : 91 - 94%], Partial resection [PR : &lt; 90 %]</th><th>Adjuvant therapy (Radiotherapy [RT], Temozolomide [TMZ])</th><th>Radiotherapy treatment details (technique/dose/number of fractions)</th><th>Postoperative Neurological Deficit</th><th>Postoperative KPS</th><th>Progression free survival [PFS] (days)</th><th>Overall survival [OS] (days)</th><th>Right Censored</th><th>Patient ID_right</th><th>observation</th><th>center</th><th>adc</th><th>flair</th><th>segmentations</th><th>t1</th><th>t1ce</th><th>t2</th><th>src</th></tr><tr><td>str</td><td>i64</td><td>i64</td><td>str</td><td>i64</td><td>str</td><td>str</td><td>i64</td><td>str</td><td>str</td><td>f64</td><td>f64</td><td>f64</td><td>f64</td><td>f64</td><td>str</td><td>str</td><td>str</td><td>str</td><td>i64</td><td>i64</td><td>i64</td><td>str</td><td>str</td><td>i64</td><td>list[f64]</td><td>str</td><td>str</td><td>str</td><td>str</td><td>str</td><td>str</td><td>str</td></tr></thead><tbody><tr><td>&quot;RHUH-0001&quot;</td><td>1</td><td>65</td><td>&quot;male&quot;</td><td>80</td><td>&quot;no&quot;</td><td>&quot;glioblastoma&quot;</td><td>4</td><td>&quot;mut&quot;</td><td>&quot;5ALA+NAV+ioUS&quot;</td><td>103.21</td><td>0.0</td><td>36.29</td><td>25.17</td><td>100.0</td><td>&quot;GTR&quot;</td><td>&quot;RT + TMZ&quot;</td><td>&quot;VMAT-IMRT-IGRT…</td><td>&quot;No&quot;</td><td>90</td><td>649</td><td>736</td><td>&quot;no&quot;</td><td>&quot;RHUH-0001&quot;</td><td>0</td><td>[49.644363, 159.284821, 72.567497]</td><td>&quot;E:\\dataset\\RHU…</td><td>&quot;E:\\dataset\\RHU…</td><td>&quot;E:\\dataset\\RHU…</td><td>&quot;E:\\dataset\\RHU…</td><td>&quot;E:\\dataset\\RHU…</td><td>&quot;E:\\dataset\\RHU…</td><td>&quot;center&quot;</td></tr><tr><td>&quot;RHUH-0001&quot;</td><td>1</td><td>65</td><td>&quot;male&quot;</td><td>80</td><td>&quot;no&quot;</td><td>&quot;glioblastoma&quot;</td><td>4</td><td>&quot;mut&quot;</td><td>&quot;5ALA+NAV+ioUS&quot;</td><td>103.21</td><td>0.0</td><td>36.29</td><td>25.17</td><td>100.0</td><td>&quot;GTR&quot;</td><td>&quot;RT + TMZ&quot;</td><td>&quot;VMAT-IMRT-IGRT…</td><td>&quot;No&quot;</td><td>90</td><td>649</td><td>736</td><td>&quot;no&quot;</td><td>&quot;RHUH-0001&quot;</td><td>1</td><td>[45.472656, 169.080826, 71.031189]</td><td>&quot;E:\\dataset\\RHU…</td><td>&quot;E:\\dataset\\RHU…</td><td>&quot;E:\\dataset\\RHU…</td><td>&quot;E:\\dataset\\RHU…</td><td>&quot;E:\\dataset\\RHU…</td><td>&quot;E:\\dataset\\RHU…</td><td>&quot;center&quot;</td></tr><tr><td>&quot;RHUH-0001&quot;</td><td>1</td><td>65</td><td>&quot;male&quot;</td><td>80</td><td>&quot;no&quot;</td><td>&quot;glioblastoma&quot;</td><td>4</td><td>&quot;mut&quot;</td><td>&quot;5ALA+NAV+ioUS&quot;</td><td>103.21</td><td>0.0</td><td>36.29</td><td>25.17</td><td>100.0</td><td>&quot;GTR&quot;</td><td>&quot;RT + TMZ&quot;</td><td>&quot;VMAT-IMRT-IGRT…</td><td>&quot;No&quot;</td><td>90</td><td>649</td><td>736</td><td>&quot;no&quot;</td><td>&quot;RHUH-0001&quot;</td><td>2</td><td>[54.362396, 140.513153, 76.515083]</td><td>&quot;E:\\dataset\\RHU…</td><td>&quot;E:\\dataset\\RHU…</td><td>&quot;E:\\dataset\\RHU…</td><td>&quot;E:\\dataset\\RHU…</td><td>&quot;E:\\dataset\\RHU…</td><td>&quot;E:\\dataset\\RHU…</td><td>&quot;center&quot;</td></tr><tr><td>&quot;RHUH-0002&quot;</td><td>9</td><td>65</td><td>&quot;female&quot;</td><td>90</td><td>&quot;no&quot;</td><td>&quot;glioblastoma&quot;</td><td>4</td><td>&quot;wt&quot;</td><td>&quot;5ALA+NAV+ioUS&quot;</td><td>1.6</td><td>0.0</td><td>27.06</td><td>6.64</td><td>100.0</td><td>&quot;GTR&quot;</td><td>&quot;RT + TMZ&quot;</td><td>&quot;VMAT-IMRT-IGRT…</td><td>&quot;No&quot;</td><td>90</td><td>314</td><td>506</td><td>&quot;yes&quot;</td><td>&quot;RHUH-0002&quot;</td><td>0</td><td>[8.477936, 189.186264, 77.249344]</td><td>&quot;E:\\dataset\\RHU…</td><td>&quot;E:\\dataset\\RHU…</td><td>&quot;E:\\dataset\\RHU…</td><td>&quot;E:\\dataset\\RHU…</td><td>&quot;E:\\dataset\\RHU…</td><td>&quot;E:\\dataset\\RHU…</td><td>&quot;center&quot;</td></tr><tr><td>&quot;RHUH-0002&quot;</td><td>9</td><td>65</td><td>&quot;female&quot;</td><td>90</td><td>&quot;no&quot;</td><td>&quot;glioblastoma&quot;</td><td>4</td><td>&quot;wt&quot;</td><td>&quot;5ALA+NAV+ioUS&quot;</td><td>1.6</td><td>0.0</td><td>27.06</td><td>6.64</td><td>100.0</td><td>&quot;GTR&quot;</td><td>&quot;RT + TMZ&quot;</td><td>&quot;VMAT-IMRT-IGRT…</td><td>&quot;No&quot;</td><td>90</td><td>314</td><td>506</td><td>&quot;yes&quot;</td><td>&quot;RHUH-0002&quot;</td><td>1</td><td>[5.099998, 160.711945, 75.162315]</td><td>&quot;E:\\dataset\\RHU…</td><td>&quot;E:\\dataset\\RHU…</td><td>&quot;E:\\dataset\\RHU…</td><td>&quot;E:\\dataset\\RHU…</td><td>&quot;E:\\dataset\\RHU…</td><td>&quot;E:\\dataset\\RHU…</td><td>&quot;center&quot;</td></tr><tr><td>&hellip;</td><td>&hellip;</td><td>&hellip;</td><td>&hellip;</td><td>&hellip;</td><td>&hellip;</td><td>&hellip;</td><td>&hellip;</td><td>&hellip;</td><td>&hellip;</td><td>&hellip;</td><td>&hellip;</td><td>&hellip;</td><td>&hellip;</td><td>&hellip;</td><td>&hellip;</td><td>&hellip;</td><td>&hellip;</td><td>&hellip;</td><td>&hellip;</td><td>&hellip;</td><td>&hellip;</td><td>&hellip;</td><td>&hellip;</td><td>&hellip;</td><td>&hellip;</td><td>&hellip;</td><td>&hellip;</td><td>&hellip;</td><td>&hellip;</td><td>&hellip;</td><td>&hellip;</td><td>&hellip;</td></tr><tr><td>&quot;RHUH-0039&quot;</td><td>1</td><td>67</td><td>&quot;female&quot;</td><td>80</td><td>&quot;no&quot;</td><td>&quot;glioblastoma&quot;</td><td>4</td><td>&quot;wt&quot;</td><td>&quot;5ALA+FL+NAV+io…</td><td>44.77</td><td>0.0</td><td>77.06</td><td>59.81</td><td>100.0</td><td>&quot;GTR&quot;</td><td>&quot;RT + TMZ&quot;</td><td>&quot;VMAT-IMRT-IGRT…</td><td>&quot;No&quot;</td><td>80</td><td>179</td><td>211</td><td>&quot;yes&quot;</td><td>&quot;RHUH-0039&quot;</td><td>1</td><td>[6.674034, 103.102638, 90.295456]</td><td>&quot;E:\\dataset\\RHU…</td><td>&quot;E:\\dataset\\RHU…</td><td>&quot;E:\\dataset\\RHU…</td><td>&quot;E:\\dataset\\RHU…</td><td>&quot;E:\\dataset\\RHU…</td><td>&quot;E:\\dataset\\RHU…</td><td>&quot;center&quot;</td></tr><tr><td>&quot;RHUH-0039&quot;</td><td>1</td><td>67</td><td>&quot;female&quot;</td><td>80</td><td>&quot;no&quot;</td><td>&quot;glioblastoma&quot;</td><td>4</td><td>&quot;wt&quot;</td><td>&quot;5ALA+FL+NAV+io…</td><td>44.77</td><td>0.0</td><td>77.06</td><td>59.81</td><td>100.0</td><td>&quot;GTR&quot;</td><td>&quot;RT + TMZ&quot;</td><td>&quot;VMAT-IMRT-IGRT…</td><td>&quot;No&quot;</td><td>80</td><td>179</td><td>211</td><td>&quot;yes&quot;</td><td>&quot;RHUH-0039&quot;</td><td>2</td><td>[1.71888, 117.445633, 78.311302]</td><td>&quot;E:\\dataset\\RHU…</td><td>&quot;E:\\dataset\\RHU…</td><td>&quot;E:\\dataset\\RHU…</td><td>&quot;E:\\dataset\\RHU…</td><td>&quot;E:\\dataset\\RHU…</td><td>&quot;E:\\dataset\\RHU…</td><td>&quot;center&quot;</td></tr><tr><td>&quot;RHUH-0040&quot;</td><td>1</td><td>60</td><td>&quot;male&quot;</td><td>70</td><td>&quot;no&quot;</td><td>&quot;glioblastoma&quot;</td><td>4</td><td>&quot;wt&quot;</td><td>&quot;5ALA+NAV+DES+i…</td><td>7.72</td><td>0.0</td><td>47.25</td><td>49.77</td><td>100.0</td><td>&quot;GTR&quot;</td><td>&quot;RT + TMZ&quot;</td><td>&quot;VMAT-IMRT-IGRT…</td><td>&quot;Transient&quot;</td><td>70</td><td>25</td><td>127</td><td>&quot;yes&quot;</td><td>&quot;RHUH-0040&quot;</td><td>0</td><td>[37.862671, 148.065155, 105.572212]</td><td>&quot;E:\\dataset\\RHU…</td><td>&quot;E:\\dataset\\RHU…</td><td>&quot;E:\\dataset\\RHU…</td><td>&quot;E:\\dataset\\RHU…</td><td>&quot;E:\\dataset\\RHU…</td><td>&quot;E:\\dataset\\RHU…</td><td>&quot;center&quot;</td></tr><tr><td>&quot;RHUH-0040&quot;</td><td>1</td><td>60</td><td>&quot;male&quot;</td><td>70</td><td>&quot;no&quot;</td><td>&quot;glioblastoma&quot;</td><td>4</td><td>&quot;wt&quot;</td><td>&quot;5ALA+NAV+DES+i…</td><td>7.72</td><td>0.0</td><td>47.25</td><td>49.77</td><td>100.0</td><td>&quot;GTR&quot;</td><td>&quot;RT + TMZ&quot;</td><td>&quot;VMAT-IMRT-IGRT…</td><td>&quot;Transient&quot;</td><td>70</td><td>25</td><td>127</td><td>&quot;yes&quot;</td><td>&quot;RHUH-0040&quot;</td><td>1</td><td>[40.374725, 145.176132, 98.473206]</td><td>&quot;E:\\dataset\\RHU…</td><td>&quot;E:\\dataset\\RHU…</td><td>&quot;E:\\dataset\\RHU…</td><td>&quot;E:\\dataset\\RHU…</td><td>&quot;E:\\dataset\\RHU…</td><td>&quot;E:\\dataset\\RHU…</td><td>&quot;center&quot;</td></tr><tr><td>&quot;RHUH-0040&quot;</td><td>1</td><td>60</td><td>&quot;male&quot;</td><td>70</td><td>&quot;no&quot;</td><td>&quot;glioblastoma&quot;</td><td>4</td><td>&quot;wt&quot;</td><td>&quot;5ALA+NAV+DES+i…</td><td>7.72</td><td>0.0</td><td>47.25</td><td>49.77</td><td>100.0</td><td>&quot;GTR&quot;</td><td>&quot;RT + TMZ&quot;</td><td>&quot;VMAT-IMRT-IGRT…</td><td>&quot;Transient&quot;</td><td>70</td><td>25</td><td>127</td><td>&quot;yes&quot;</td><td>&quot;RHUH-0040&quot;</td><td>2</td><td>[38.00975, 142.42659, 101.57135]</td><td>&quot;E:\\dataset\\RHU…</td><td>&quot;E:\\dataset\\RHU…</td><td>&quot;E:\\dataset\\RHU…</td><td>&quot;E:\\dataset\\RHU…</td><td>&quot;E:\\dataset\\RHU…</td><td>&quot;E:\\dataset\\RHU…</td><td>&quot;center&quot;</td></tr></tbody></table></div>"
      ],
      "text/plain": [
       "shape: (120, 33)\n",
       "┌────────────┬──────────────┬─────┬────────┬───┬──────────────┬─────────────┬─────────────┬────────┐\n",
       "│ Patient ID ┆ Days from    ┆ Age ┆ Sex    ┆ … ┆ t1           ┆ t1ce        ┆ t2          ┆ src    │\n",
       "│ ---        ┆ earliest     ┆ --- ┆ ---    ┆   ┆ ---          ┆ ---         ┆ ---         ┆ ---    │\n",
       "│ str        ┆ imaging to   ┆ i64 ┆ str    ┆   ┆ str          ┆ str         ┆ str         ┆ str    │\n",
       "│            ┆ su…          ┆     ┆        ┆   ┆              ┆             ┆             ┆        │\n",
       "│            ┆ ---          ┆     ┆        ┆   ┆              ┆             ┆             ┆        │\n",
       "│            ┆ i64          ┆     ┆        ┆   ┆              ┆             ┆             ┆        │\n",
       "╞════════════╪══════════════╪═════╪════════╪═══╪══════════════╪═════════════╪═════════════╪════════╡\n",
       "│ RHUH-0001  ┆ 1            ┆ 65  ┆ male   ┆ … ┆ E:\\dataset\\R ┆ E:\\dataset\\ ┆ E:\\dataset\\ ┆ center │\n",
       "│            ┆              ┆     ┆        ┆   ┆ HUH-GBM\\RHUH ┆ RHUH-GBM\\RH ┆ RHUH-GBM\\RH ┆        │\n",
       "│            ┆              ┆     ┆        ┆   ┆ -GBM_nii…    ┆ UH-GBM_nii… ┆ UH-GBM_nii… ┆        │\n",
       "│ RHUH-0001  ┆ 1            ┆ 65  ┆ male   ┆ … ┆ E:\\dataset\\R ┆ E:\\dataset\\ ┆ E:\\dataset\\ ┆ center │\n",
       "│            ┆              ┆     ┆        ┆   ┆ HUH-GBM\\RHUH ┆ RHUH-GBM\\RH ┆ RHUH-GBM\\RH ┆        │\n",
       "│            ┆              ┆     ┆        ┆   ┆ -GBM_nii…    ┆ UH-GBM_nii… ┆ UH-GBM_nii… ┆        │\n",
       "│ RHUH-0001  ┆ 1            ┆ 65  ┆ male   ┆ … ┆ E:\\dataset\\R ┆ E:\\dataset\\ ┆ E:\\dataset\\ ┆ center │\n",
       "│            ┆              ┆     ┆        ┆   ┆ HUH-GBM\\RHUH ┆ RHUH-GBM\\RH ┆ RHUH-GBM\\RH ┆        │\n",
       "│            ┆              ┆     ┆        ┆   ┆ -GBM_nii…    ┆ UH-GBM_nii… ┆ UH-GBM_nii… ┆        │\n",
       "│ RHUH-0002  ┆ 9            ┆ 65  ┆ female ┆ … ┆ E:\\dataset\\R ┆ E:\\dataset\\ ┆ E:\\dataset\\ ┆ center │\n",
       "│            ┆              ┆     ┆        ┆   ┆ HUH-GBM\\RHUH ┆ RHUH-GBM\\RH ┆ RHUH-GBM\\RH ┆        │\n",
       "│            ┆              ┆     ┆        ┆   ┆ -GBM_nii…    ┆ UH-GBM_nii… ┆ UH-GBM_nii… ┆        │\n",
       "│ RHUH-0002  ┆ 9            ┆ 65  ┆ female ┆ … ┆ E:\\dataset\\R ┆ E:\\dataset\\ ┆ E:\\dataset\\ ┆ center │\n",
       "│            ┆              ┆     ┆        ┆   ┆ HUH-GBM\\RHUH ┆ RHUH-GBM\\RH ┆ RHUH-GBM\\RH ┆        │\n",
       "│            ┆              ┆     ┆        ┆   ┆ -GBM_nii…    ┆ UH-GBM_nii… ┆ UH-GBM_nii… ┆        │\n",
       "│ …          ┆ …            ┆ …   ┆ …      ┆ … ┆ …            ┆ …           ┆ …           ┆ …      │\n",
       "│ RHUH-0039  ┆ 1            ┆ 67  ┆ female ┆ … ┆ E:\\dataset\\R ┆ E:\\dataset\\ ┆ E:\\dataset\\ ┆ center │\n",
       "│            ┆              ┆     ┆        ┆   ┆ HUH-GBM\\RHUH ┆ RHUH-GBM\\RH ┆ RHUH-GBM\\RH ┆        │\n",
       "│            ┆              ┆     ┆        ┆   ┆ -GBM_nii…    ┆ UH-GBM_nii… ┆ UH-GBM_nii… ┆        │\n",
       "│ RHUH-0039  ┆ 1            ┆ 67  ┆ female ┆ … ┆ E:\\dataset\\R ┆ E:\\dataset\\ ┆ E:\\dataset\\ ┆ center │\n",
       "│            ┆              ┆     ┆        ┆   ┆ HUH-GBM\\RHUH ┆ RHUH-GBM\\RH ┆ RHUH-GBM\\RH ┆        │\n",
       "│            ┆              ┆     ┆        ┆   ┆ -GBM_nii…    ┆ UH-GBM_nii… ┆ UH-GBM_nii… ┆        │\n",
       "│ RHUH-0040  ┆ 1            ┆ 60  ┆ male   ┆ … ┆ E:\\dataset\\R ┆ E:\\dataset\\ ┆ E:\\dataset\\ ┆ center │\n",
       "│            ┆              ┆     ┆        ┆   ┆ HUH-GBM\\RHUH ┆ RHUH-GBM\\RH ┆ RHUH-GBM\\RH ┆        │\n",
       "│            ┆              ┆     ┆        ┆   ┆ -GBM_nii…    ┆ UH-GBM_nii… ┆ UH-GBM_nii… ┆        │\n",
       "│ RHUH-0040  ┆ 1            ┆ 60  ┆ male   ┆ … ┆ E:\\dataset\\R ┆ E:\\dataset\\ ┆ E:\\dataset\\ ┆ center │\n",
       "│            ┆              ┆     ┆        ┆   ┆ HUH-GBM\\RHUH ┆ RHUH-GBM\\RH ┆ RHUH-GBM\\RH ┆        │\n",
       "│            ┆              ┆     ┆        ┆   ┆ -GBM_nii…    ┆ UH-GBM_nii… ┆ UH-GBM_nii… ┆        │\n",
       "│ RHUH-0040  ┆ 1            ┆ 60  ┆ male   ┆ … ┆ E:\\dataset\\R ┆ E:\\dataset\\ ┆ E:\\dataset\\ ┆ center │\n",
       "│            ┆              ┆     ┆        ┆   ┆ HUH-GBM\\RHUH ┆ RHUH-GBM\\RH ┆ RHUH-GBM\\RH ┆        │\n",
       "│            ┆              ┆     ┆        ┆   ┆ -GBM_nii…    ┆ UH-GBM_nii… ┆ UH-GBM_nii… ┆        │\n",
       "└────────────┴──────────────┴─────┴────────┴───┴──────────────┴─────────────┴─────────────┴────────┘"
      ]
     },
     "execution_count": 47,
     "metadata": {},
     "output_type": "execute_result"
    }
   ],
   "source": [
    "rhuh.clinical_data"
   ]
  }
 ],
 "metadata": {
  "kernelspec": {
   "display_name": "pytorch311",
   "language": "python",
   "name": "python3"
  },
  "language_info": {
   "codemirror_mode": {
    "name": "ipython",
    "version": 3
   },
   "file_extension": ".py",
   "mimetype": "text/x-python",
   "name": "python",
   "nbconvert_exporter": "python",
   "pygments_lexer": "ipython3",
   "version": "3.11.5"
  }
 },
 "nbformat": 4,
 "nbformat_minor": 2
}
