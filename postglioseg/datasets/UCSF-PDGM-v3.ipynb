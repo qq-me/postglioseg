{
 "cells": [
  {
   "cell_type": "code",
   "execution_count": 1,
   "metadata": {},
   "outputs": [],
   "source": [
    "import polars as pl\n",
    "import os\n",
    "import numpy as np\n",
    "import torch, torchvision\n",
    "from torchvision.utils import make_grid\n",
    "from glio.loaders import nifti\n",
    "from glio.python_tools import get_all_files\n",
    "from glio.jupyter_tools import clean_mem\n",
    "from glio.visualize import Visualizer\n",
    "import matplotlib.pyplot as plt\n",
    "path = r\"E:\\dataset\\UCSF-PDGM-v3\""
   ]
  },
  {
   "cell_type": "code",
   "execution_count": 2,
   "metadata": {},
   "outputs": [
    {
     "data": {
      "text/html": [
       "<div><style>\n",
       ".dataframe > thead > tr,\n",
       ".dataframe > tbody > tr {\n",
       "  text-align: right;\n",
       "  white-space: pre-wrap;\n",
       "}\n",
       "</style>\n",
       "<small>shape: (495, 24)</small><table border=\"1\" class=\"dataframe\"><thead><tr><th>ID</th><th>PATH_ADC.nii.gz</th><th>PATH_ASL.nii.gz</th><th>PATH_brain_parenchyma_segmentation.nii.gz</th><th>PATH_brain_segmentation.nii.gz</th><th>PATH_DTI_eddy_FA.nii.gz</th><th>PATH_DTI_eddy_L1.nii.gz</th><th>PATH_DTI_eddy_L2.nii.gz</th><th>PATH_DTI_eddy_L3.nii.gz</th><th>PATH_DTI_eddy_MD.nii.gz</th><th>PATH_DTI_eddy_noreg.nii.gz</th><th>PATH_DWI.nii.gz</th><th>PATH_DWI_bias.nii.gz</th><th>PATH_FLAIR.nii.gz</th><th>PATH_FLAIR_bias.nii.gz</th><th>PATH_SWI.nii.gz</th><th>PATH_SWI_bias.nii.gz</th><th>PATH_T1.nii.gz</th><th>PATH_T1c.nii.gz</th><th>PATH_T1c_bias.nii.gz</th><th>PATH_T1_bias.nii.gz</th><th>PATH_T2.nii.gz</th><th>PATH_T2_bias.nii.gz</th><th>PATH_tumor_segmentation.nii.gz</th></tr><tr><td>str</td><td>str</td><td>str</td><td>str</td><td>str</td><td>str</td><td>str</td><td>str</td><td>str</td><td>str</td><td>str</td><td>str</td><td>str</td><td>str</td><td>str</td><td>str</td><td>str</td><td>str</td><td>str</td><td>str</td><td>str</td><td>str</td><td>str</td><td>str</td></tr></thead><tbody><tr><td>&quot;UCSF-PDGM-0004…</td><td>&quot;E:\\dataset\\UCS…</td><td>&quot;E:\\dataset\\UCS…</td><td>&quot;E:\\dataset\\UCS…</td><td>&quot;E:\\dataset\\UCS…</td><td>&quot;E:\\dataset\\UCS…</td><td>&quot;E:\\dataset\\UCS…</td><td>&quot;E:\\dataset\\UCS…</td><td>&quot;E:\\dataset\\UCS…</td><td>&quot;E:\\dataset\\UCS…</td><td>&quot;E:\\dataset\\UCS…</td><td>&quot;E:\\dataset\\UCS…</td><td>&quot;E:\\dataset\\UCS…</td><td>&quot;E:\\dataset\\UCS…</td><td>&quot;E:\\dataset\\UCS…</td><td>&quot;E:\\dataset\\UCS…</td><td>&quot;E:\\dataset\\UCS…</td><td>&quot;E:\\dataset\\UCS…</td><td>&quot;E:\\dataset\\UCS…</td><td>&quot;E:\\dataset\\UCS…</td><td>&quot;E:\\dataset\\UCS…</td><td>&quot;E:\\dataset\\UCS…</td><td>&quot;E:\\dataset\\UCS…</td><td>&quot;E:\\dataset\\UCS…</td></tr><tr><td>&quot;UCSF-PDGM-0005…</td><td>&quot;E:\\dataset\\UCS…</td><td>&quot;E:\\dataset\\UCS…</td><td>&quot;E:\\dataset\\UCS…</td><td>&quot;E:\\dataset\\UCS…</td><td>&quot;E:\\dataset\\UCS…</td><td>&quot;E:\\dataset\\UCS…</td><td>&quot;E:\\dataset\\UCS…</td><td>&quot;E:\\dataset\\UCS…</td><td>&quot;E:\\dataset\\UCS…</td><td>&quot;E:\\dataset\\UCS…</td><td>&quot;E:\\dataset\\UCS…</td><td>&quot;E:\\dataset\\UCS…</td><td>&quot;E:\\dataset\\UCS…</td><td>&quot;E:\\dataset\\UCS…</td><td>&quot;E:\\dataset\\UCS…</td><td>&quot;E:\\dataset\\UCS…</td><td>&quot;E:\\dataset\\UCS…</td><td>&quot;E:\\dataset\\UCS…</td><td>&quot;E:\\dataset\\UCS…</td><td>&quot;E:\\dataset\\UCS…</td><td>&quot;E:\\dataset\\UCS…</td><td>&quot;E:\\dataset\\UCS…</td><td>&quot;E:\\dataset\\UCS…</td></tr><tr><td>&quot;UCSF-PDGM-0007…</td><td>&quot;E:\\dataset\\UCS…</td><td>&quot;E:\\dataset\\UCS…</td><td>&quot;E:\\dataset\\UCS…</td><td>&quot;E:\\dataset\\UCS…</td><td>&quot;E:\\dataset\\UCS…</td><td>&quot;E:\\dataset\\UCS…</td><td>&quot;E:\\dataset\\UCS…</td><td>&quot;E:\\dataset\\UCS…</td><td>&quot;E:\\dataset\\UCS…</td><td>&quot;E:\\dataset\\UCS…</td><td>&quot;E:\\dataset\\UCS…</td><td>&quot;E:\\dataset\\UCS…</td><td>&quot;E:\\dataset\\UCS…</td><td>&quot;E:\\dataset\\UCS…</td><td>&quot;E:\\dataset\\UCS…</td><td>&quot;E:\\dataset\\UCS…</td><td>&quot;E:\\dataset\\UCS…</td><td>&quot;E:\\dataset\\UCS…</td><td>&quot;E:\\dataset\\UCS…</td><td>&quot;E:\\dataset\\UCS…</td><td>&quot;E:\\dataset\\UCS…</td><td>&quot;E:\\dataset\\UCS…</td><td>&quot;E:\\dataset\\UCS…</td></tr><tr><td>&quot;UCSF-PDGM-0008…</td><td>&quot;E:\\dataset\\UCS…</td><td>&quot;E:\\dataset\\UCS…</td><td>&quot;E:\\dataset\\UCS…</td><td>&quot;E:\\dataset\\UCS…</td><td>&quot;E:\\dataset\\UCS…</td><td>&quot;E:\\dataset\\UCS…</td><td>&quot;E:\\dataset\\UCS…</td><td>&quot;E:\\dataset\\UCS…</td><td>&quot;E:\\dataset\\UCS…</td><td>&quot;E:\\dataset\\UCS…</td><td>&quot;E:\\dataset\\UCS…</td><td>&quot;E:\\dataset\\UCS…</td><td>&quot;E:\\dataset\\UCS…</td><td>&quot;E:\\dataset\\UCS…</td><td>&quot;E:\\dataset\\UCS…</td><td>&quot;E:\\dataset\\UCS…</td><td>&quot;E:\\dataset\\UCS…</td><td>&quot;E:\\dataset\\UCS…</td><td>&quot;E:\\dataset\\UCS…</td><td>&quot;E:\\dataset\\UCS…</td><td>&quot;E:\\dataset\\UCS…</td><td>&quot;E:\\dataset\\UCS…</td><td>&quot;E:\\dataset\\UCS…</td></tr><tr><td>&quot;UCSF-PDGM-0009…</td><td>&quot;E:\\dataset\\UCS…</td><td>&quot;E:\\dataset\\UCS…</td><td>&quot;E:\\dataset\\UCS…</td><td>&quot;E:\\dataset\\UCS…</td><td>&quot;E:\\dataset\\UCS…</td><td>&quot;E:\\dataset\\UCS…</td><td>&quot;E:\\dataset\\UCS…</td><td>&quot;E:\\dataset\\UCS…</td><td>&quot;E:\\dataset\\UCS…</td><td>&quot;E:\\dataset\\UCS…</td><td>&quot;E:\\dataset\\UCS…</td><td>&quot;E:\\dataset\\UCS…</td><td>&quot;E:\\dataset\\UCS…</td><td>&quot;E:\\dataset\\UCS…</td><td>&quot;E:\\dataset\\UCS…</td><td>&quot;E:\\dataset\\UCS…</td><td>&quot;E:\\dataset\\UCS…</td><td>&quot;E:\\dataset\\UCS…</td><td>&quot;E:\\dataset\\UCS…</td><td>&quot;E:\\dataset\\UCS…</td><td>&quot;E:\\dataset\\UCS…</td><td>&quot;E:\\dataset\\UCS…</td><td>&quot;E:\\dataset\\UCS…</td></tr><tr><td>&hellip;</td><td>&hellip;</td><td>&hellip;</td><td>&hellip;</td><td>&hellip;</td><td>&hellip;</td><td>&hellip;</td><td>&hellip;</td><td>&hellip;</td><td>&hellip;</td><td>&hellip;</td><td>&hellip;</td><td>&hellip;</td><td>&hellip;</td><td>&hellip;</td><td>&hellip;</td><td>&hellip;</td><td>&hellip;</td><td>&hellip;</td><td>&hellip;</td><td>&hellip;</td><td>&hellip;</td><td>&hellip;</td><td>&hellip;</td></tr><tr><td>&quot;UCSF-PDGM-0537…</td><td>&quot;E:\\dataset\\UCS…</td><td>&quot;E:\\dataset\\UCS…</td><td>&quot;E:\\dataset\\UCS…</td><td>&quot;E:\\dataset\\UCS…</td><td>&quot;E:\\dataset\\UCS…</td><td>&quot;E:\\dataset\\UCS…</td><td>&quot;E:\\dataset\\UCS…</td><td>&quot;E:\\dataset\\UCS…</td><td>&quot;E:\\dataset\\UCS…</td><td>&quot;E:\\dataset\\UCS…</td><td>&quot;E:\\dataset\\UCS…</td><td>&quot;E:\\dataset\\UCS…</td><td>&quot;E:\\dataset\\UCS…</td><td>&quot;E:\\dataset\\UCS…</td><td>&quot;E:\\dataset\\UCS…</td><td>&quot;E:\\dataset\\UCS…</td><td>&quot;E:\\dataset\\UCS…</td><td>&quot;E:\\dataset\\UCS…</td><td>&quot;E:\\dataset\\UCS…</td><td>&quot;E:\\dataset\\UCS…</td><td>&quot;E:\\dataset\\UCS…</td><td>&quot;E:\\dataset\\UCS…</td><td>&quot;E:\\dataset\\UCS…</td></tr><tr><td>&quot;UCSF-PDGM-0538…</td><td>&quot;E:\\dataset\\UCS…</td><td>&quot;E:\\dataset\\UCS…</td><td>&quot;E:\\dataset\\UCS…</td><td>&quot;E:\\dataset\\UCS…</td><td>&quot;E:\\dataset\\UCS…</td><td>&quot;E:\\dataset\\UCS…</td><td>&quot;E:\\dataset\\UCS…</td><td>&quot;E:\\dataset\\UCS…</td><td>&quot;E:\\dataset\\UCS…</td><td>&quot;E:\\dataset\\UCS…</td><td>&quot;E:\\dataset\\UCS…</td><td>&quot;E:\\dataset\\UCS…</td><td>&quot;E:\\dataset\\UCS…</td><td>&quot;E:\\dataset\\UCS…</td><td>&quot;E:\\dataset\\UCS…</td><td>&quot;E:\\dataset\\UCS…</td><td>&quot;E:\\dataset\\UCS…</td><td>&quot;E:\\dataset\\UCS…</td><td>&quot;E:\\dataset\\UCS…</td><td>&quot;E:\\dataset\\UCS…</td><td>&quot;E:\\dataset\\UCS…</td><td>&quot;E:\\dataset\\UCS…</td><td>&quot;E:\\dataset\\UCS…</td></tr><tr><td>&quot;UCSF-PDGM-0539…</td><td>&quot;E:\\dataset\\UCS…</td><td>&quot;E:\\dataset\\UCS…</td><td>&quot;E:\\dataset\\UCS…</td><td>&quot;E:\\dataset\\UCS…</td><td>&quot;E:\\dataset\\UCS…</td><td>&quot;E:\\dataset\\UCS…</td><td>&quot;E:\\dataset\\UCS…</td><td>&quot;E:\\dataset\\UCS…</td><td>&quot;E:\\dataset\\UCS…</td><td>&quot;E:\\dataset\\UCS…</td><td>&quot;E:\\dataset\\UCS…</td><td>&quot;E:\\dataset\\UCS…</td><td>&quot;E:\\dataset\\UCS…</td><td>&quot;E:\\dataset\\UCS…</td><td>&quot;E:\\dataset\\UCS…</td><td>&quot;E:\\dataset\\UCS…</td><td>&quot;E:\\dataset\\UCS…</td><td>&quot;E:\\dataset\\UCS…</td><td>&quot;E:\\dataset\\UCS…</td><td>&quot;E:\\dataset\\UCS…</td><td>&quot;E:\\dataset\\UCS…</td><td>&quot;E:\\dataset\\UCS…</td><td>&quot;E:\\dataset\\UCS…</td></tr><tr><td>&quot;UCSF-PDGM-0540…</td><td>&quot;E:\\dataset\\UCS…</td><td>&quot;E:\\dataset\\UCS…</td><td>&quot;E:\\dataset\\UCS…</td><td>&quot;E:\\dataset\\UCS…</td><td>&quot;E:\\dataset\\UCS…</td><td>&quot;E:\\dataset\\UCS…</td><td>&quot;E:\\dataset\\UCS…</td><td>&quot;E:\\dataset\\UCS…</td><td>&quot;E:\\dataset\\UCS…</td><td>&quot;E:\\dataset\\UCS…</td><td>&quot;E:\\dataset\\UCS…</td><td>&quot;E:\\dataset\\UCS…</td><td>&quot;E:\\dataset\\UCS…</td><td>&quot;E:\\dataset\\UCS…</td><td>&quot;E:\\dataset\\UCS…</td><td>&quot;E:\\dataset\\UCS…</td><td>&quot;E:\\dataset\\UCS…</td><td>&quot;E:\\dataset\\UCS…</td><td>&quot;E:\\dataset\\UCS…</td><td>&quot;E:\\dataset\\UCS…</td><td>&quot;E:\\dataset\\UCS…</td><td>&quot;E:\\dataset\\UCS…</td><td>&quot;E:\\dataset\\UCS…</td></tr><tr><td>&quot;UCSF-PDGM-0541…</td><td>&quot;E:\\dataset\\UCS…</td><td>&quot;E:\\dataset\\UCS…</td><td>&quot;E:\\dataset\\UCS…</td><td>&quot;E:\\dataset\\UCS…</td><td>&quot;E:\\dataset\\UCS…</td><td>&quot;E:\\dataset\\UCS…</td><td>&quot;E:\\dataset\\UCS…</td><td>&quot;E:\\dataset\\UCS…</td><td>&quot;E:\\dataset\\UCS…</td><td>&quot;E:\\dataset\\UCS…</td><td>&quot;E:\\dataset\\UCS…</td><td>&quot;E:\\dataset\\UCS…</td><td>&quot;E:\\dataset\\UCS…</td><td>&quot;E:\\dataset\\UCS…</td><td>&quot;E:\\dataset\\UCS…</td><td>&quot;E:\\dataset\\UCS…</td><td>&quot;E:\\dataset\\UCS…</td><td>&quot;E:\\dataset\\UCS…</td><td>&quot;E:\\dataset\\UCS…</td><td>&quot;E:\\dataset\\UCS…</td><td>&quot;E:\\dataset\\UCS…</td><td>&quot;E:\\dataset\\UCS…</td><td>&quot;E:\\dataset\\UCS…</td></tr></tbody></table></div>"
      ],
      "text/plain": [
       "shape: (495, 24)\n",
       "┌───────────┬───────────┬───────────┬───────────┬───┬───────────┬───────────┬───────────┬──────────┐\n",
       "│ ID        ┆ PATH_ADC. ┆ PATH_ASL. ┆ PATH_brai ┆ … ┆ PATH_T1_b ┆ PATH_T2.n ┆ PATH_T2_b ┆ PATH_tum │\n",
       "│ ---       ┆ nii.gz    ┆ nii.gz    ┆ n_parench ┆   ┆ ias.nii.g ┆ ii.gz     ┆ ias.nii.g ┆ or_segme │\n",
       "│ str       ┆ ---       ┆ ---       ┆ yma_segme ┆   ┆ z         ┆ ---       ┆ z         ┆ ntation. │\n",
       "│           ┆ str       ┆ str       ┆ ntati…    ┆   ┆ ---       ┆ str       ┆ ---       ┆ nii.gz   │\n",
       "│           ┆           ┆           ┆ ---       ┆   ┆ str       ┆           ┆ str       ┆ ---      │\n",
       "│           ┆           ┆           ┆ str       ┆   ┆           ┆           ┆           ┆ str      │\n",
       "╞═══════════╪═══════════╪═══════════╪═══════════╪═══╪═══════════╪═══════════╪═══════════╪══════════╡\n",
       "│ UCSF-PDGM ┆ E:\\datase ┆ E:\\datase ┆ E:\\datase ┆ … ┆ E:\\datase ┆ E:\\datase ┆ E:\\datase ┆ E:\\datas │\n",
       "│ -0004     ┆ t\\UCSF-PD ┆ t\\UCSF-PD ┆ t\\UCSF-PD ┆   ┆ t\\UCSF-PD ┆ t\\UCSF-PD ┆ t\\UCSF-PD ┆ et\\UCSF- │\n",
       "│           ┆ GM-v3/UCS ┆ GM-v3/UCS ┆ GM-v3/UCS ┆   ┆ GM-v3/UCS ┆ GM-v3/UCS ┆ GM-v3/UCS ┆ PDGM-v3/ │\n",
       "│           ┆ F-PDG…    ┆ F-PDG…    ┆ F-PDG…    ┆   ┆ F-PDG…    ┆ F-PDG…    ┆ F-PDG…    ┆ UCSF-PDG │\n",
       "│           ┆           ┆           ┆           ┆   ┆           ┆           ┆           ┆ …        │\n",
       "│ UCSF-PDGM ┆ E:\\datase ┆ E:\\datase ┆ E:\\datase ┆ … ┆ E:\\datase ┆ E:\\datase ┆ E:\\datase ┆ E:\\datas │\n",
       "│ -0005     ┆ t\\UCSF-PD ┆ t\\UCSF-PD ┆ t\\UCSF-PD ┆   ┆ t\\UCSF-PD ┆ t\\UCSF-PD ┆ t\\UCSF-PD ┆ et\\UCSF- │\n",
       "│           ┆ GM-v3/UCS ┆ GM-v3/UCS ┆ GM-v3/UCS ┆   ┆ GM-v3/UCS ┆ GM-v3/UCS ┆ GM-v3/UCS ┆ PDGM-v3/ │\n",
       "│           ┆ F-PDG…    ┆ F-PDG…    ┆ F-PDG…    ┆   ┆ F-PDG…    ┆ F-PDG…    ┆ F-PDG…    ┆ UCSF-PDG │\n",
       "│           ┆           ┆           ┆           ┆   ┆           ┆           ┆           ┆ …        │\n",
       "│ UCSF-PDGM ┆ E:\\datase ┆ E:\\datase ┆ E:\\datase ┆ … ┆ E:\\datase ┆ E:\\datase ┆ E:\\datase ┆ E:\\datas │\n",
       "│ -0007     ┆ t\\UCSF-PD ┆ t\\UCSF-PD ┆ t\\UCSF-PD ┆   ┆ t\\UCSF-PD ┆ t\\UCSF-PD ┆ t\\UCSF-PD ┆ et\\UCSF- │\n",
       "│           ┆ GM-v3/UCS ┆ GM-v3/UCS ┆ GM-v3/UCS ┆   ┆ GM-v3/UCS ┆ GM-v3/UCS ┆ GM-v3/UCS ┆ PDGM-v3/ │\n",
       "│           ┆ F-PDG…    ┆ F-PDG…    ┆ F-PDG…    ┆   ┆ F-PDG…    ┆ F-PDG…    ┆ F-PDG…    ┆ UCSF-PDG │\n",
       "│           ┆           ┆           ┆           ┆   ┆           ┆           ┆           ┆ …        │\n",
       "│ UCSF-PDGM ┆ E:\\datase ┆ E:\\datase ┆ E:\\datase ┆ … ┆ E:\\datase ┆ E:\\datase ┆ E:\\datase ┆ E:\\datas │\n",
       "│ -0008     ┆ t\\UCSF-PD ┆ t\\UCSF-PD ┆ t\\UCSF-PD ┆   ┆ t\\UCSF-PD ┆ t\\UCSF-PD ┆ t\\UCSF-PD ┆ et\\UCSF- │\n",
       "│           ┆ GM-v3/UCS ┆ GM-v3/UCS ┆ GM-v3/UCS ┆   ┆ GM-v3/UCS ┆ GM-v3/UCS ┆ GM-v3/UCS ┆ PDGM-v3/ │\n",
       "│           ┆ F-PDG…    ┆ F-PDG…    ┆ F-PDG…    ┆   ┆ F-PDG…    ┆ F-PDG…    ┆ F-PDG…    ┆ UCSF-PDG │\n",
       "│           ┆           ┆           ┆           ┆   ┆           ┆           ┆           ┆ …        │\n",
       "│ UCSF-PDGM ┆ E:\\datase ┆ E:\\datase ┆ E:\\datase ┆ … ┆ E:\\datase ┆ E:\\datase ┆ E:\\datase ┆ E:\\datas │\n",
       "│ -0009     ┆ t\\UCSF-PD ┆ t\\UCSF-PD ┆ t\\UCSF-PD ┆   ┆ t\\UCSF-PD ┆ t\\UCSF-PD ┆ t\\UCSF-PD ┆ et\\UCSF- │\n",
       "│           ┆ GM-v3/UCS ┆ GM-v3/UCS ┆ GM-v3/UCS ┆   ┆ GM-v3/UCS ┆ GM-v3/UCS ┆ GM-v3/UCS ┆ PDGM-v3/ │\n",
       "│           ┆ F-PDG…    ┆ F-PDG…    ┆ F-PDG…    ┆   ┆ F-PDG…    ┆ F-PDG…    ┆ F-PDG…    ┆ UCSF-PDG │\n",
       "│           ┆           ┆           ┆           ┆   ┆           ┆           ┆           ┆ …        │\n",
       "│ …         ┆ …         ┆ …         ┆ …         ┆ … ┆ …         ┆ …         ┆ …         ┆ …        │\n",
       "│ UCSF-PDGM ┆ E:\\datase ┆ E:\\datase ┆ E:\\datase ┆ … ┆ E:\\datase ┆ E:\\datase ┆ E:\\datase ┆ E:\\datas │\n",
       "│ -0537     ┆ t\\UCSF-PD ┆ t\\UCSF-PD ┆ t\\UCSF-PD ┆   ┆ t\\UCSF-PD ┆ t\\UCSF-PD ┆ t\\UCSF-PD ┆ et\\UCSF- │\n",
       "│           ┆ GM-v3/UCS ┆ GM-v3/UCS ┆ GM-v3/UCS ┆   ┆ GM-v3/UCS ┆ GM-v3/UCS ┆ GM-v3/UCS ┆ PDGM-v3/ │\n",
       "│           ┆ F-PDG…    ┆ F-PDG…    ┆ F-PDG…    ┆   ┆ F-PDG…    ┆ F-PDG…    ┆ F-PDG…    ┆ UCSF-PDG │\n",
       "│           ┆           ┆           ┆           ┆   ┆           ┆           ┆           ┆ …        │\n",
       "│ UCSF-PDGM ┆ E:\\datase ┆ E:\\datase ┆ E:\\datase ┆ … ┆ E:\\datase ┆ E:\\datase ┆ E:\\datase ┆ E:\\datas │\n",
       "│ -0538     ┆ t\\UCSF-PD ┆ t\\UCSF-PD ┆ t\\UCSF-PD ┆   ┆ t\\UCSF-PD ┆ t\\UCSF-PD ┆ t\\UCSF-PD ┆ et\\UCSF- │\n",
       "│           ┆ GM-v3/UCS ┆ GM-v3/UCS ┆ GM-v3/UCS ┆   ┆ GM-v3/UCS ┆ GM-v3/UCS ┆ GM-v3/UCS ┆ PDGM-v3/ │\n",
       "│           ┆ F-PDG…    ┆ F-PDG…    ┆ F-PDG…    ┆   ┆ F-PDG…    ┆ F-PDG…    ┆ F-PDG…    ┆ UCSF-PDG │\n",
       "│           ┆           ┆           ┆           ┆   ┆           ┆           ┆           ┆ …        │\n",
       "│ UCSF-PDGM ┆ E:\\datase ┆ E:\\datase ┆ E:\\datase ┆ … ┆ E:\\datase ┆ E:\\datase ┆ E:\\datase ┆ E:\\datas │\n",
       "│ -0539     ┆ t\\UCSF-PD ┆ t\\UCSF-PD ┆ t\\UCSF-PD ┆   ┆ t\\UCSF-PD ┆ t\\UCSF-PD ┆ t\\UCSF-PD ┆ et\\UCSF- │\n",
       "│           ┆ GM-v3/UCS ┆ GM-v3/UCS ┆ GM-v3/UCS ┆   ┆ GM-v3/UCS ┆ GM-v3/UCS ┆ GM-v3/UCS ┆ PDGM-v3/ │\n",
       "│           ┆ F-PDG…    ┆ F-PDG…    ┆ F-PDG…    ┆   ┆ F-PDG…    ┆ F-PDG…    ┆ F-PDG…    ┆ UCSF-PDG │\n",
       "│           ┆           ┆           ┆           ┆   ┆           ┆           ┆           ┆ …        │\n",
       "│ UCSF-PDGM ┆ E:\\datase ┆ E:\\datase ┆ E:\\datase ┆ … ┆ E:\\datase ┆ E:\\datase ┆ E:\\datase ┆ E:\\datas │\n",
       "│ -0540     ┆ t\\UCSF-PD ┆ t\\UCSF-PD ┆ t\\UCSF-PD ┆   ┆ t\\UCSF-PD ┆ t\\UCSF-PD ┆ t\\UCSF-PD ┆ et\\UCSF- │\n",
       "│           ┆ GM-v3/UCS ┆ GM-v3/UCS ┆ GM-v3/UCS ┆   ┆ GM-v3/UCS ┆ GM-v3/UCS ┆ GM-v3/UCS ┆ PDGM-v3/ │\n",
       "│           ┆ F-PDG…    ┆ F-PDG…    ┆ F-PDG…    ┆   ┆ F-PDG…    ┆ F-PDG…    ┆ F-PDG…    ┆ UCSF-PDG │\n",
       "│           ┆           ┆           ┆           ┆   ┆           ┆           ┆           ┆ …        │\n",
       "│ UCSF-PDGM ┆ E:\\datase ┆ E:\\datase ┆ E:\\datase ┆ … ┆ E:\\datase ┆ E:\\datase ┆ E:\\datase ┆ E:\\datas │\n",
       "│ -0541     ┆ t\\UCSF-PD ┆ t\\UCSF-PD ┆ t\\UCSF-PD ┆   ┆ t\\UCSF-PD ┆ t\\UCSF-PD ┆ t\\UCSF-PD ┆ et\\UCSF- │\n",
       "│           ┆ GM-v3/UCS ┆ GM-v3/UCS ┆ GM-v3/UCS ┆   ┆ GM-v3/UCS ┆ GM-v3/UCS ┆ GM-v3/UCS ┆ PDGM-v3/ │\n",
       "│           ┆ F-PDG…    ┆ F-PDG…    ┆ F-PDG…    ┆   ┆ F-PDG…    ┆ F-PDG…    ┆ F-PDG…    ┆ UCSF-PDG │\n",
       "│           ┆           ┆           ┆           ┆   ┆           ┆           ┆           ┆ …        │\n",
       "└───────────┴───────────┴───────────┴───────────┴───┴───────────┴───────────┴───────────┴──────────┘"
      ]
     },
     "execution_count": 2,
     "metadata": {},
     "output_type": "execute_result"
    }
   ],
   "source": [
    "all_files = get_all_files(f\"{path}/UCSF-PDGM-v3\", extensions=[\"nii.gz\"])\n",
    "id_length = len(\"UCSF-PDGM-0004\")\n",
    "files_dict = {}\n",
    "\n",
    "for file in all_files:\n",
    "    filename = os.path.basename(file)\n",
    "    study_id = filename[:id_length]\n",
    "    file_modality = f\"PATH{filename[id_length:]}\"\n",
    "    if study_id not in files_dict:\n",
    "        files_dict[study_id] = {\"ID\": study_id}\n",
    "    files_dict[study_id][file_modality] = file\n",
    "\n",
    "files_dict = list(files_dict.values())\n",
    "\n",
    "filepaths_df = pl.from_dicts(files_dict)\n",
    "filepaths_df"
   ]
  },
  {
   "cell_type": "code",
   "execution_count": 3,
   "metadata": {},
   "outputs": [
    {
     "data": {
      "text/plain": [
       "['ID',\n",
       " 'PATH_ADC.nii.gz',\n",
       " 'PATH_ASL.nii.gz',\n",
       " 'PATH_brain_parenchyma_segmentation.nii.gz',\n",
       " 'PATH_brain_segmentation.nii.gz',\n",
       " 'PATH_DTI_eddy_FA.nii.gz',\n",
       " 'PATH_DTI_eddy_L1.nii.gz',\n",
       " 'PATH_DTI_eddy_L2.nii.gz',\n",
       " 'PATH_DTI_eddy_L3.nii.gz',\n",
       " 'PATH_DTI_eddy_MD.nii.gz',\n",
       " 'PATH_DTI_eddy_noreg.nii.gz',\n",
       " 'PATH_DWI.nii.gz',\n",
       " 'PATH_DWI_bias.nii.gz',\n",
       " 'PATH_FLAIR.nii.gz',\n",
       " 'PATH_FLAIR_bias.nii.gz',\n",
       " 'PATH_SWI.nii.gz',\n",
       " 'PATH_SWI_bias.nii.gz',\n",
       " 'PATH_T1.nii.gz',\n",
       " 'PATH_T1c.nii.gz',\n",
       " 'PATH_T1c_bias.nii.gz',\n",
       " 'PATH_T1_bias.nii.gz',\n",
       " 'PATH_T2.nii.gz',\n",
       " 'PATH_T2_bias.nii.gz',\n",
       " 'PATH_tumor_segmentation.nii.gz']"
      ]
     },
     "execution_count": 3,
     "metadata": {},
     "output_type": "execute_result"
    }
   ],
   "source": [
    "filepaths_df.columns"
   ]
  }
 ],
 "metadata": {
  "kernelspec": {
   "display_name": "pytorch311",
   "language": "python",
   "name": "python3"
  },
  "language_info": {
   "codemirror_mode": {
    "name": "ipython",
    "version": 3
   },
   "file_extension": ".py",
   "mimetype": "text/x-python",
   "name": "python",
   "nbconvert_exporter": "python",
   "pygments_lexer": "ipython3",
   "version": "3.11.5"
  }
 },
 "nbformat": 4,
 "nbformat_minor": 2
}
