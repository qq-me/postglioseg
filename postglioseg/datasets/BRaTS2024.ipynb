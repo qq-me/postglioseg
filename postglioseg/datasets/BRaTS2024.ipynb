{
 "cells": [
  {
   "cell_type": "code",
   "execution_count": 1,
   "metadata": {},
   "outputs": [],
   "source": [
    "from glio.loaders import nifti\n",
    "from glio.jupyter_tools import show_slices, show_slices_arr\n",
    "from glio.torch_tools import to_binary, center_of_mass, binary_erode3d\n",
    "import torch\n",
    "import polars as pl"
   ]
  },
  {
   "cell_type": "code",
   "execution_count": 2,
   "metadata": {},
   "outputs": [
    {
     "name": "stdout",
     "output_type": "stream",
     "text": [
      "127TS-GoAT-02250\r"
     ]
    }
   ],
   "source": [
    "from glio.python_tools import get_all_files\n",
    "from glio.torch_tools import area_around\n",
    "from glio.transforms import z_normalize\n",
    "import os, h5py, numpy as np\n",
    "cases = {}\n",
    "\n",
    "for folder in sorted(os.listdir(r\"E:\\dataset\\BRaTS2024-GoAT\\ISBI2024-BraTS-GoAT-TrainingData\")):\n",
    "        print(folder, end='\\r')\n",
    "        full_path = os.path.join(r\"E:\\dataset\\BRaTS2024-GoAT\\ISBI2024-BraTS-GoAT-TrainingData\", folder)\n",
    "        filename = sorted(os.listdir(full_path))[0]\n",
    "        case = filename[:len(\"BraTS-GoAT-00000\")]\n",
    "        cases[case] = {\"id\":case}\n",
    "        for file in get_all_files(full_path):\n",
    "            filename = os.path.basename(file)\n",
    "            modality = filename[len(\"BraTS-GoAT-00000-\"):].replace(\".nii.gz\", \"\")\n",
    "            cases[case][modality] = file\n",
    "\n",
    "\n",
    "        seg = nifti.read(cases[case][\"seg\"])\n",
    "        center = center_of_mass(binary_erode3d(to_binary(seg), 2)).tolist()\n",
    "        cases[case][\"center\"] = str(center)[1:-1]\n",
    "\n",
    "        images = torch.stack([(z_normalize(nifti.read(cases[case][modality]).to(torch.float32)) if modality != \"seg\" else nifti.read(cases[case][modality])) for modality in [\"t1c\", \"t1n\", \"t2f\", \"t2w\", \"seg\"]])\n",
    "        os.mkdir(rf\"E:\\dataset\\BRaTS2024 2D\\{case}\")\n",
    "        for i, slice in enumerate(area_around(images, center, (128,128,128)).unbind(1)):\n",
    "            print(i, end='\\r')\n",
    "            np.savez_compressed(rf\"E:\\dataset\\BRaTS2024 2D\\{case}\\{case}_{i}.npz\", t1c=slice[0], t1n=slice[1], t2f=slice[2], t2w=slice[3], seg=slice[4])\n"
   ]
  },
  {
   "cell_type": "code",
   "execution_count": 3,
   "metadata": {},
   "outputs": [],
   "source": [
    "df_dict = {\"id\":[], \"seg\":[], \"t1c\":[], \"t1n\":[], \"t2f\":[], \"t2w\":[], \"center\":[], \"postop\":[]}\n",
    "for case, d in cases.items():\n",
    "    df_dict[\"id\"].append(case)\n",
    "    df_dict[\"seg\"].append(d[\"seg\"])\n",
    "    df_dict[\"t1c\"].append(d[\"t1c\"])\n",
    "    df_dict[\"t1n\"].append(d[\"t1n\"])\n",
    "    df_dict[\"t2f\"].append(d[\"t2f\"])\n",
    "    df_dict[\"t2w\"].append(d[\"t2w\"])\n",
    "    df_dict[\"center\"].append(d[\"center\"])\n",
    "    postop = d[\"t1c\"].split(\"-\")[-2]\n",
    "    if postop == \"000\": postop=0\n",
    "    else: postop = 1\n",
    "    df_dict[\"postop\"].append(postop)\n"
   ]
  },
  {
   "cell_type": "code",
   "execution_count": 4,
   "metadata": {},
   "outputs": [
    {
     "data": {
      "text/html": [
       "<div><style>\n",
       ".dataframe > thead > tr,\n",
       ".dataframe > tbody > tr {\n",
       "  text-align: right;\n",
       "  white-space: pre-wrap;\n",
       "}\n",
       "</style>\n",
       "<small>shape: (2_251, 8)</small><table border=\"1\" class=\"dataframe\"><thead><tr><th>id</th><th>seg</th><th>t1c</th><th>t1n</th><th>t2f</th><th>t2w</th><th>center</th><th>postop</th></tr><tr><td>str</td><td>str</td><td>str</td><td>str</td><td>str</td><td>str</td><td>str</td><td>i64</td></tr></thead><tbody><tr><td>&quot;BraTS-GoAT-000…</td><td>&quot;E:\\dataset\\BRa…</td><td>&quot;E:\\dataset\\BRa…</td><td>&quot;E:\\dataset\\BRa…</td><td>&quot;E:\\dataset\\BRa…</td><td>&quot;E:\\dataset\\BRa…</td><td>&quot;24.43157196044…</td><td>1</td></tr><tr><td>&quot;BraTS-GoAT-000…</td><td>&quot;E:\\dataset\\BRa…</td><td>&quot;E:\\dataset\\BRa…</td><td>&quot;E:\\dataset\\BRa…</td><td>&quot;E:\\dataset\\BRa…</td><td>&quot;E:\\dataset\\BRa…</td><td>&quot;57.09244155883…</td><td>1</td></tr><tr><td>&quot;BraTS-GoAT-000…</td><td>&quot;E:\\dataset\\BRa…</td><td>&quot;E:\\dataset\\BRa…</td><td>&quot;E:\\dataset\\BRa…</td><td>&quot;E:\\dataset\\BRa…</td><td>&quot;E:\\dataset\\BRa…</td><td>&quot;55.42643356323…</td><td>1</td></tr><tr><td>&quot;BraTS-GoAT-000…</td><td>&quot;E:\\dataset\\BRa…</td><td>&quot;E:\\dataset\\BRa…</td><td>&quot;E:\\dataset\\BRa…</td><td>&quot;E:\\dataset\\BRa…</td><td>&quot;E:\\dataset\\BRa…</td><td>&quot;93.43658447265…</td><td>1</td></tr><tr><td>&quot;BraTS-GoAT-000…</td><td>&quot;E:\\dataset\\BRa…</td><td>&quot;E:\\dataset\\BRa…</td><td>&quot;E:\\dataset\\BRa…</td><td>&quot;E:\\dataset\\BRa…</td><td>&quot;E:\\dataset\\BRa…</td><td>&quot;100.4669189453…</td><td>1</td></tr><tr><td>&hellip;</td><td>&hellip;</td><td>&hellip;</td><td>&hellip;</td><td>&hellip;</td><td>&hellip;</td><td>&hellip;</td><td>&hellip;</td></tr><tr><td>&quot;BraTS-GoAT-022…</td><td>&quot;E:\\dataset\\BRa…</td><td>&quot;E:\\dataset\\BRa…</td><td>&quot;E:\\dataset\\BRa…</td><td>&quot;E:\\dataset\\BRa…</td><td>&quot;E:\\dataset\\BRa…</td><td>&quot;110.6450576782…</td><td>1</td></tr><tr><td>&quot;BraTS-GoAT-022…</td><td>&quot;E:\\dataset\\BRa…</td><td>&quot;E:\\dataset\\BRa…</td><td>&quot;E:\\dataset\\BRa…</td><td>&quot;E:\\dataset\\BRa…</td><td>&quot;E:\\dataset\\BRa…</td><td>&quot;60.56921386718…</td><td>1</td></tr><tr><td>&quot;BraTS-GoAT-022…</td><td>&quot;E:\\dataset\\BRa…</td><td>&quot;E:\\dataset\\BRa…</td><td>&quot;E:\\dataset\\BRa…</td><td>&quot;E:\\dataset\\BRa…</td><td>&quot;E:\\dataset\\BRa…</td><td>&quot;54.77987289428…</td><td>1</td></tr><tr><td>&quot;BraTS-GoAT-022…</td><td>&quot;E:\\dataset\\BRa…</td><td>&quot;E:\\dataset\\BRa…</td><td>&quot;E:\\dataset\\BRa…</td><td>&quot;E:\\dataset\\BRa…</td><td>&quot;E:\\dataset\\BRa…</td><td>&quot;108.9293212890…</td><td>1</td></tr><tr><td>&quot;BraTS-GoAT-022…</td><td>&quot;E:\\dataset\\BRa…</td><td>&quot;E:\\dataset\\BRa…</td><td>&quot;E:\\dataset\\BRa…</td><td>&quot;E:\\dataset\\BRa…</td><td>&quot;E:\\dataset\\BRa…</td><td>&quot;94.85553741455…</td><td>1</td></tr></tbody></table></div>"
      ],
      "text/plain": [
       "shape: (2_251, 8)\n",
       "┌────────────┬────────────┬────────────┬────────────┬────────────┬────────────┬───────────┬────────┐\n",
       "│ id         ┆ seg        ┆ t1c        ┆ t1n        ┆ t2f        ┆ t2w        ┆ center    ┆ postop │\n",
       "│ ---        ┆ ---        ┆ ---        ┆ ---        ┆ ---        ┆ ---        ┆ ---       ┆ ---    │\n",
       "│ str        ┆ str        ┆ str        ┆ str        ┆ str        ┆ str        ┆ str       ┆ i64    │\n",
       "╞════════════╪════════════╪════════════╪════════════╪════════════╪════════════╪═══════════╪════════╡\n",
       "│ BraTS-GoAT ┆ E:\\dataset ┆ E:\\dataset ┆ E:\\dataset ┆ E:\\dataset ┆ E:\\dataset ┆ 24.431571 ┆ 1      │\n",
       "│ -00000     ┆ \\BRaTS2024 ┆ \\BRaTS2024 ┆ \\BRaTS2024 ┆ \\BRaTS2024 ┆ \\BRaTS2024 ┆ 96044922, ┆        │\n",
       "│            ┆ -GoAT\\ISBI ┆ -GoAT\\ISBI ┆ -GoAT\\ISBI ┆ -GoAT\\ISBI ┆ -GoAT\\ISBI ┆ 159.15974 ┆        │\n",
       "│            ┆ 20…        ┆ 20…        ┆ 20…        ┆ 20…        ┆ 20…        ┆ 4262…     ┆        │\n",
       "│ BraTS-GoAT ┆ E:\\dataset ┆ E:\\dataset ┆ E:\\dataset ┆ E:\\dataset ┆ E:\\dataset ┆ 57.092441 ┆ 1      │\n",
       "│ -00001     ┆ \\BRaTS2024 ┆ \\BRaTS2024 ┆ \\BRaTS2024 ┆ \\BRaTS2024 ┆ \\BRaTS2024 ┆ 55883789, ┆        │\n",
       "│            ┆ -GoAT\\ISBI ┆ -GoAT\\ISBI ┆ -GoAT\\ISBI ┆ -GoAT\\ISBI ┆ -GoAT\\ISBI ┆ 100.24563 ┆        │\n",
       "│            ┆ 20…        ┆ 20…        ┆ 20…        ┆ 20…        ┆ 20…        ┆ 5986…     ┆        │\n",
       "│ BraTS-GoAT ┆ E:\\dataset ┆ E:\\dataset ┆ E:\\dataset ┆ E:\\dataset ┆ E:\\dataset ┆ 55.426433 ┆ 1      │\n",
       "│ -00002     ┆ \\BRaTS2024 ┆ \\BRaTS2024 ┆ \\BRaTS2024 ┆ \\BRaTS2024 ┆ \\BRaTS2024 ┆ 56323242, ┆        │\n",
       "│            ┆ -GoAT\\ISBI ┆ -GoAT\\ISBI ┆ -GoAT\\ISBI ┆ -GoAT\\ISBI ┆ -GoAT\\ISBI ┆ 144.14601 ┆        │\n",
       "│            ┆ 20…        ┆ 20…        ┆ 20…        ┆ 20…        ┆ 20…        ┆ 1352…     ┆        │\n",
       "│ BraTS-GoAT ┆ E:\\dataset ┆ E:\\dataset ┆ E:\\dataset ┆ E:\\dataset ┆ E:\\dataset ┆ 93.436584 ┆ 1      │\n",
       "│ -00003     ┆ \\BRaTS2024 ┆ \\BRaTS2024 ┆ \\BRaTS2024 ┆ \\BRaTS2024 ┆ \\BRaTS2024 ┆ 47265625, ┆        │\n",
       "│            ┆ -GoAT\\ISBI ┆ -GoAT\\ISBI ┆ -GoAT\\ISBI ┆ -GoAT\\ISBI ┆ -GoAT\\ISBI ┆ 116.20780 ┆        │\n",
       "│            ┆ 20…        ┆ 20…        ┆ 20…        ┆ 20…        ┆ 20…        ┆ 1818…     ┆        │\n",
       "│ BraTS-GoAT ┆ E:\\dataset ┆ E:\\dataset ┆ E:\\dataset ┆ E:\\dataset ┆ E:\\dataset ┆ 100.46691 ┆ 1      │\n",
       "│ -00004     ┆ \\BRaTS2024 ┆ \\BRaTS2024 ┆ \\BRaTS2024 ┆ \\BRaTS2024 ┆ \\BRaTS2024 ┆ 89453125, ┆        │\n",
       "│            ┆ -GoAT\\ISBI ┆ -GoAT\\ISBI ┆ -GoAT\\ISBI ┆ -GoAT\\ISBI ┆ -GoAT\\ISBI ┆ 152.58648 ┆        │\n",
       "│            ┆ 20…        ┆ 20…        ┆ 20…        ┆ 20…        ┆ 20…        ┆ 6816…     ┆        │\n",
       "│ …          ┆ …          ┆ …          ┆ …          ┆ …          ┆ …          ┆ …         ┆ …      │\n",
       "│ BraTS-GoAT ┆ E:\\dataset ┆ E:\\dataset ┆ E:\\dataset ┆ E:\\dataset ┆ E:\\dataset ┆ 110.64505 ┆ 1      │\n",
       "│ -02246     ┆ \\BRaTS2024 ┆ \\BRaTS2024 ┆ \\BRaTS2024 ┆ \\BRaTS2024 ┆ \\BRaTS2024 ┆ 767822266 ┆        │\n",
       "│            ┆ -GoAT\\ISBI ┆ -GoAT\\ISBI ┆ -GoAT\\ISBI ┆ -GoAT\\ISBI ┆ -GoAT\\ISBI ┆ , 149.690 ┆        │\n",
       "│            ┆ 20…        ┆ 20…        ┆ 20…        ┆ 20…        ┆ 20…        ┆ 70434…    ┆        │\n",
       "│ BraTS-GoAT ┆ E:\\dataset ┆ E:\\dataset ┆ E:\\dataset ┆ E:\\dataset ┆ E:\\dataset ┆ 60.569213 ┆ 1      │\n",
       "│ -02247     ┆ \\BRaTS2024 ┆ \\BRaTS2024 ┆ \\BRaTS2024 ┆ \\BRaTS2024 ┆ \\BRaTS2024 ┆ 8671875,  ┆        │\n",
       "│            ┆ -GoAT\\ISBI ┆ -GoAT\\ISBI ┆ -GoAT\\ISBI ┆ -GoAT\\ISBI ┆ -GoAT\\ISBI ┆ 148.66838 ┆        │\n",
       "│            ┆ 20…        ┆ 20…        ┆ 20…        ┆ 20…        ┆ 20…        ┆ 07373…    ┆        │\n",
       "│ BraTS-GoAT ┆ E:\\dataset ┆ E:\\dataset ┆ E:\\dataset ┆ E:\\dataset ┆ E:\\dataset ┆ 54.779872 ┆ 1      │\n",
       "│ -02248     ┆ \\BRaTS2024 ┆ \\BRaTS2024 ┆ \\BRaTS2024 ┆ \\BRaTS2024 ┆ \\BRaTS2024 ┆ 89428711, ┆        │\n",
       "│            ┆ -GoAT\\ISBI ┆ -GoAT\\ISBI ┆ -GoAT\\ISBI ┆ -GoAT\\ISBI ┆ -GoAT\\ISBI ┆ 97.501884 ┆        │\n",
       "│            ┆ 20…        ┆ 20…        ┆ 20…        ┆ 20…        ┆ 20…        ┆ 4604…     ┆        │\n",
       "│ BraTS-GoAT ┆ E:\\dataset ┆ E:\\dataset ┆ E:\\dataset ┆ E:\\dataset ┆ E:\\dataset ┆ 108.92932 ┆ 1      │\n",
       "│ -02249     ┆ \\BRaTS2024 ┆ \\BRaTS2024 ┆ \\BRaTS2024 ┆ \\BRaTS2024 ┆ \\BRaTS2024 ┆ 12890625, ┆        │\n",
       "│            ┆ -GoAT\\ISBI ┆ -GoAT\\ISBI ┆ -GoAT\\ISBI ┆ -GoAT\\ISBI ┆ -GoAT\\ISBI ┆ 108.05401 ┆        │\n",
       "│            ┆ 20…        ┆ 20…        ┆ 20…        ┆ 20…        ┆ 20…        ┆ 6113…     ┆        │\n",
       "│ BraTS-GoAT ┆ E:\\dataset ┆ E:\\dataset ┆ E:\\dataset ┆ E:\\dataset ┆ E:\\dataset ┆ 94.855537 ┆ 1      │\n",
       "│ -02250     ┆ \\BRaTS2024 ┆ \\BRaTS2024 ┆ \\BRaTS2024 ┆ \\BRaTS2024 ┆ \\BRaTS2024 ┆ 41455078, ┆        │\n",
       "│            ┆ -GoAT\\ISBI ┆ -GoAT\\ISBI ┆ -GoAT\\ISBI ┆ -GoAT\\ISBI ┆ -GoAT\\ISBI ┆ 88.019226 ┆        │\n",
       "│            ┆ 20…        ┆ 20…        ┆ 20…        ┆ 20…        ┆ 20…        ┆ 0742…     ┆        │\n",
       "└────────────┴────────────┴────────────┴────────────┴────────────┴────────────┴───────────┴────────┘"
      ]
     },
     "execution_count": 4,
     "metadata": {},
     "output_type": "execute_result"
    }
   ],
   "source": [
    "df = pl.from_dict(df_dict)\n",
    "df"
   ]
  },
  {
   "cell_type": "code",
   "execution_count": 5,
   "metadata": {},
   "outputs": [],
   "source": [
    "df.write_csv(\"BRaTS2024-GoAT.csv\")"
   ]
  },
  {
   "cell_type": "code",
   "execution_count": 6,
   "metadata": {},
   "outputs": [
    {
     "data": {
      "text/html": [
       "<div><style>\n",
       ".dataframe > thead > tr,\n",
       ".dataframe > tbody > tr {\n",
       "  text-align: right;\n",
       "  white-space: pre-wrap;\n",
       "}\n",
       "</style>\n",
       "<small>shape: (1_251, 9)</small><table border=\"1\" class=\"dataframe\"><thead><tr><th>id</th><th>seg</th><th>t1c</th><th>t1n</th><th>t2f</th><th>t2w</th><th>center</th><th>postop</th><th>src</th></tr><tr><td>str</td><td>str</td><td>str</td><td>str</td><td>str</td><td>str</td><td>list[i64]</td><td>i64</td><td>str</td></tr></thead><tbody><tr><td>&quot;BraTS-GLI-0000…</td><td>&quot;E:\\dataset\\BRa…</td><td>&quot;E:\\dataset\\BRa…</td><td>&quot;E:\\dataset\\BRa…</td><td>&quot;E:\\dataset\\BRa…</td><td>&quot;E:\\dataset\\BRa…</td><td>[70, 83, 139]</td><td>0</td><td>&quot;center&quot;</td></tr><tr><td>&quot;BraTS-GLI-0000…</td><td>&quot;E:\\dataset\\BRa…</td><td>&quot;E:\\dataset\\BRa…</td><td>&quot;E:\\dataset\\BRa…</td><td>&quot;E:\\dataset\\BRa…</td><td>&quot;E:\\dataset\\BRa…</td><td>[80, 95, 140]</td><td>0</td><td>&quot;center&quot;</td></tr><tr><td>&quot;BraTS-GLI-0000…</td><td>&quot;E:\\dataset\\BRa…</td><td>&quot;E:\\dataset\\BRa…</td><td>&quot;E:\\dataset\\BRa…</td><td>&quot;E:\\dataset\\BRa…</td><td>&quot;E:\\dataset\\BRa…</td><td>[107, 116, 133]</td><td>0</td><td>&quot;center&quot;</td></tr><tr><td>&quot;BraTS-GLI-0000…</td><td>&quot;E:\\dataset\\BRa…</td><td>&quot;E:\\dataset\\BRa…</td><td>&quot;E:\\dataset\\BRa…</td><td>&quot;E:\\dataset\\BRa…</td><td>&quot;E:\\dataset\\BRa…</td><td>[104, 149, 146]</td><td>0</td><td>&quot;center&quot;</td></tr><tr><td>&quot;BraTS-GLI-0000…</td><td>&quot;E:\\dataset\\BRa…</td><td>&quot;E:\\dataset\\BRa…</td><td>&quot;E:\\dataset\\BRa…</td><td>&quot;E:\\dataset\\BRa…</td><td>&quot;E:\\dataset\\BRa…</td><td>[74, 74, 128]</td><td>0</td><td>&quot;center&quot;</td></tr><tr><td>&hellip;</td><td>&hellip;</td><td>&hellip;</td><td>&hellip;</td><td>&hellip;</td><td>&hellip;</td><td>&hellip;</td><td>&hellip;</td><td>&hellip;</td></tr><tr><td>&quot;BraTS-GLI-0166…</td><td>&quot;E:\\dataset\\BRa…</td><td>&quot;E:\\dataset\\BRa…</td><td>&quot;E:\\dataset\\BRa…</td><td>&quot;E:\\dataset\\BRa…</td><td>&quot;E:\\dataset\\BRa…</td><td>[105, 107, 98]</td><td>0</td><td>&quot;center&quot;</td></tr><tr><td>&quot;BraTS-GLI-0166…</td><td>&quot;E:\\dataset\\BRa…</td><td>&quot;E:\\dataset\\BRa…</td><td>&quot;E:\\dataset\\BRa…</td><td>&quot;E:\\dataset\\BRa…</td><td>&quot;E:\\dataset\\BRa…</td><td>[110, 101, 143]</td><td>0</td><td>&quot;center&quot;</td></tr><tr><td>&quot;BraTS-GLI-0166…</td><td>&quot;E:\\dataset\\BRa…</td><td>&quot;E:\\dataset\\BRa…</td><td>&quot;E:\\dataset\\BRa…</td><td>&quot;E:\\dataset\\BRa…</td><td>&quot;E:\\dataset\\BRa…</td><td>[90, 160, 149]</td><td>0</td><td>&quot;center&quot;</td></tr><tr><td>&quot;BraTS-GLI-0166…</td><td>&quot;E:\\dataset\\BRa…</td><td>&quot;E:\\dataset\\BRa…</td><td>&quot;E:\\dataset\\BRa…</td><td>&quot;E:\\dataset\\BRa…</td><td>&quot;E:\\dataset\\BRa…</td><td>[66, 139, 80]</td><td>0</td><td>&quot;center&quot;</td></tr><tr><td>&quot;BraTS-GLI-0166…</td><td>&quot;E:\\dataset\\BRa…</td><td>&quot;E:\\dataset\\BRa…</td><td>&quot;E:\\dataset\\BRa…</td><td>&quot;E:\\dataset\\BRa…</td><td>&quot;E:\\dataset\\BRa…</td><td>[72, 102, 144]</td><td>0</td><td>&quot;center&quot;</td></tr></tbody></table></div>"
      ],
      "text/plain": [
       "shape: (1_251, 9)\n",
       "┌────────────┬────────────┬────────────┬────────────┬───┬────────────┬───────────┬────────┬────────┐\n",
       "│ id         ┆ seg        ┆ t1c        ┆ t1n        ┆ … ┆ t2w        ┆ center    ┆ postop ┆ src    │\n",
       "│ ---        ┆ ---        ┆ ---        ┆ ---        ┆   ┆ ---        ┆ ---       ┆ ---    ┆ ---    │\n",
       "│ str        ┆ str        ┆ str        ┆ str        ┆   ┆ str        ┆ list[i64] ┆ i64    ┆ str    │\n",
       "╞════════════╪════════════╪════════════╪════════════╪═══╪════════════╪═══════════╪════════╪════════╡\n",
       "│ BraTS-GLI- ┆ E:\\dataset ┆ E:\\dataset ┆ E:\\dataset ┆ … ┆ E:\\dataset ┆ [70, 83,  ┆ 0      ┆ center │\n",
       "│ 00000-000  ┆ \\BRaTS2023 ┆ \\BRaTS2023 ┆ \\BRaTS2023 ┆   ┆ \\BRaTS2023 ┆ 139]      ┆        ┆        │\n",
       "│            ┆ \\ASNR-MICC ┆ \\ASNR-MICC ┆ \\ASNR-MICC ┆   ┆ \\ASNR-MICC ┆           ┆        ┆        │\n",
       "│            ┆ AI…        ┆ AI…        ┆ AI…        ┆   ┆ AI…        ┆           ┆        ┆        │\n",
       "│ BraTS-GLI- ┆ E:\\dataset ┆ E:\\dataset ┆ E:\\dataset ┆ … ┆ E:\\dataset ┆ [80, 95,  ┆ 0      ┆ center │\n",
       "│ 00002-000  ┆ \\BRaTS2023 ┆ \\BRaTS2023 ┆ \\BRaTS2023 ┆   ┆ \\BRaTS2023 ┆ 140]      ┆        ┆        │\n",
       "│            ┆ \\ASNR-MICC ┆ \\ASNR-MICC ┆ \\ASNR-MICC ┆   ┆ \\ASNR-MICC ┆           ┆        ┆        │\n",
       "│            ┆ AI…        ┆ AI…        ┆ AI…        ┆   ┆ AI…        ┆           ┆        ┆        │\n",
       "│ BraTS-GLI- ┆ E:\\dataset ┆ E:\\dataset ┆ E:\\dataset ┆ … ┆ E:\\dataset ┆ [107,     ┆ 0      ┆ center │\n",
       "│ 00003-000  ┆ \\BRaTS2023 ┆ \\BRaTS2023 ┆ \\BRaTS2023 ┆   ┆ \\BRaTS2023 ┆ 116, 133] ┆        ┆        │\n",
       "│            ┆ \\ASNR-MICC ┆ \\ASNR-MICC ┆ \\ASNR-MICC ┆   ┆ \\ASNR-MICC ┆           ┆        ┆        │\n",
       "│            ┆ AI…        ┆ AI…        ┆ AI…        ┆   ┆ AI…        ┆           ┆        ┆        │\n",
       "│ BraTS-GLI- ┆ E:\\dataset ┆ E:\\dataset ┆ E:\\dataset ┆ … ┆ E:\\dataset ┆ [104,     ┆ 0      ┆ center │\n",
       "│ 00005-000  ┆ \\BRaTS2023 ┆ \\BRaTS2023 ┆ \\BRaTS2023 ┆   ┆ \\BRaTS2023 ┆ 149, 146] ┆        ┆        │\n",
       "│            ┆ \\ASNR-MICC ┆ \\ASNR-MICC ┆ \\ASNR-MICC ┆   ┆ \\ASNR-MICC ┆           ┆        ┆        │\n",
       "│            ┆ AI…        ┆ AI…        ┆ AI…        ┆   ┆ AI…        ┆           ┆        ┆        │\n",
       "│ BraTS-GLI- ┆ E:\\dataset ┆ E:\\dataset ┆ E:\\dataset ┆ … ┆ E:\\dataset ┆ [74, 74,  ┆ 0      ┆ center │\n",
       "│ 00006-000  ┆ \\BRaTS2023 ┆ \\BRaTS2023 ┆ \\BRaTS2023 ┆   ┆ \\BRaTS2023 ┆ 128]      ┆        ┆        │\n",
       "│            ┆ \\ASNR-MICC ┆ \\ASNR-MICC ┆ \\ASNR-MICC ┆   ┆ \\ASNR-MICC ┆           ┆        ┆        │\n",
       "│            ┆ AI…        ┆ AI…        ┆ AI…        ┆   ┆ AI…        ┆           ┆        ┆        │\n",
       "│ …          ┆ …          ┆ …          ┆ …          ┆ … ┆ …          ┆ …         ┆ …      ┆ …      │\n",
       "│ BraTS-GLI- ┆ E:\\dataset ┆ E:\\dataset ┆ E:\\dataset ┆ … ┆ E:\\dataset ┆ [105,     ┆ 0      ┆ center │\n",
       "│ 01662-000  ┆ \\BRaTS2023 ┆ \\BRaTS2023 ┆ \\BRaTS2023 ┆   ┆ \\BRaTS2023 ┆ 107, 98]  ┆        ┆        │\n",
       "│            ┆ \\ASNR-MICC ┆ \\ASNR-MICC ┆ \\ASNR-MICC ┆   ┆ \\ASNR-MICC ┆           ┆        ┆        │\n",
       "│            ┆ AI…        ┆ AI…        ┆ AI…        ┆   ┆ AI…        ┆           ┆        ┆        │\n",
       "│ BraTS-GLI- ┆ E:\\dataset ┆ E:\\dataset ┆ E:\\dataset ┆ … ┆ E:\\dataset ┆ [110,     ┆ 0      ┆ center │\n",
       "│ 01663-000  ┆ \\BRaTS2023 ┆ \\BRaTS2023 ┆ \\BRaTS2023 ┆   ┆ \\BRaTS2023 ┆ 101, 143] ┆        ┆        │\n",
       "│            ┆ \\ASNR-MICC ┆ \\ASNR-MICC ┆ \\ASNR-MICC ┆   ┆ \\ASNR-MICC ┆           ┆        ┆        │\n",
       "│            ┆ AI…        ┆ AI…        ┆ AI…        ┆   ┆ AI…        ┆           ┆        ┆        │\n",
       "│ BraTS-GLI- ┆ E:\\dataset ┆ E:\\dataset ┆ E:\\dataset ┆ … ┆ E:\\dataset ┆ [90, 160, ┆ 0      ┆ center │\n",
       "│ 01664-000  ┆ \\BRaTS2023 ┆ \\BRaTS2023 ┆ \\BRaTS2023 ┆   ┆ \\BRaTS2023 ┆ 149]      ┆        ┆        │\n",
       "│            ┆ \\ASNR-MICC ┆ \\ASNR-MICC ┆ \\ASNR-MICC ┆   ┆ \\ASNR-MICC ┆           ┆        ┆        │\n",
       "│            ┆ AI…        ┆ AI…        ┆ AI…        ┆   ┆ AI…        ┆           ┆        ┆        │\n",
       "│ BraTS-GLI- ┆ E:\\dataset ┆ E:\\dataset ┆ E:\\dataset ┆ … ┆ E:\\dataset ┆ [66, 139, ┆ 0      ┆ center │\n",
       "│ 01665-000  ┆ \\BRaTS2023 ┆ \\BRaTS2023 ┆ \\BRaTS2023 ┆   ┆ \\BRaTS2023 ┆ 80]       ┆        ┆        │\n",
       "│            ┆ \\ASNR-MICC ┆ \\ASNR-MICC ┆ \\ASNR-MICC ┆   ┆ \\ASNR-MICC ┆           ┆        ┆        │\n",
       "│            ┆ AI…        ┆ AI…        ┆ AI…        ┆   ┆ AI…        ┆           ┆        ┆        │\n",
       "│ BraTS-GLI- ┆ E:\\dataset ┆ E:\\dataset ┆ E:\\dataset ┆ … ┆ E:\\dataset ┆ [72, 102, ┆ 0      ┆ center │\n",
       "│ 01666-000  ┆ \\BRaTS2023 ┆ \\BRaTS2023 ┆ \\BRaTS2023 ┆   ┆ \\BRaTS2023 ┆ 144]      ┆        ┆        │\n",
       "│            ┆ \\ASNR-MICC ┆ \\ASNR-MICC ┆ \\ASNR-MICC ┆   ┆ \\ASNR-MICC ┆           ┆        ┆        │\n",
       "│            ┆ AI…        ┆ AI…        ┆ AI…        ┆   ┆ AI…        ┆           ┆        ┆        │\n",
       "└────────────┴────────────┴────────────┴────────────┴───┴────────────┴───────────┴────────┴────────┘"
      ]
     },
     "execution_count": 6,
     "metadata": {},
     "output_type": "execute_result"
    }
   ],
   "source": [
    "from glio.datasets.BRaTS2023 import BRaTS2023_GBM\n",
    "\n",
    "ds = BRaTS2023_GBM()\n",
    "ds.data"
   ]
  }
 ],
 "metadata": {
  "kernelspec": {
   "display_name": "audio310",
   "language": "python",
   "name": "python3"
  },
  "language_info": {
   "codemirror_mode": {
    "name": "ipython",
    "version": 3
   },
   "file_extension": ".py",
   "mimetype": "text/x-python",
   "name": "python",
   "nbconvert_exporter": "python",
   "pygments_lexer": "ipython3",
   "version": "3.11.5"
  }
 },
 "nbformat": 4,
 "nbformat_minor": 2
}
