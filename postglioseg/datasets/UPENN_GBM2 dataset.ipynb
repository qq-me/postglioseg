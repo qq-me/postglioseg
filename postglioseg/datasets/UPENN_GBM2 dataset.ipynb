{
 "cells": [
  {
   "cell_type": "code",
   "execution_count": 2,
   "metadata": {},
   "outputs": [],
   "source": [
    "import polars as pl\n",
    "import os\n",
    "import numpy as np\n",
    "import torch, torchvision\n",
    "from torchvision.utils import make_grid\n",
    "from glio.loaders import nifti\n",
    "from glio.python_tools import get_all_files, type_str\n",
    "from glio.jupyter_tools import clean_mem\n",
    "from glio.visualize import Visualizer\n",
    "import matplotlib.pyplot as plt\n",
    "import pyarrow as pa\n",
    "import pyarrow.parquet as pq"
   ]
  },
  {
   "cell_type": "markdown",
   "metadata": {},
   "source": [
    "Рассматриваем изображения *`E:\\dataset\\PKG - UPENN-GBM-NIfTI\\UPENN-GBM\\NIfTI-files\\images_DTI\\images_DTI\\UPENN-GBM-*\\UPENN-GBM-*_DTI_AD.nii.gz`*\n",
    "\n",
    "Размер - **[240, 240, 155]**\n",
    "\n",
    "Можно удалить пустые разрезы по каждому измерению - **[44:191, 36:222, 2:141]**\n",
    "\n",
    "Тогда получаем изображения размера **[147, 186, 139]**, суммарно 3,800,538 значений.\n",
    "\n",
    "Все изображения можно загрузить в память - занимается 28/40 ГБ.\n",
    "\n",
    "Изображения имеют следующие характеристики: *min = 0; max ~= 0.003-0.005; mean ~= 0.0003-0.0007; std ~= 0.0006-0.0008*.\n",
    "\n",
    "Значения для нормализации:\n",
    "```python\n",
    "mean = [0.0002149488]\n",
    "std = [0.0005426282]\n",
    "```"
   ]
  },
  {
   "cell_type": "markdown",
   "metadata": {},
   "source": [
    "### Полезные колонки\n",
    "- ID: str\n",
    "- Survival_from_surgery_days_UPDATED: int\n",
    "\n",
    "#### Пути к файлам\n",
    "- PATH_segm.nii.gz\n",
    "- PATH_T2_unstripped.nii.gz\n",
    "- PATH_T1_unstripped.nii.gz\n",
    "- PATH_T1GD_unstripped.nii.gz\n",
    "- PATH_FLAIR_unstripped.nii.gz\n",
    "- PATH_T2.nii.gz\n",
    "- PATH_T1GD.nii.gz\n",
    "- PATH_T1.nii.gz\n",
    "- PATH_FLAIR.nii.gz\n",
    "- PATH_DTI_TR.nii.gz\n",
    "- PATH_DTI_RD.nii.gz\n",
    "- PATH_DTI_FA.nii.gz\n",
    "- PATH_DTI_AD.nii.gz\n",
    "- PATH_DSC_PSR.nii.gz\n",
    "- PATH_DSC_PH.nii.gz\n",
    "- PATH_DSC_ap-rCBV.nii.gz\n",
    "- PATH_DSC.nii.gz\n",
    "- PATH_automated_approx_segm.nii.gz"
   ]
  },
  {
   "cell_type": "code",
   "execution_count": 8,
   "metadata": {},
   "outputs": [
    {
     "data": {
      "text/plain": [
       "147"
      ]
     },
     "execution_count": 8,
     "metadata": {},
     "output_type": "execute_result"
    }
   ],
   "source": [
    "path = r\"E:\\dataset\\PKG - UPENN-GBM-NIfTI\\UPENN-GBM\"\n",
    "table = pq.read_table(f\"{path}/UPENN_GBM.parquet\")\n",
    "len(list([i for i in table[\"PATH_segm.nii.gz\"] if str(i) != \"None\"]))"
   ]
  },
  {
   "cell_type": "code",
   "execution_count": null,
   "metadata": {},
   "outputs": [],
   "source": [
    "def load(path = r\"E:\\dataset\\PKG - UPENN-GBM-NIfTI\\UPENN-GBM\", cols = ..., ):\n",
    "    ..."
   ]
  }
 ],
 "metadata": {
  "kernelspec": {
   "display_name": "pytorch311",
   "language": "python",
   "name": "python3"
  },
  "language_info": {
   "codemirror_mode": {
    "name": "ipython",
    "version": 3
   },
   "file_extension": ".py",
   "mimetype": "text/x-python",
   "name": "python",
   "nbconvert_exporter": "python",
   "pygments_lexer": "ipython3",
   "version": "3.11.5"
  }
 },
 "nbformat": 4,
 "nbformat_minor": 2
}
