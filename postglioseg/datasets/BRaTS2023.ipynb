{
 "cells": [
  {
   "cell_type": "code",
   "execution_count": 1,
   "metadata": {},
   "outputs": [],
   "source": [
    "from glio.loaders import nifti\n",
    "from glio.jupyter_tools import show_slices, show_slices_arr\n",
    "from glio.torch_tools import to_binary, center_of_mass, binary_erode3d\n",
    "import torch\n",
    "import polars as pl"
   ]
  },
  {
   "cell_type": "code",
   "execution_count": 2,
   "metadata": {},
   "outputs": [
    {
     "name": "stdout",
     "output_type": "stream",
     "text": [
      "127TS-GLI-01666-000\r"
     ]
    }
   ],
   "source": [
    "from glio.python_tools import get_all_files\n",
    "from glio.torch_tools import area_around\n",
    "from glio.transforms import z_normalize\n",
    "import os, h5py, numpy as np\n",
    "cases = {}\n",
    "\n",
    "for folder in sorted(os.listdir(r\"E:\\dataset\\BRaTS2023\\ASNR-MICCAI-BraTS2023-GLI-Challenge-TrainingData\")):\n",
    "        print(folder, end='\\r')\n",
    "        full_path = os.path.join(r\"E:\\dataset\\BRaTS2023\\ASNR-MICCAI-BraTS2023-GLI-Challenge-TrainingData\", folder)\n",
    "        filename = sorted(os.listdir(full_path))[0]\n",
    "        case = filename[:len(\"BraTS-GLI-00008-001\")]\n",
    "        cases[case] = {\"id\":case}\n",
    "        for file in get_all_files(full_path):\n",
    "            filename = os.path.basename(file)\n",
    "            modality = filename[len(\"BraTS-GLI-00008-001-\"):].replace(\".nii.gz\", \"\")\n",
    "            cases[case][modality] = file\n",
    "\n",
    "\n",
    "        seg = nifti.read(cases[case][\"seg\"])\n",
    "        center = center_of_mass(binary_erode3d(to_binary(seg), 2)).tolist()\n",
    "        cases[case][\"center\"] = str(center)[1:-1]\n",
    "\n",
    "        images = torch.stack([(z_normalize(nifti.read(cases[case][modality]).to(torch.float32)) if modality != \"seg\" else nifti.read(cases[case][modality])) for modality in [\"t1c\", \"t1n\", \"t2f\", \"t2w\", \"seg\"]])\n",
    "        for i, slice in enumerate(area_around(images, center, (128,128,128)).unbind(1)):\n",
    "            print(i, end='\\r')\n",
    "            np.savez_compressed(rf\"E:\\dataset\\BRaTS2023 2D\\{case}_{i}.npz\", t1c=slice[0], t1n=slice[1], t2f=slice[2], t2w=slice[3], seg=slice[4])"
   ]
  },
  {
   "cell_type": "code",
   "execution_count": 3,
   "metadata": {},
   "outputs": [],
   "source": [
    "df_dict = {\"id\":[], \"seg\":[], \"t1c\":[], \"t1n\":[], \"t2f\":[], \"t2w\":[], \"center\":[], \"postop\":[]}\n",
    "for case, d in cases.items():\n",
    "    df_dict[\"id\"].append(case)\n",
    "    df_dict[\"seg\"].append(d[\"seg\"])\n",
    "    df_dict[\"t1c\"].append(d[\"t1c\"])\n",
    "    df_dict[\"t1n\"].append(d[\"t1n\"])\n",
    "    df_dict[\"t2f\"].append(d[\"t2f\"])\n",
    "    df_dict[\"t2w\"].append(d[\"t2w\"])\n",
    "    df_dict[\"center\"].append(d[\"center\"])\n",
    "    postop = d[\"t1c\"].split(\"-\")[-2]\n",
    "    if postop == \"000\": postop=0\n",
    "    else: postop = 1\n",
    "    df_dict[\"postop\"].append(postop)\n"
   ]
  },
  {
   "cell_type": "code",
   "execution_count": 4,
   "metadata": {},
   "outputs": [
    {
     "data": {
      "text/html": [
       "<div><style>\n",
       ".dataframe > thead > tr,\n",
       ".dataframe > tbody > tr {\n",
       "  text-align: right;\n",
       "  white-space: pre-wrap;\n",
       "}\n",
       "</style>\n",
       "<small>shape: (1_251, 8)</small><table border=\"1\" class=\"dataframe\"><thead><tr><th>id</th><th>seg</th><th>t1c</th><th>t1n</th><th>t2f</th><th>t2w</th><th>center</th><th>postop</th></tr><tr><td>str</td><td>str</td><td>str</td><td>str</td><td>str</td><td>str</td><td>str</td><td>i64</td></tr></thead><tbody><tr><td>&quot;BraTS-GLI-0000…</td><td>&quot;E:\\dataset\\BRa…</td><td>&quot;E:\\dataset\\BRa…</td><td>&quot;E:\\dataset\\BRa…</td><td>&quot;E:\\dataset\\BRa…</td><td>&quot;E:\\dataset\\BRa…</td><td>&quot;70.70410919189…</td><td>0</td></tr><tr><td>&quot;BraTS-GLI-0000…</td><td>&quot;E:\\dataset\\BRa…</td><td>&quot;E:\\dataset\\BRa…</td><td>&quot;E:\\dataset\\BRa…</td><td>&quot;E:\\dataset\\BRa…</td><td>&quot;E:\\dataset\\BRa…</td><td>&quot;80.56532287597…</td><td>0</td></tr><tr><td>&quot;BraTS-GLI-0000…</td><td>&quot;E:\\dataset\\BRa…</td><td>&quot;E:\\dataset\\BRa…</td><td>&quot;E:\\dataset\\BRa…</td><td>&quot;E:\\dataset\\BRa…</td><td>&quot;E:\\dataset\\BRa…</td><td>&quot;107.6231842041…</td><td>0</td></tr><tr><td>&quot;BraTS-GLI-0000…</td><td>&quot;E:\\dataset\\BRa…</td><td>&quot;E:\\dataset\\BRa…</td><td>&quot;E:\\dataset\\BRa…</td><td>&quot;E:\\dataset\\BRa…</td><td>&quot;E:\\dataset\\BRa…</td><td>&quot;104.8541412353…</td><td>0</td></tr><tr><td>&quot;BraTS-GLI-0000…</td><td>&quot;E:\\dataset\\BRa…</td><td>&quot;E:\\dataset\\BRa…</td><td>&quot;E:\\dataset\\BRa…</td><td>&quot;E:\\dataset\\BRa…</td><td>&quot;E:\\dataset\\BRa…</td><td>&quot;74.00511169433…</td><td>0</td></tr><tr><td>&hellip;</td><td>&hellip;</td><td>&hellip;</td><td>&hellip;</td><td>&hellip;</td><td>&hellip;</td><td>&hellip;</td><td>&hellip;</td></tr><tr><td>&quot;BraTS-GLI-0166…</td><td>&quot;E:\\dataset\\BRa…</td><td>&quot;E:\\dataset\\BRa…</td><td>&quot;E:\\dataset\\BRa…</td><td>&quot;E:\\dataset\\BRa…</td><td>&quot;E:\\dataset\\BRa…</td><td>&quot;105.1358566284…</td><td>0</td></tr><tr><td>&quot;BraTS-GLI-0166…</td><td>&quot;E:\\dataset\\BRa…</td><td>&quot;E:\\dataset\\BRa…</td><td>&quot;E:\\dataset\\BRa…</td><td>&quot;E:\\dataset\\BRa…</td><td>&quot;E:\\dataset\\BRa…</td><td>&quot;110.1968688964…</td><td>0</td></tr><tr><td>&quot;BraTS-GLI-0166…</td><td>&quot;E:\\dataset\\BRa…</td><td>&quot;E:\\dataset\\BRa…</td><td>&quot;E:\\dataset\\BRa…</td><td>&quot;E:\\dataset\\BRa…</td><td>&quot;E:\\dataset\\BRa…</td><td>&quot;90.81226348876…</td><td>0</td></tr><tr><td>&quot;BraTS-GLI-0166…</td><td>&quot;E:\\dataset\\BRa…</td><td>&quot;E:\\dataset\\BRa…</td><td>&quot;E:\\dataset\\BRa…</td><td>&quot;E:\\dataset\\BRa…</td><td>&quot;E:\\dataset\\BRa…</td><td>&quot;66.89617919921…</td><td>0</td></tr><tr><td>&quot;BraTS-GLI-0166…</td><td>&quot;E:\\dataset\\BRa…</td><td>&quot;E:\\dataset\\BRa…</td><td>&quot;E:\\dataset\\BRa…</td><td>&quot;E:\\dataset\\BRa…</td><td>&quot;E:\\dataset\\BRa…</td><td>&quot;72.64846801757…</td><td>0</td></tr></tbody></table></div>"
      ],
      "text/plain": [
       "shape: (1_251, 8)\n",
       "┌────────────┬────────────┬────────────┬────────────┬────────────┬────────────┬───────────┬────────┐\n",
       "│ id         ┆ seg        ┆ t1c        ┆ t1n        ┆ t2f        ┆ t2w        ┆ center    ┆ postop │\n",
       "│ ---        ┆ ---        ┆ ---        ┆ ---        ┆ ---        ┆ ---        ┆ ---       ┆ ---    │\n",
       "│ str        ┆ str        ┆ str        ┆ str        ┆ str        ┆ str        ┆ str       ┆ i64    │\n",
       "╞════════════╪════════════╪════════════╪════════════╪════════════╪════════════╪═══════════╪════════╡\n",
       "│ BraTS-GLI- ┆ E:\\dataset ┆ E:\\dataset ┆ E:\\dataset ┆ E:\\dataset ┆ E:\\dataset ┆ 70.704109 ┆ 0      │\n",
       "│ 00000-000  ┆ \\BRaTS2023 ┆ \\BRaTS2023 ┆ \\BRaTS2023 ┆ \\BRaTS2023 ┆ \\BRaTS2023 ┆ 19189453, ┆        │\n",
       "│            ┆ \\ASNR-MICC ┆ \\ASNR-MICC ┆ \\ASNR-MICC ┆ \\ASNR-MICC ┆ \\ASNR-MICC ┆ 83.397315 ┆        │\n",
       "│            ┆ AI…        ┆ AI…        ┆ AI…        ┆ AI…        ┆ AI…        ┆ 9790…     ┆        │\n",
       "│ BraTS-GLI- ┆ E:\\dataset ┆ E:\\dataset ┆ E:\\dataset ┆ E:\\dataset ┆ E:\\dataset ┆ 80.565322 ┆ 0      │\n",
       "│ 00002-000  ┆ \\BRaTS2023 ┆ \\BRaTS2023 ┆ \\BRaTS2023 ┆ \\BRaTS2023 ┆ \\BRaTS2023 ┆ 87597656, ┆        │\n",
       "│            ┆ \\ASNR-MICC ┆ \\ASNR-MICC ┆ \\ASNR-MICC ┆ \\ASNR-MICC ┆ \\ASNR-MICC ┆ 95.550529 ┆        │\n",
       "│            ┆ AI…        ┆ AI…        ┆ AI…        ┆ AI…        ┆ AI…        ┆ 4799…     ┆        │\n",
       "│ BraTS-GLI- ┆ E:\\dataset ┆ E:\\dataset ┆ E:\\dataset ┆ E:\\dataset ┆ E:\\dataset ┆ 107.62318 ┆ 0      │\n",
       "│ 00003-000  ┆ \\BRaTS2023 ┆ \\BRaTS2023 ┆ \\BRaTS2023 ┆ \\BRaTS2023 ┆ \\BRaTS2023 ┆ 420410156 ┆        │\n",
       "│            ┆ \\ASNR-MICC ┆ \\ASNR-MICC ┆ \\ASNR-MICC ┆ \\ASNR-MICC ┆ \\ASNR-MICC ┆ , 116.466 ┆        │\n",
       "│            ┆ AI…        ┆ AI…        ┆ AI…        ┆ AI…        ┆ AI…        ┆ 82739…    ┆        │\n",
       "│ BraTS-GLI- ┆ E:\\dataset ┆ E:\\dataset ┆ E:\\dataset ┆ E:\\dataset ┆ E:\\dataset ┆ 104.85414 ┆ 0      │\n",
       "│ 00005-000  ┆ \\BRaTS2023 ┆ \\BRaTS2023 ┆ \\BRaTS2023 ┆ \\BRaTS2023 ┆ \\BRaTS2023 ┆ 123535156 ┆        │\n",
       "│            ┆ \\ASNR-MICC ┆ \\ASNR-MICC ┆ \\ASNR-MICC ┆ \\ASNR-MICC ┆ \\ASNR-MICC ┆ , 149.401 ┆        │\n",
       "│            ┆ AI…        ┆ AI…        ┆ AI…        ┆ AI…        ┆ AI…        ┆ 97753…    ┆        │\n",
       "│ BraTS-GLI- ┆ E:\\dataset ┆ E:\\dataset ┆ E:\\dataset ┆ E:\\dataset ┆ E:\\dataset ┆ 74.005111 ┆ 0      │\n",
       "│ 00006-000  ┆ \\BRaTS2023 ┆ \\BRaTS2023 ┆ \\BRaTS2023 ┆ \\BRaTS2023 ┆ \\BRaTS2023 ┆ 69433594, ┆        │\n",
       "│            ┆ \\ASNR-MICC ┆ \\ASNR-MICC ┆ \\ASNR-MICC ┆ \\ASNR-MICC ┆ \\ASNR-MICC ┆ 74.239387 ┆        │\n",
       "│            ┆ AI…        ┆ AI…        ┆ AI…        ┆ AI…        ┆ AI…        ┆ 5122…     ┆        │\n",
       "│ …          ┆ …          ┆ …          ┆ …          ┆ …          ┆ …          ┆ …         ┆ …      │\n",
       "│ BraTS-GLI- ┆ E:\\dataset ┆ E:\\dataset ┆ E:\\dataset ┆ E:\\dataset ┆ E:\\dataset ┆ 105.13585 ┆ 0      │\n",
       "│ 01662-000  ┆ \\BRaTS2023 ┆ \\BRaTS2023 ┆ \\BRaTS2023 ┆ \\BRaTS2023 ┆ \\BRaTS2023 ┆ 662841797 ┆        │\n",
       "│            ┆ \\ASNR-MICC ┆ \\ASNR-MICC ┆ \\ASNR-MICC ┆ \\ASNR-MICC ┆ \\ASNR-MICC ┆ , 107.570 ┆        │\n",
       "│            ┆ AI…        ┆ AI…        ┆ AI…        ┆ AI…        ┆ AI…        ┆ 64056…    ┆        │\n",
       "│ BraTS-GLI- ┆ E:\\dataset ┆ E:\\dataset ┆ E:\\dataset ┆ E:\\dataset ┆ E:\\dataset ┆ 110.19686 ┆ 0      │\n",
       "│ 01663-000  ┆ \\BRaTS2023 ┆ \\BRaTS2023 ┆ \\BRaTS2023 ┆ \\BRaTS2023 ┆ \\BRaTS2023 ┆ 889648438 ┆        │\n",
       "│            ┆ \\ASNR-MICC ┆ \\ASNR-MICC ┆ \\ASNR-MICC ┆ \\ASNR-MICC ┆ \\ASNR-MICC ┆ , 101.183 ┆        │\n",
       "│            ┆ AI…        ┆ AI…        ┆ AI…        ┆ AI…        ┆ AI…        ┆ 14361…    ┆        │\n",
       "│ BraTS-GLI- ┆ E:\\dataset ┆ E:\\dataset ┆ E:\\dataset ┆ E:\\dataset ┆ E:\\dataset ┆ 90.812263 ┆ 0      │\n",
       "│ 01664-000  ┆ \\BRaTS2023 ┆ \\BRaTS2023 ┆ \\BRaTS2023 ┆ \\BRaTS2023 ┆ \\BRaTS2023 ┆ 48876953, ┆        │\n",
       "│            ┆ \\ASNR-MICC ┆ \\ASNR-MICC ┆ \\ASNR-MICC ┆ \\ASNR-MICC ┆ \\ASNR-MICC ┆ 160.19366 ┆        │\n",
       "│            ┆ AI…        ┆ AI…        ┆ AI…        ┆ AI…        ┆ AI…        ┆ 4550…     ┆        │\n",
       "│ BraTS-GLI- ┆ E:\\dataset ┆ E:\\dataset ┆ E:\\dataset ┆ E:\\dataset ┆ E:\\dataset ┆ 66.896179 ┆ 0      │\n",
       "│ 01665-000  ┆ \\BRaTS2023 ┆ \\BRaTS2023 ┆ \\BRaTS2023 ┆ \\BRaTS2023 ┆ \\BRaTS2023 ┆ 19921875, ┆        │\n",
       "│            ┆ \\ASNR-MICC ┆ \\ASNR-MICC ┆ \\ASNR-MICC ┆ \\ASNR-MICC ┆ \\ASNR-MICC ┆ 139.31344 ┆        │\n",
       "│            ┆ AI…        ┆ AI…        ┆ AI…        ┆ AI…        ┆ AI…        ┆ 6044…     ┆        │\n",
       "│ BraTS-GLI- ┆ E:\\dataset ┆ E:\\dataset ┆ E:\\dataset ┆ E:\\dataset ┆ E:\\dataset ┆ 72.648468 ┆ 0      │\n",
       "│ 01666-000  ┆ \\BRaTS2023 ┆ \\BRaTS2023 ┆ \\BRaTS2023 ┆ \\BRaTS2023 ┆ \\BRaTS2023 ┆ 01757812, ┆        │\n",
       "│            ┆ \\ASNR-MICC ┆ \\ASNR-MICC ┆ \\ASNR-MICC ┆ \\ASNR-MICC ┆ \\ASNR-MICC ┆ 102.02146 ┆        │\n",
       "│            ┆ AI…        ┆ AI…        ┆ AI…        ┆ AI…        ┆ AI…        ┆ 9116…     ┆        │\n",
       "└────────────┴────────────┴────────────┴────────────┴────────────┴────────────┴───────────┴────────┘"
      ]
     },
     "execution_count": 4,
     "metadata": {},
     "output_type": "execute_result"
    }
   ],
   "source": [
    "df = pl.from_dict(df_dict)\n",
    "df"
   ]
  },
  {
   "cell_type": "code",
   "execution_count": 5,
   "metadata": {},
   "outputs": [],
   "source": [
    "df.write_csv(\"BRaTS2023-GLI.csv\")"
   ]
  },
  {
   "cell_type": "code",
   "execution_count": 6,
   "metadata": {},
   "outputs": [
    {
     "data": {
      "text/html": [
       "<div><style>\n",
       ".dataframe > thead > tr,\n",
       ".dataframe > tbody > tr {\n",
       "  text-align: right;\n",
       "  white-space: pre-wrap;\n",
       "}\n",
       "</style>\n",
       "<small>shape: (1_251, 9)</small><table border=\"1\" class=\"dataframe\"><thead><tr><th>id</th><th>seg</th><th>t1c</th><th>t1n</th><th>t2f</th><th>t2w</th><th>center</th><th>postop</th><th>src</th></tr><tr><td>str</td><td>str</td><td>str</td><td>str</td><td>str</td><td>str</td><td>list[i64]</td><td>i64</td><td>str</td></tr></thead><tbody><tr><td>&quot;BraTS-GLI-0000…</td><td>&quot;E:\\dataset\\BRa…</td><td>&quot;E:\\dataset\\BRa…</td><td>&quot;E:\\dataset\\BRa…</td><td>&quot;E:\\dataset\\BRa…</td><td>&quot;E:\\dataset\\BRa…</td><td>[70, 83, 139]</td><td>0</td><td>&quot;center&quot;</td></tr><tr><td>&quot;BraTS-GLI-0000…</td><td>&quot;E:\\dataset\\BRa…</td><td>&quot;E:\\dataset\\BRa…</td><td>&quot;E:\\dataset\\BRa…</td><td>&quot;E:\\dataset\\BRa…</td><td>&quot;E:\\dataset\\BRa…</td><td>[80, 95, 140]</td><td>0</td><td>&quot;center&quot;</td></tr><tr><td>&quot;BraTS-GLI-0000…</td><td>&quot;E:\\dataset\\BRa…</td><td>&quot;E:\\dataset\\BRa…</td><td>&quot;E:\\dataset\\BRa…</td><td>&quot;E:\\dataset\\BRa…</td><td>&quot;E:\\dataset\\BRa…</td><td>[107, 116, 133]</td><td>0</td><td>&quot;center&quot;</td></tr><tr><td>&quot;BraTS-GLI-0000…</td><td>&quot;E:\\dataset\\BRa…</td><td>&quot;E:\\dataset\\BRa…</td><td>&quot;E:\\dataset\\BRa…</td><td>&quot;E:\\dataset\\BRa…</td><td>&quot;E:\\dataset\\BRa…</td><td>[104, 149, 146]</td><td>0</td><td>&quot;center&quot;</td></tr><tr><td>&quot;BraTS-GLI-0000…</td><td>&quot;E:\\dataset\\BRa…</td><td>&quot;E:\\dataset\\BRa…</td><td>&quot;E:\\dataset\\BRa…</td><td>&quot;E:\\dataset\\BRa…</td><td>&quot;E:\\dataset\\BRa…</td><td>[74, 74, 128]</td><td>0</td><td>&quot;center&quot;</td></tr><tr><td>&hellip;</td><td>&hellip;</td><td>&hellip;</td><td>&hellip;</td><td>&hellip;</td><td>&hellip;</td><td>&hellip;</td><td>&hellip;</td><td>&hellip;</td></tr><tr><td>&quot;BraTS-GLI-0166…</td><td>&quot;E:\\dataset\\BRa…</td><td>&quot;E:\\dataset\\BRa…</td><td>&quot;E:\\dataset\\BRa…</td><td>&quot;E:\\dataset\\BRa…</td><td>&quot;E:\\dataset\\BRa…</td><td>[105, 107, 98]</td><td>0</td><td>&quot;center&quot;</td></tr><tr><td>&quot;BraTS-GLI-0166…</td><td>&quot;E:\\dataset\\BRa…</td><td>&quot;E:\\dataset\\BRa…</td><td>&quot;E:\\dataset\\BRa…</td><td>&quot;E:\\dataset\\BRa…</td><td>&quot;E:\\dataset\\BRa…</td><td>[110, 101, 143]</td><td>0</td><td>&quot;center&quot;</td></tr><tr><td>&quot;BraTS-GLI-0166…</td><td>&quot;E:\\dataset\\BRa…</td><td>&quot;E:\\dataset\\BRa…</td><td>&quot;E:\\dataset\\BRa…</td><td>&quot;E:\\dataset\\BRa…</td><td>&quot;E:\\dataset\\BRa…</td><td>[90, 160, 149]</td><td>0</td><td>&quot;center&quot;</td></tr><tr><td>&quot;BraTS-GLI-0166…</td><td>&quot;E:\\dataset\\BRa…</td><td>&quot;E:\\dataset\\BRa…</td><td>&quot;E:\\dataset\\BRa…</td><td>&quot;E:\\dataset\\BRa…</td><td>&quot;E:\\dataset\\BRa…</td><td>[66, 139, 80]</td><td>0</td><td>&quot;center&quot;</td></tr><tr><td>&quot;BraTS-GLI-0166…</td><td>&quot;E:\\dataset\\BRa…</td><td>&quot;E:\\dataset\\BRa…</td><td>&quot;E:\\dataset\\BRa…</td><td>&quot;E:\\dataset\\BRa…</td><td>&quot;E:\\dataset\\BRa…</td><td>[72, 102, 144]</td><td>0</td><td>&quot;center&quot;</td></tr></tbody></table></div>"
      ],
      "text/plain": [
       "shape: (1_251, 9)\n",
       "┌────────────┬────────────┬────────────┬────────────┬───┬────────────┬───────────┬────────┬────────┐\n",
       "│ id         ┆ seg        ┆ t1c        ┆ t1n        ┆ … ┆ t2w        ┆ center    ┆ postop ┆ src    │\n",
       "│ ---        ┆ ---        ┆ ---        ┆ ---        ┆   ┆ ---        ┆ ---       ┆ ---    ┆ ---    │\n",
       "│ str        ┆ str        ┆ str        ┆ str        ┆   ┆ str        ┆ list[i64] ┆ i64    ┆ str    │\n",
       "╞════════════╪════════════╪════════════╪════════════╪═══╪════════════╪═══════════╪════════╪════════╡\n",
       "│ BraTS-GLI- ┆ E:\\dataset ┆ E:\\dataset ┆ E:\\dataset ┆ … ┆ E:\\dataset ┆ [70, 83,  ┆ 0      ┆ center │\n",
       "│ 00000-000  ┆ \\BRaTS2023 ┆ \\BRaTS2023 ┆ \\BRaTS2023 ┆   ┆ \\BRaTS2023 ┆ 139]      ┆        ┆        │\n",
       "│            ┆ \\ASNR-MICC ┆ \\ASNR-MICC ┆ \\ASNR-MICC ┆   ┆ \\ASNR-MICC ┆           ┆        ┆        │\n",
       "│            ┆ AI…        ┆ AI…        ┆ AI…        ┆   ┆ AI…        ┆           ┆        ┆        │\n",
       "│ BraTS-GLI- ┆ E:\\dataset ┆ E:\\dataset ┆ E:\\dataset ┆ … ┆ E:\\dataset ┆ [80, 95,  ┆ 0      ┆ center │\n",
       "│ 00002-000  ┆ \\BRaTS2023 ┆ \\BRaTS2023 ┆ \\BRaTS2023 ┆   ┆ \\BRaTS2023 ┆ 140]      ┆        ┆        │\n",
       "│            ┆ \\ASNR-MICC ┆ \\ASNR-MICC ┆ \\ASNR-MICC ┆   ┆ \\ASNR-MICC ┆           ┆        ┆        │\n",
       "│            ┆ AI…        ┆ AI…        ┆ AI…        ┆   ┆ AI…        ┆           ┆        ┆        │\n",
       "│ BraTS-GLI- ┆ E:\\dataset ┆ E:\\dataset ┆ E:\\dataset ┆ … ┆ E:\\dataset ┆ [107,     ┆ 0      ┆ center │\n",
       "│ 00003-000  ┆ \\BRaTS2023 ┆ \\BRaTS2023 ┆ \\BRaTS2023 ┆   ┆ \\BRaTS2023 ┆ 116, 133] ┆        ┆        │\n",
       "│            ┆ \\ASNR-MICC ┆ \\ASNR-MICC ┆ \\ASNR-MICC ┆   ┆ \\ASNR-MICC ┆           ┆        ┆        │\n",
       "│            ┆ AI…        ┆ AI…        ┆ AI…        ┆   ┆ AI…        ┆           ┆        ┆        │\n",
       "│ BraTS-GLI- ┆ E:\\dataset ┆ E:\\dataset ┆ E:\\dataset ┆ … ┆ E:\\dataset ┆ [104,     ┆ 0      ┆ center │\n",
       "│ 00005-000  ┆ \\BRaTS2023 ┆ \\BRaTS2023 ┆ \\BRaTS2023 ┆   ┆ \\BRaTS2023 ┆ 149, 146] ┆        ┆        │\n",
       "│            ┆ \\ASNR-MICC ┆ \\ASNR-MICC ┆ \\ASNR-MICC ┆   ┆ \\ASNR-MICC ┆           ┆        ┆        │\n",
       "│            ┆ AI…        ┆ AI…        ┆ AI…        ┆   ┆ AI…        ┆           ┆        ┆        │\n",
       "│ BraTS-GLI- ┆ E:\\dataset ┆ E:\\dataset ┆ E:\\dataset ┆ … ┆ E:\\dataset ┆ [74, 74,  ┆ 0      ┆ center │\n",
       "│ 00006-000  ┆ \\BRaTS2023 ┆ \\BRaTS2023 ┆ \\BRaTS2023 ┆   ┆ \\BRaTS2023 ┆ 128]      ┆        ┆        │\n",
       "│            ┆ \\ASNR-MICC ┆ \\ASNR-MICC ┆ \\ASNR-MICC ┆   ┆ \\ASNR-MICC ┆           ┆        ┆        │\n",
       "│            ┆ AI…        ┆ AI…        ┆ AI…        ┆   ┆ AI…        ┆           ┆        ┆        │\n",
       "│ …          ┆ …          ┆ …          ┆ …          ┆ … ┆ …          ┆ …         ┆ …      ┆ …      │\n",
       "│ BraTS-GLI- ┆ E:\\dataset ┆ E:\\dataset ┆ E:\\dataset ┆ … ┆ E:\\dataset ┆ [105,     ┆ 0      ┆ center │\n",
       "│ 01662-000  ┆ \\BRaTS2023 ┆ \\BRaTS2023 ┆ \\BRaTS2023 ┆   ┆ \\BRaTS2023 ┆ 107, 98]  ┆        ┆        │\n",
       "│            ┆ \\ASNR-MICC ┆ \\ASNR-MICC ┆ \\ASNR-MICC ┆   ┆ \\ASNR-MICC ┆           ┆        ┆        │\n",
       "│            ┆ AI…        ┆ AI…        ┆ AI…        ┆   ┆ AI…        ┆           ┆        ┆        │\n",
       "│ BraTS-GLI- ┆ E:\\dataset ┆ E:\\dataset ┆ E:\\dataset ┆ … ┆ E:\\dataset ┆ [110,     ┆ 0      ┆ center │\n",
       "│ 01663-000  ┆ \\BRaTS2023 ┆ \\BRaTS2023 ┆ \\BRaTS2023 ┆   ┆ \\BRaTS2023 ┆ 101, 143] ┆        ┆        │\n",
       "│            ┆ \\ASNR-MICC ┆ \\ASNR-MICC ┆ \\ASNR-MICC ┆   ┆ \\ASNR-MICC ┆           ┆        ┆        │\n",
       "│            ┆ AI…        ┆ AI…        ┆ AI…        ┆   ┆ AI…        ┆           ┆        ┆        │\n",
       "│ BraTS-GLI- ┆ E:\\dataset ┆ E:\\dataset ┆ E:\\dataset ┆ … ┆ E:\\dataset ┆ [90, 160, ┆ 0      ┆ center │\n",
       "│ 01664-000  ┆ \\BRaTS2023 ┆ \\BRaTS2023 ┆ \\BRaTS2023 ┆   ┆ \\BRaTS2023 ┆ 149]      ┆        ┆        │\n",
       "│            ┆ \\ASNR-MICC ┆ \\ASNR-MICC ┆ \\ASNR-MICC ┆   ┆ \\ASNR-MICC ┆           ┆        ┆        │\n",
       "│            ┆ AI…        ┆ AI…        ┆ AI…        ┆   ┆ AI…        ┆           ┆        ┆        │\n",
       "│ BraTS-GLI- ┆ E:\\dataset ┆ E:\\dataset ┆ E:\\dataset ┆ … ┆ E:\\dataset ┆ [66, 139, ┆ 0      ┆ center │\n",
       "│ 01665-000  ┆ \\BRaTS2023 ┆ \\BRaTS2023 ┆ \\BRaTS2023 ┆   ┆ \\BRaTS2023 ┆ 80]       ┆        ┆        │\n",
       "│            ┆ \\ASNR-MICC ┆ \\ASNR-MICC ┆ \\ASNR-MICC ┆   ┆ \\ASNR-MICC ┆           ┆        ┆        │\n",
       "│            ┆ AI…        ┆ AI…        ┆ AI…        ┆   ┆ AI…        ┆           ┆        ┆        │\n",
       "│ BraTS-GLI- ┆ E:\\dataset ┆ E:\\dataset ┆ E:\\dataset ┆ … ┆ E:\\dataset ┆ [72, 102, ┆ 0      ┆ center │\n",
       "│ 01666-000  ┆ \\BRaTS2023 ┆ \\BRaTS2023 ┆ \\BRaTS2023 ┆   ┆ \\BRaTS2023 ┆ 144]      ┆        ┆        │\n",
       "│            ┆ \\ASNR-MICC ┆ \\ASNR-MICC ┆ \\ASNR-MICC ┆   ┆ \\ASNR-MICC ┆           ┆        ┆        │\n",
       "│            ┆ AI…        ┆ AI…        ┆ AI…        ┆   ┆ AI…        ┆           ┆        ┆        │\n",
       "└────────────┴────────────┴────────────┴────────────┴───┴────────────┴───────────┴────────┴────────┘"
      ]
     },
     "execution_count": 6,
     "metadata": {},
     "output_type": "execute_result"
    }
   ],
   "source": [
    "from glio.datasets.BRaTS2023 import BRaTS2023_GBM\n",
    "\n",
    "ds = BRaTS2023_GBM()\n",
    "ds.data"
   ]
  }
 ],
 "metadata": {
  "kernelspec": {
   "display_name": "audio310",
   "language": "python",
   "name": "python3"
  },
  "language_info": {
   "codemirror_mode": {
    "name": "ipython",
    "version": 3
   },
   "file_extension": ".py",
   "mimetype": "text/x-python",
   "name": "python",
   "nbconvert_exporter": "python",
   "pygments_lexer": "ipython3",
   "version": "3.11.5"
  }
 },
 "nbformat": 4,
 "nbformat_minor": 2
}
