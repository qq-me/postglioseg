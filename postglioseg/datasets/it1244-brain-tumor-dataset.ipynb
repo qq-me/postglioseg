{
 "cells": [
  {
   "cell_type": "code",
   "execution_count": 1,
   "metadata": {},
   "outputs": [
    {
     "data": {
      "text/plain": [
       "(tensor([[[0.0000, 0.0549, 0.1176,  ..., 0.0078, 0.0078, 0.0078],\n",
       "          [0.0196, 0.0078, 0.0000,  ..., 0.0000, 0.0000, 0.0000],\n",
       "          [0.0510, 0.0000, 0.0353,  ..., 0.0000, 0.0000, 0.0000],\n",
       "          ...,\n",
       "          [0.0235, 0.0235, 0.0235,  ..., 0.0196, 0.0196, 0.0196],\n",
       "          [0.0000, 0.0000, 0.0000,  ..., 0.0000, 0.0000, 0.0000],\n",
       "          [0.0510, 0.0510, 0.0510,  ..., 0.0471, 0.0471, 0.0471]],\n",
       " \n",
       "         [[0.1608, 0.2275, 0.2745,  ..., 0.2000, 0.2000, 0.2000],\n",
       "          [0.1961, 0.1725, 0.1294,  ..., 0.2000, 0.2000, 0.2000],\n",
       "          [0.2275, 0.1608, 0.1882,  ..., 0.1922, 0.1922, 0.1922],\n",
       "          ...,\n",
       "          [0.0275, 0.0275, 0.0275,  ..., 0.0314, 0.0314, 0.0314],\n",
       "          [0.0157, 0.0157, 0.0157,  ..., 0.0235, 0.0235, 0.0235],\n",
       "          [0.0902, 0.0902, 0.0902,  ..., 0.0980, 0.0980, 0.0980]],\n",
       " \n",
       "         [[0.4235, 0.4824, 0.5176,  ..., 0.3569, 0.3569, 0.3569],\n",
       "          [0.4275, 0.4000, 0.3451,  ..., 0.3843, 0.3843, 0.3843],\n",
       "          [0.3922, 0.3255, 0.3412,  ..., 0.4471, 0.4471, 0.4471],\n",
       "          ...,\n",
       "          [0.0078, 0.0078, 0.0078,  ..., 0.0039, 0.0039, 0.0039],\n",
       "          [0.0000, 0.0000, 0.0000,  ..., 0.0000, 0.0000, 0.0000],\n",
       "          [0.0471, 0.0471, 0.0471,  ..., 0.0314, 0.0314, 0.0314]]]),\n",
       " 0)"
      ]
     },
     "execution_count": 1,
     "metadata": {},
     "output_type": "execute_result"
    }
   ],
   "source": [
    "from glio.data import DSTorch\n",
    "from glio.loaders.image import read\n",
    "from glio.transforms import ToChannels\n",
    "# from ..data import DSTorch\n",
    "# from ..loaders.image import read\n",
    "# from ..transforms import ToChannels\n",
    "from torchvision.transforms import v2\n",
    "\n",
    "MEAN = (0.24678757306068175, 0.24703404547706728, 0.24739312260381638)\n",
    "STD = (0.24678757306068175, 0.24703404547706728, 0.24739312260381638)\n",
    "loader = read\n",
    "def get_dataset(path = \"D:/datasets/it1244-brain-tumor-dataset/data\", loader = v2.Compose([read, ToChannels(3)])):\n",
    "    ds = DSTorch.DSClassification()\n",
    "    with open(f\"{path}/train/data.csv\", 'r') as f:\n",
    "        for i, line in enumerate(f):\n",
    "            num, label = line.strip().replace(\"\\ufeff\", '').split(',')\n",
    "            ds.add_sample(f\"{path}/train/{num}.jpg\", target = label, loader=loader)\n",
    "    return ds\n",
    "ds = get_dataset()\n",
    "ds[0]\n"
   ]
  },
  {
   "cell_type": "code",
   "execution_count": 2,
   "metadata": {},
   "outputs": [
    {
     "name": "stderr",
     "output_type": "stream",
     "text": [
      "d:\\miniconda3\\envs\\pytorch311\\Lib\\site-packages\\torchvision\\transforms\\functional.py:1603: UserWarning: The default value of the antialias parameter of all the resizing transforms (Resize(), RandomResizedCrop(), etc.) will change from None to True in v0.17, in order to be consistent across the PIL and Tensor backends. To suppress this warning, directly pass antialias=True (recommended, future default), antialias=None (current default, which means False for Tensors and True for PIL), or antialias=False (only works on Tensors - PIL will still use antialiasing). This also applies if you are using the inference transforms from the models weights: update the call to weights.transforms(antialias=True).\n",
      "  warnings.warn(\n"
     ]
    },
    {
     "name": "stdout",
     "output_type": "stream",
     "text": [
      "tensor([0.2466959655, 0.2469369471, 0.2472953051])\n",
      "tensor([0.2389927208, 0.2390660942, 0.2392502129])\n"
     ]
    }
   ],
   "source": [
    "ds.add_loader(v2.Resize((224,224)))\n",
    "import torch\n",
    "torch.set_printoptions(precision=10)\n",
    "mean, std = ds.get_mean_std(10000, 16)\n",
    "print(mean)\n",
    "print(std)"
   ]
  },
  {
   "cell_type": "code",
   "execution_count": 3,
   "metadata": {},
   "outputs": [
    {
     "data": {
      "text/plain": [
       "(Compose(\n",
       "       <function read at 0x00000218448E3D80>\n",
       "       ToChannels()\n",
       " ),\n",
       " Resize(size=[224, 224], interpolation=InterpolationMode.BILINEAR, antialias=warn))"
      ]
     },
     "execution_count": 3,
     "metadata": {},
     "output_type": "execute_result"
    }
   ],
   "source": [
    "ds.samples[0].loader.transforms"
   ]
  }
 ],
 "metadata": {
  "kernelspec": {
   "display_name": "pytorch311",
   "language": "python",
   "name": "python3"
  },
  "language_info": {
   "codemirror_mode": {
    "name": "ipython",
    "version": 3
   },
   "file_extension": ".py",
   "mimetype": "text/x-python",
   "name": "python",
   "nbconvert_exporter": "python",
   "pygments_lexer": "ipython3",
   "version": "3.11.5"
  }
 },
 "nbformat": 4,
 "nbformat_minor": 2
}
